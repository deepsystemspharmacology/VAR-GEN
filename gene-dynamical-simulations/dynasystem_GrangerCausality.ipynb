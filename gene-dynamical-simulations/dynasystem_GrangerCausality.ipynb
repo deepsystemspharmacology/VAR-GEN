{
 "cells": [
  {
   "cell_type": "markdown",
   "metadata": {},
   "source": [
    "\\begin{equation}\n",
    "    Y_t = \\sum_{i=1}^k \\alpha_{i} Y_{t-i}  + \\sum_{i=1}^k \\beta_{i} X_{t-i} + \\epsilon_t\n",
    "\\end{equation}"
   ]
  },
  {
   "cell_type": "code",
   "execution_count": 18,
   "metadata": {
    "collapsed": false
   },
   "outputs": [
    {
     "data": {
      "image/png": "[encoded data removed]",
      "text/plain": [
       "<matplotlib.figure.Figure at 0x1060db550>"
      ]
     },
     "metadata": {},
     "output_type": "display_data"
    }
   ],
   "source": [
    "# Scratch work\n",
    "\n",
    "import numpy as np\n",
    "\n",
    "u = np.random.normal(loc=12, scale=1.5, size=100)\n",
    "s = np.random.normal(loc=10, scale=2.0, size=100)\n",
    "bins = np.linspace(6, 16, 15)\n",
    "\n",
    "import matplotlib.pyplot as plt\n",
    "%matplotlib inline\n",
    "\n",
    "plt.figure()\n",
    "plt.hist(u, alpha=0.5, color = 'red', label=\"Unshuffled\", bins=bins )\n",
    "plt.hist(s, alpha=0.5, color = 'blue', label=\"Shuffled\", bins=bins)\n",
    "plt.xlim(4,20)\n",
    "plt.ylim(0, 24)\n",
    "plt.xlabel(\"Causal Value\", fontsize=20)\n",
    "plt.axvline(x = 14, label=\"Threshold\", color='black', linestyle='dashed', linewidth=3.0)\n",
    "plt.title(\"FDR Control\", fontsize=20)\n",
    "plt.ylabel(\"Count\", fontsize=20)\n",
    "plt.legend()\n",
    "plt.show()"
   ]
  },
  {
   "cell_type": "markdown",
   "metadata": {},
   "source": [
    "$\\frac{ \\text{# Shuffled }}{\\text{# Shuffled + # Unshuffled}} "
   ]
  },
  {
   "cell_type": "code",
   "execution_count": 3,
   "metadata": {
    "collapsed": true
   },
   "outputs": [],
   "source": [
    "import scipy.io as io\n",
    "import numpy as np\n",
    "import collections\n",
    "import os\n",
    "import copy"
   ]
  },
  {
   "cell_type": "markdown",
   "metadata": {},
   "source": [
    "#### Plot for Z -> X -> Y: Pairwise Granger Causality\n",
    "Edited output figure format/directory: 4/9/17"
   ]
  },
  {
   "cell_type": "code",
   "execution_count": 51,
   "metadata": {
    "collapsed": false,
    "scrolled": true
   },
   "outputs": [
    {
     "name": "stdout",
     "output_type": "stream",
     "text": [
      "\u001b[31mPGC.R\u001b[m\u001b[m                              \u001b[31mPGC_run_VARS_3_.mat\u001b[m\u001b[m\r\n",
      "\u001b[31mPGC_VAR.r\u001b[m\u001b[m                          \u001b[31mPGC_run_VARS_4_.mat\u001b[m\u001b[m\r\n",
      "\u001b[31mPGC_p_1_.csv\u001b[m\u001b[m                       \u001b[31mPGC_run_VARS_5_.mat\u001b[m\u001b[m\r\n",
      "\u001b[31mPGC_p_1_.mat\u001b[m\u001b[m                       \u001b[31mPGC_run_VARS_6_.mat\u001b[m\u001b[m\r\n",
      "\u001b[31mPGC_p_2_.csv\u001b[m\u001b[m                       \u001b[31mPGC_run_VARS_7_.mat\u001b[m\u001b[m\r\n",
      "\u001b[31mPGC_p_2_.mat\u001b[m\u001b[m                       \u001b[31mPGC_run_VARS_8_.mat\u001b[m\u001b[m\r\n",
      "\u001b[31mPGC_p_3_.csv\u001b[m\u001b[m                       \u001b[31mPGC_run_VARS_9_.mat\u001b[m\u001b[m\r\n",
      "\u001b[31mPGC_p_3_.mat\u001b[m\u001b[m                       \u001b[31mPGCrun.R\u001b[m\u001b[m\r\n",
      "\u001b[31mPGC_p_4_.csv\u001b[m\u001b[m                       \u001b[31mPGCrun_VAR.r\u001b[m\u001b[m\r\n",
      "\u001b[31mPGC_p_4_.mat\u001b[m\u001b[m                       \u001b[31mexpression_ZXYA_200000_Z->X->Y.mat\u001b[m\u001b[m\r\n",
      "\u001b[31mPGC_p_5_.csv\u001b[m\u001b[m                       \u001b[31mpython_PGC_p_1_.mat\u001b[m\u001b[m\r\n",
      "\u001b[31mPGC_p_5_.mat\u001b[m\u001b[m                       \u001b[31mpython_PGC_p_2_.mat\u001b[m\u001b[m\r\n",
      "\u001b[31mPGC_p_6_.csv\u001b[m\u001b[m                       \u001b[31mpython_PGC_p_3_.mat\u001b[m\u001b[m\r\n",
      "\u001b[31mPGC_p_6_.mat\u001b[m\u001b[m                       \u001b[31mpython_PGC_p_4_.mat\u001b[m\u001b[m\r\n",
      "\u001b[31mPGC_p_7_.csv\u001b[m\u001b[m                       \u001b[31mpython_PGC_p_5_.mat\u001b[m\u001b[m\r\n",
      "\u001b[31mPGC_p_7_.mat\u001b[m\u001b[m                       \u001b[31mpython_PGC_p_6_.mat\u001b[m\u001b[m\r\n",
      "\u001b[31mPGC_p_8_.csv\u001b[m\u001b[m                       \u001b[31mpython_PGC_p_7_.mat\u001b[m\u001b[m\r\n",
      "\u001b[31mPGC_p_8_.mat\u001b[m\u001b[m                       \u001b[31mpython_PGC_p_8_.mat\u001b[m\u001b[m\r\n",
      "\u001b[31mPGC_p_9_.csv\u001b[m\u001b[m                       \u001b[31mpython_PGC_p_9_.mat\u001b[m\u001b[m\r\n",
      "\u001b[31mPGC_p_9_.mat\u001b[m\u001b[m                       \u001b[31mworkspace.RData\u001b[m\u001b[m\r\n",
      "\u001b[31mPGC_run_VARS_1_.mat\u001b[m\u001b[m                \u001b[31mworkspace_B.RData\u001b[m\u001b[m\r\n",
      "\u001b[31mPGC_run_VARS_2_.mat\u001b[m\u001b[m\r\n"
     ]
    }
   ],
   "source": [
    "gcdir =  'granger-causality/ZactXactY_R/PGC/'\n",
    "model = 'Z->X->Y'\n",
    "model_orders = range(1,10)\n",
    "outfile = \"for_figures/plots/\" + model.replace(\"->\", \"act\") + \"_\" + \"p_matrix.pdf\"\n",
    "#outfile = outfile[:-4] + \".png\"\n",
    "savefig = True\n",
    "\n",
    "\n",
    "\n",
    "!ls $gcdir\n",
    "filelist = [gcdir + 'PGC_p_' + str(i) + \"_.mat\" for i in model_orders]\n",
    "\n",
    "matrices_dict = collections.OrderedDict()\n",
    "\n",
    "for matr_file in filelist:\n",
    "    mat_dict = io.loadmat(matr_file, appendmat=False)\n",
    "    matrices_dict[matr_file] = mat_dict[mat_dict.keys()[0]]\n",
    "    matrices_dict[matr_file][np.where(matrices_dict[matr_file] == 0)] = 1"
   ]
  },
  {
   "cell_type": "code",
   "execution_count": 52,
   "metadata": {
    "collapsed": false,
    "scrolled": false
   },
   "outputs": [
    {
     "name": "stdout",
     "output_type": "stream",
     "text": [
      "Max value is  6\n",
      "Min value is  2\n",
      "Saved to  for_figures/plots/ZactXactY_p_matrix.pdf\n"
     ]
    },
    {
     "data": {
      "image/png": "[encoded data removed]",
      "text/plain": [
       "<matplotlib.figure.Figure at 0x106f20350>"
      ]
     },
     "metadata": {},
     "output_type": "display_data"
    }
   ],
   "source": [
    "# display the p-values of interactions\n",
    "\n",
    "import matplotlib.pyplot as plt\n",
    "import matplotlib as mpl\n",
    "\n",
    "%matplotlib inline\n",
    "\n",
    "classes = ['Z', 'X', 'Y', 'A']\n",
    "cmap=copy.deepcopy(plt.cm.Blues)\n",
    "cmap.set_over(\"k\")\n",
    "cmap.set_under(\"w\")\n",
    "\n",
    "\n",
    "max_value = 6 #int(np.max(-np.log10(np.array(matrices_dict.values()))))\n",
    "print \"Max value is \", max_value\n",
    "min_value = 2\n",
    "print \"Min value is \", min_value\n",
    "# do a bonferonni correction\n",
    "\n",
    "fig = plt.figure(figsize=(6,5))\n",
    "fig_ax = fig.add_subplot(1,1,1)\n",
    "\n",
    "\n",
    "# fig.text(0.5, 0.98, 'Granger Causality on ' + str(model), ha='center', fontsize=25)\n",
    "# plt.ylabel('Cause Gene', fontsize=15)\n",
    "# plt.xlabel('Effect Gene', fontsize=15)\n",
    "# plt.title(\"Granger Causality of \" + str(model), fontsize=25)\n",
    "\n",
    "for i in range(len(model_orders)):\n",
    "    p = model_orders[i]\n",
    "    matr_file = matrices_dict.keys()[i]\n",
    "    \n",
    "    \n",
    "    title = str(p)\n",
    "    \n",
    "    \n",
    "    # First normalize into recalls.\n",
    "    cm = -np.log10(matrices_dict[matr_file])\n",
    "    \n",
    "    ax = plt.subplot(3,3, i+1)\n",
    "    im = ax.imshow(cm, interpolation='nearest', cmap=cmap, clim=(min_value, max_value))\n",
    "    ax.set_title(title, fontsize=20)\n",
    "    tick_marks = np.arange(len(classes))\n",
    "    plt.xticks(tick_marks, classes, fontsize=14)\n",
    "    plt.yticks(tick_marks, classes, fontsize=14)\n",
    "\n",
    "    \n",
    "position = fig.add_axes([0.85, 0.08, 0.02, 0.85])\n",
    "# cax, kw = mpl.colorbar.make_axes(fig_ax)\n",
    "\n",
    "cb = mpl.colorbar.colorbar_factory(position, im, extend=\"both\")\n",
    "cb.ax.tick_params(labelsize=14)\n",
    "cb.set_label(\"- log p-value\", rotation=90, fontsize=20)\n",
    "\n",
    "plt.tight_layout()\n",
    "plt.subplots_adjust(left=0.1, right=0.85, top=0.9, bottom=0.12)\n",
    "fig.text(0.48, 0.01, 'Effect Gene', ha='center', fontsize=20)\n",
    "fig.text(0.03, 0.5, 'Causal Gene', va='center', rotation='vertical', fontsize=20)\n",
    "\n",
    "\n",
    "if savefig:\n",
    "    print \"Saved to \", outfile\n",
    "    fig.savefig(outfile)\n",
    "\n",
    "\n",
    "plt.show()"
   ]
  },
  {
   "cell_type": "markdown",
   "metadata": {},
   "source": [
    "# Plot for Z -> X, Z -> Y, pairwise granger causality"
   ]
  },
  {
   "cell_type": "code",
   "execution_count": 53,
   "metadata": {
    "collapsed": false,
    "scrolled": true
   },
   "outputs": [
    {
     "name": "stdout",
     "output_type": "stream",
     "text": [
      "\u001b[31mPGC.R\u001b[m\u001b[m                                \u001b[31mPGC_p_6_.mat\u001b[m\u001b[m\r\n",
      "\u001b[31mPGC_p_1_.mat\u001b[m\u001b[m                         \u001b[31mPGC_p_7_.mat\u001b[m\u001b[m\r\n",
      "\u001b[31mPGC_p_2_.mat\u001b[m\u001b[m                         \u001b[31mPGC_p_8_.mat\u001b[m\u001b[m\r\n",
      "\u001b[31mPGC_p_3_.mat\u001b[m\u001b[m                         \u001b[31mPGC_p_9_.mat\u001b[m\u001b[m\r\n",
      "\u001b[31mPGC_p_4_.mat\u001b[m\u001b[m                         \u001b[31mPGCrun.R\u001b[m\u001b[m\r\n",
      "\u001b[31mPGC_p_5_.mat\u001b[m\u001b[m                         \u001b[31mexpression_ZXYA_200000_Z->X-Z->Y.mat\u001b[m\u001b[m\r\n"
     ]
    }
   ],
   "source": [
    "import scipy.io as io\n",
    "import numpy as np\n",
    "import collections\n",
    "import os\n",
    "\n",
    "gcdir =  'granger-causality/ZactX-ZactY_R/PGC/'\n",
    "model = 'Z->X-Z->Y'\n",
    "model_orders = range(1,10)\n",
    "outfile = \"for_figures/plots/\" + model.replace(\"->\", \"act\") + \"_\" + \"p_matrix.pdf\"\n",
    "savefig = True\n",
    "\n",
    "\n",
    "!ls $gcdir\n",
    "filelist = [gcdir + 'PGC_p_' + str(i) + \"_.mat\" for i in model_orders]\n",
    "\n",
    "matrices_dict = collections.OrderedDict()\n",
    "\n",
    "for matr_file in filelist:\n",
    "    mat_dict = io.loadmat(matr_file, appendmat=False)\n",
    "    matrices_dict[matr_file] = mat_dict[mat_dict.keys()[0]]\n",
    "    matrices_dict[matr_file][np.where(matrices_dict[matr_file] == 0)] = 1"
   ]
  },
  {
   "cell_type": "code",
   "execution_count": 54,
   "metadata": {
    "collapsed": false,
    "scrolled": true
   },
   "outputs": [
    {
     "name": "stdout",
     "output_type": "stream",
     "text": [
      "Max value is  6\n",
      "Min value is  2\n",
      "Saved to  for_figures/plots/ZactX-ZactY_p_matrix.pdf\n"
     ]
    },
    {
     "data": {
      "image/png": "[encoded data removed]",
      "text/plain": [
       "<matplotlib.figure.Figure at 0x1069f7e50>"
      ]
     },
     "metadata": {},
     "output_type": "display_data"
    }
   ],
   "source": [
    "# display the p-values of interactions\n",
    "\n",
    "import matplotlib.pyplot as plt\n",
    "import matplotlib as mpl\n",
    "\n",
    "%matplotlib inline\n",
    "\n",
    "classes = ['Z', 'X', 'Y', 'A']\n",
    "cmap=copy.deepcopy(plt.cm.Blues)\n",
    "cmap.set_over(\"k\")\n",
    "cmap.set_under(\"w\")\n",
    "\n",
    "\n",
    "max_value = 6 #int(np.max(-np.log10(np.array(matrices_dict.values()))))\n",
    "print \"Max value is \", max_value\n",
    "min_value = 2\n",
    "print \"Min value is \", min_value\n",
    "# do a bonferonni correction\n",
    "\n",
    "fig = plt.figure(figsize=(6,5))\n",
    "fig_ax = fig.add_subplot(1,1,1)\n",
    "\n",
    "\n",
    "# fig.text(0.5, 0.98, 'Granger Causality on ' + str(model), ha='center', fontsize=25)\n",
    "# plt.ylabel('Cause Gene', fontsize=15)\n",
    "# plt.xlabel('Effect Gene', fontsize=15)\n",
    "# plt.title(\"Granger Causality of \" + str(model), fontsize=25)\n",
    "\n",
    "for i in range(len(model_orders)):\n",
    "    p = model_orders[i]\n",
    "    matr_file = matrices_dict.keys()[i]\n",
    "    \n",
    "    \n",
    "    title = str(p)\n",
    "    \n",
    "    \n",
    "    # First normalize into recalls.\n",
    "    cm = -np.log10(matrices_dict[matr_file])\n",
    "    \n",
    "    ax = plt.subplot(3,3, i+1)\n",
    "    im = ax.imshow(cm, interpolation='nearest', cmap=cmap, clim=(min_value, max_value))\n",
    "    ax.set_title(title, fontsize=20)\n",
    "    tick_marks = np.arange(len(classes))\n",
    "    plt.xticks(tick_marks, classes, fontsize=14)\n",
    "    plt.yticks(tick_marks, classes, fontsize=14)\n",
    "\n",
    "    \n",
    "position = fig.add_axes([0.85, 0.08, 0.02, 0.85])\n",
    "# cax, kw = mpl.colorbar.make_axes(fig_ax)\n",
    "\n",
    "cb = mpl.colorbar.colorbar_factory(position, im, extend=\"both\")\n",
    "cb.ax.tick_params(labelsize=14)\n",
    "cb.set_label(\"- log p-value\", rotation=90, fontsize=20)\n",
    "\n",
    "plt.tight_layout()\n",
    "plt.subplots_adjust(left=0.1, right=0.85, top=0.9, bottom=0.12)\n",
    "fig.text(0.48, 0.01, 'Effect Gene', ha='center', fontsize=20)\n",
    "fig.text(0.03, 0.5, 'Causal Gene', va='center', rotation='vertical', fontsize=20)\n",
    "\n",
    "\n",
    "if savefig:\n",
    "    print \"Saved to \", outfile\n",
    "    fig.savefig(outfile)\n",
    "\n",
    "\n",
    "plt.show()"
   ]
  },
  {
   "cell_type": "code",
   "execution_count": 22,
   "metadata": {
    "collapsed": true
   },
   "outputs": [],
   "source": [
    "#GRANGER CAUSALITY\n",
    "\n",
    "from sklearn import linear_model\n",
    "import scipy.stats as stats\n",
    "import itertools\n",
    "\n",
    "from scipy.spatial import cKDTree\n",
    "import numpy as np\n",
    "import matplotlib.pyplot as plt\n",
    "%matplotlib inline\n",
    "\n",
    "def get_lagged_vector(X_list, index, tau, E):\n",
    "    \"\"\"Generate lagged vector of X: (X[index], X[index - tau], ..., X[index - tau*E - 1]).\n",
    "    \n",
    "    :param X_list: list of X observations at equally spaced time intervals.\n",
    "    :param index: index to start from\n",
    "    :param tau: time lag\n",
    "    :param E: dimension of lagged vector\n",
    "    \n",
    "    :return: (X[index], X[index - tau], ..., X[index - tau*E - 1])\n",
    "    \"\"\"\n",
    "    assert index >= tau * (E - 1)\n",
    "    return [X_list[index - e * tau] for e in range(E)]\n",
    "\n",
    "\n",
    "def pairwise_granger_causality(i, j, p):\n",
    "    \"\"\"\n",
    "    Computes beta of fit and p-value of fit to determine if i granger causes j.\n",
    "    i and j must have length at least p (to construct lagged vectors)\n",
    "    Returns: beta of i on j, pvalue\n",
    "    \"\"\"\n",
    "    if len(i) != len(j):\n",
    "        raise ValueError(\"i and j must have same length\")\n",
    "    if len(i) < p:\n",
    "        raise ValueError(\"i and j must have at least length p\")\n",
    "    \n",
    "    T = len(i)\n",
    "    #lagged_i goes from p up to T, the length of i. It is a T-p matrix\n",
    "    lagged_i = np.array([get_lagged_vector(i, index, 1, p) for index in range(p-1, T-1)])\n",
    "    \n",
    "    lagged_j = np.array([get_lagged_vector(j, index, 1, p) for index in range(p-1, T-1)])\n",
    "    \n",
    "    target = np.array(j[p:T])\n",
    "    \n",
    "    print \"Length of vectors is \", T\n",
    "    print \"Model order is \", p\n",
    "    print \"shape of lagged vectors is \", lagged_i.shape\n",
    "    print \"Shapre of target is \", target.shape\n",
    "    \n",
    "    # Restricted classification\n",
    "    clf_j = linear_model.LinearRegression()\n",
    "    clf_j.fit(lagged_j, target)\n",
    "    pred_j = clf_j.predict(lagged_j)\n",
    "    \n",
    "    SSE_j = np.sum(np.power(target - pred_j, 2))\n",
    "    \n",
    "    # Unrestricted classification\n",
    "    clf_ij = linear_model.LinearRegression()\n",
    "    lagged_ij = np.concatenate((lagged_i, lagged_j), axis=1)\n",
    "    clf_ij.fit(lagged_ij, target)\n",
    "    pred_ij = clf_ij.predict(lagged_ij)\n",
    "    \n",
    "    SSE_ij = np.sum(np.power(target - pred_ij, 2))\n",
    "\n",
    "    \n",
    "    # Formula is taken from: http://pages.uoregon.edu/aarong/teaching/G4075_Outline/node4.html\n",
    "    # The variance explained by i itself compared to variance of just j\n",
    "    # IF i explains more variance then we reject\n",
    "    #DOF of first is p = 2p - p = # in ij fit - # in j fit (# of params added)\n",
    "    # DOF of bottom is is n - p - 1 (where p is the number of parameters in the bottom model)\n",
    "    F = ((SSE_j - SSE_ij) * 1.0 / p)/(SSE_ij/(len(target) - 2 * p - 1))\n",
    "\n",
    "    p_value = 1.0 - stats.f.cdf(F, p, len(target) - 2 * p - 1)\n",
    "    \n",
    "    return p_value\n",
    "\n",
    "def pairwise_granger_causality_all(matr, p):\n",
    "    \"\"\"\n",
    "    Assume matr is an n by T matrix, where n is number of genes, T is # timepoints.\n",
    "    \"\"\"\n",
    "    n, T = np.array(matr).shape\n",
    "    \n",
    "    new_matr = np.zeros(shape=(n,n))\n",
    "    \n",
    "    pairs = itertools.permutations(range(n), 2)\n",
    "    \n",
    "    for pair in pairs:\n",
    "        i, j = pair\n",
    "        new_matr[i][j] = pairwise_granger_causality(matr[i], matr[j], p)\n",
    "        \n",
    "    return new_matr\n",
    "    "
   ]
  },
  {
   "cell_type": "code",
   "execution_count": 23,
   "metadata": {
    "collapsed": false
   },
   "outputs": [
    {
     "name": "stdout",
     "output_type": "stream",
     "text": [
      "(4, 111)\n",
      "Length of vectors is  111\n",
      "Model order is  1\n",
      "shape of lagged vectors is  (110, 1)\n",
      "Shapre of target is  (110,)\n",
      "Length of vectors is  111\n",
      "Model order is  1\n",
      "shape of lagged vectors is  (110, 1)\n",
      "Shapre of target is  (110,)\n",
      "Length of vectors is  111\n",
      "Model order is  1\n",
      "shape of lagged vectors is  (110, 1)\n",
      "Shapre of target is  (110,)\n",
      "Length of vectors is  111\n",
      "Model order is  1\n",
      "shape of lagged vectors is  (110, 1)\n",
      "Shapre of target is  (110,)\n",
      "Length of vectors is  111\n",
      "Model order is  1\n",
      "shape of lagged vectors is  (110, 1)\n",
      "Shapre of target is  (110,)\n",
      "Length of vectors is  111\n",
      "Model order is  1\n",
      "shape of lagged vectors is  (110, 1)\n",
      "Shapre of target is  (110,)\n",
      "Length of vectors is  111\n",
      "Model order is  1\n",
      "shape of lagged vectors is  (110, 1)\n",
      "Shapre of target is  (110,)\n",
      "Length of vectors is  111\n",
      "Model order is  1\n",
      "shape of lagged vectors is  (110, 1)\n",
      "Shapre of target is  (110,)\n",
      "Length of vectors is  111\n",
      "Model order is  1\n",
      "shape of lagged vectors is  (110, 1)\n",
      "Shapre of target is  (110,)\n",
      "Length of vectors is  111\n",
      "Model order is  1\n",
      "shape of lagged vectors is  (110, 1)\n",
      "Shapre of target is  (110,)\n",
      "Length of vectors is  111\n",
      "Model order is  1\n",
      "shape of lagged vectors is  (110, 1)\n",
      "Shapre of target is  (110,)\n",
      "Length of vectors is  111\n",
      "Model order is  1\n",
      "shape of lagged vectors is  (110, 1)\n",
      "Shapre of target is  (110,)\n",
      "Length of vectors is  111\n",
      "Model order is  2\n",
      "shape of lagged vectors is  (109, 2)\n",
      "Shapre of target is  (109,)\n",
      "Length of vectors is  111\n",
      "Model order is  2\n",
      "shape of lagged vectors is  (109, 2)\n",
      "Shapre of target is  (109,)\n",
      "Length of vectors is  111\n",
      "Model order is  2\n",
      "shape of lagged vectors is  (109, 2)\n",
      "Shapre of target is  (109,)\n",
      "Length of vectors is  111\n",
      "Model order is  2\n",
      "shape of lagged vectors is  (109, 2)\n",
      "Shapre of target is  (109,)\n",
      "Length of vectors is  111\n",
      "Model order is  2\n",
      "shape of lagged vectors is  (109, 2)\n",
      "Shapre of target is  (109,)\n",
      "Length of vectors is  111\n",
      "Model order is  2\n",
      "shape of lagged vectors is  (109, 2)\n",
      "Shapre of target is  (109,)\n",
      "Length of vectors is  111\n",
      "Model order is  2\n",
      "shape of lagged vectors is  (109, 2)\n",
      "Shapre of target is  (109,)\n",
      "Length of vectors is  111\n",
      "Model order is  2\n",
      "shape of lagged vectors is  (109, 2)\n",
      "Shapre of target is  (109,)\n",
      "Length of vectors is  111\n",
      "Model order is  2\n",
      "shape of lagged vectors is  (109, 2)\n",
      "Shapre of target is  (109,)\n",
      "Length of vectors is  111\n",
      "Model order is  2\n",
      "shape of lagged vectors is  (109, 2)\n",
      "Shapre of target is  (109,)\n",
      "Length of vectors is  111\n",
      "Model order is  2\n",
      "shape of lagged vectors is  (109, 2)\n",
      "Shapre of target is  (109,)\n",
      "Length of vectors is  111\n",
      "Model order is  2\n",
      "shape of lagged vectors is  (109, 2)\n",
      "Shapre of target is  (109,)\n",
      "Length of vectors is  111\n",
      "Model order is  3\n",
      "shape of lagged vectors is  (108, 3)\n",
      "Shapre of target is  (108,)\n",
      "Length of vectors is  111\n",
      "Model order is  3\n",
      "shape of lagged vectors is  (108, 3)\n",
      "Shapre of target is  (108,)\n",
      "Length of vectors is  111\n",
      "Model order is  3\n",
      "shape of lagged vectors is  (108, 3)\n",
      "Shapre of target is  (108,)\n",
      "Length of vectors is  111\n",
      "Model order is  3\n",
      "shape of lagged vectors is  (108, 3)\n",
      "Shapre of target is  (108,)\n",
      "Length of vectors is  111\n",
      "Model order is  3\n",
      "shape of lagged vectors is  (108, 3)\n",
      "Shapre of target is  (108,)\n",
      "Length of vectors is  111\n",
      "Model order is  3\n",
      "shape of lagged vectors is  (108, 3)\n",
      "Shapre of target is  (108,)\n",
      "Length of vectors is  111\n",
      "Model order is  3\n",
      "shape of lagged vectors is  (108, 3)\n",
      "Shapre of target is  (108,)\n",
      "Length of vectors is  111\n",
      "Model order is  3\n",
      "shape of lagged vectors is  (108, 3)\n",
      "Shapre of target is  (108,)\n",
      "Length of vectors is  111\n",
      "Model order is  3\n",
      "shape of lagged vectors is  (108, 3)\n",
      "Shapre of target is  (108,)\n",
      "Length of vectors is  111\n",
      "Model order is  3\n",
      "shape of lagged vectors is  (108, 3)\n",
      "Shapre of target is  (108,)\n",
      "Length of vectors is  111\n",
      "Model order is  3\n",
      "shape of lagged vectors is  (108, 3)\n",
      "Shapre of target is  (108,)\n",
      "Length of vectors is  111\n",
      "Model order is  3\n",
      "shape of lagged vectors is  (108, 3)\n",
      "Shapre of target is  (108,)\n",
      "Length of vectors is  111\n",
      "Model order is  4\n",
      "shape of lagged vectors is  (107, 4)\n",
      "Shapre of target is  (107,)\n",
      "Length of vectors is  111\n",
      "Model order is  4\n",
      "shape of lagged vectors is  (107, 4)\n",
      "Shapre of target is  (107,)\n",
      "Length of vectors is  111\n",
      "Model order is  4\n",
      "shape of lagged vectors is  (107, 4)\n",
      "Shapre of target is  (107,)\n",
      "Length of vectors is  111\n",
      "Model order is  4\n",
      "shape of lagged vectors is  (107, 4)\n",
      "Shapre of target is  (107,)\n",
      "Length of vectors is  111\n",
      "Model order is  4\n",
      "shape of lagged vectors is  (107, 4)\n",
      "Shapre of target is  (107,)\n",
      "Length of vectors is  111\n",
      "Model order is  4\n",
      "shape of lagged vectors is  (107, 4)\n",
      "Shapre of target is  (107,)\n",
      "Length of vectors is  111\n",
      "Model order is  4\n",
      "shape of lagged vectors is  (107, 4)\n",
      "Shapre of target is  (107,)\n",
      "Length of vectors is  111\n",
      "Model order is  4\n",
      "shape of lagged vectors is  (107, 4)\n",
      "Shapre of target is  (107,)\n",
      "Length of vectors is  111\n",
      "Model order is  4\n",
      "shape of lagged vectors is  (107, 4)\n",
      "Shapre of target is  (107,)\n",
      "Length of vectors is  111\n",
      "Model order is  4\n",
      "shape of lagged vectors is  (107, 4)\n",
      "Shapre of target is  (107,)\n",
      "Length of vectors is  111\n",
      "Model order is  4\n",
      "shape of lagged vectors is  (107, 4)\n",
      "Shapre of target is  (107,)\n",
      "Length of vectors is  111\n",
      "Model order is  4\n",
      "shape of lagged vectors is  (107, 4)\n",
      "Shapre of target is  (107,)\n",
      "Length of vectors is  111\n",
      "Model order is  5\n",
      "shape of lagged vectors is  (106, 5)\n",
      "Shapre of target is  (106,)\n",
      "Length of vectors is  111\n",
      "Model order is  5\n",
      "shape of lagged vectors is  (106, 5)\n",
      "Shapre of target is  (106,)\n",
      "Length of vectors is  111\n",
      "Model order is  5\n",
      "shape of lagged vectors is  (106, 5)\n",
      "Shapre of target is  (106,)\n",
      "Length of vectors is  111\n",
      "Model order is  5\n",
      "shape of lagged vectors is  (106, 5)\n",
      "Shapre of target is  (106,)\n",
      "Length of vectors is  111\n",
      "Model order is  5\n",
      "shape of lagged vectors is  (106, 5)\n",
      "Shapre of target is  (106,)\n",
      "Length of vectors is  111\n",
      "Model order is  5\n",
      "shape of lagged vectors is  (106, 5)\n",
      "Shapre of target is  (106,)\n",
      "Length of vectors is  111\n",
      "Model order is  5\n",
      "shape of lagged vectors is  (106, 5)\n",
      "Shapre of target is  (106,)\n",
      "Length of vectors is  111\n",
      "Model order is  5\n",
      "shape of lagged vectors is  (106, 5)\n",
      "Shapre of target is  (106,)\n",
      "Length of vectors is  111\n",
      "Model order is  5\n",
      "shape of lagged vectors is  (106, 5)\n",
      "Shapre of target is  (106,)\n",
      "Length of vectors is  111\n",
      "Model order is  5\n",
      "shape of lagged vectors is  (106, 5)\n",
      "Shapre of target is  (106,)\n",
      "Length of vectors is  111\n",
      "Model order is  5\n",
      "shape of lagged vectors is  (106, 5)\n",
      "Shapre of target is  (106,)\n",
      "Length of vectors is  111\n",
      "Model order is  5\n",
      "shape of lagged vectors is  (106, 5)\n",
      "Shapre of target is  (106,)\n",
      "Length of vectors is  111\n",
      "Model order is  6\n",
      "shape of lagged vectors is  (105, 6)\n",
      "Shapre of target is  (105,)\n",
      "Length of vectors is  111\n",
      "Model order is  6\n",
      "shape of lagged vectors is  (105, 6)\n",
      "Shapre of target is  (105,)\n",
      "Length of vectors is  111\n",
      "Model order is  6\n",
      "shape of lagged vectors is  (105, 6)\n",
      "Shapre of target is  (105,)\n",
      "Length of vectors is  111\n",
      "Model order is  6\n",
      "shape of lagged vectors is  (105, 6)\n",
      "Shapre of target is  (105,)\n",
      "Length of vectors is  111\n",
      "Model order is  6\n",
      "shape of lagged vectors is  (105, 6)\n",
      "Shapre of target is  (105,)\n",
      "Length of vectors is  111\n",
      "Model order is  6\n",
      "shape of lagged vectors is  (105, 6)\n",
      "Shapre of target is  (105,)\n",
      "Length of vectors is  111\n",
      "Model order is  6\n",
      "shape of lagged vectors is  (105, 6)\n",
      "Shapre of target is  (105,)\n",
      "Length of vectors is  111\n",
      "Model order is  6\n",
      "shape of lagged vectors is  (105, 6)\n",
      "Shapre of target is  (105,)\n",
      "Length of vectors is  111\n",
      "Model order is  6\n",
      "shape of lagged vectors is  (105, 6)\n",
      "Shapre of target is  (105,)\n",
      "Length of vectors is  111\n",
      "Model order is  6\n",
      "shape of lagged vectors is  (105, 6)\n",
      "Shapre of target is  (105,)\n",
      "Length of vectors is  111\n",
      "Model order is  6\n",
      "shape of lagged vectors is  (105, 6)\n",
      "Shapre of target is  (105,)\n",
      "Length of vectors is  111\n",
      "Model order is  6\n",
      "shape of lagged vectors is  (105, 6)\n",
      "Shapre of target is  (105,)\n",
      "Length of vectors is  111\n",
      "Model order is  7\n",
      "shape of lagged vectors is  (104, 7)\n",
      "Shapre of target is  (104,)\n",
      "Length of vectors is  111\n",
      "Model order is  7\n",
      "shape of lagged vectors is  (104, 7)\n",
      "Shapre of target is  (104,)\n",
      "Length of vectors is  111\n",
      "Model order is  7\n",
      "shape of lagged vectors is  (104, 7)\n",
      "Shapre of target is  (104,)\n",
      "Length of vectors is  111\n",
      "Model order is  7\n",
      "shape of lagged vectors is  (104, 7)\n",
      "Shapre of target is  (104,)\n",
      "Length of vectors is  111\n",
      "Model order is  7\n",
      "shape of lagged vectors is  (104, 7)\n",
      "Shapre of target is  (104,)\n",
      "Length of vectors is  111\n",
      "Model order is  7\n",
      "shape of lagged vectors is  (104, 7)\n",
      "Shapre of target is  (104,)\n",
      "Length of vectors is  111\n",
      "Model order is  7\n",
      "shape of lagged vectors is  (104, 7)\n",
      "Shapre of target is  (104,)\n",
      "Length of vectors is  111\n",
      "Model order is  7\n",
      "shape of lagged vectors is  (104, 7)\n",
      "Shapre of target is  (104,)\n",
      "Length of vectors is  111\n",
      "Model order is  7\n",
      "shape of lagged vectors is  (104, 7)\n",
      "Shapre of target is  (104,)\n",
      "Length of vectors is  111\n",
      "Model order is  7\n",
      "shape of lagged vectors is  (104, 7)\n",
      "Shapre of target is  (104,)\n",
      "Length of vectors is  111\n",
      "Model order is  7\n",
      "shape of lagged vectors is  (104, 7)\n",
      "Shapre of target is  (104,)\n",
      "Length of vectors is  111\n",
      "Model order is  7\n",
      "shape of lagged vectors is  (104, 7)\n",
      "Shapre of target is  (104,)\n",
      "Length of vectors is  111\n",
      "Model order is  8\n",
      "shape of lagged vectors is  (103, 8)\n",
      "Shapre of target is  (103,)\n",
      "Length of vectors is  111\n",
      "Model order is  8\n",
      "shape of lagged vectors is  (103, 8)\n",
      "Shapre of target is  (103,)\n",
      "Length of vectors is  111\n",
      "Model order is  8\n",
      "shape of lagged vectors is  (103, 8)\n",
      "Shapre of target is  (103,)\n",
      "Length of vectors is  111\n",
      "Model order is  8\n",
      "shape of lagged vectors is  (103, 8)\n",
      "Shapre of target is  (103,)\n",
      "Length of vectors is  111\n",
      "Model order is  8\n",
      "shape of lagged vectors is  (103, 8)\n",
      "Shapre of target is  (103,)\n",
      "Length of vectors is  111\n",
      "Model order is  8\n",
      "shape of lagged vectors is  (103, 8)\n",
      "Shapre of target is  (103,)\n",
      "Length of vectors is  111\n",
      "Model order is  8\n",
      "shape of lagged vectors is  (103, 8)\n",
      "Shapre of target is  (103,)\n",
      "Length of vectors is  111\n",
      "Model order is  8\n",
      "shape of lagged vectors is  (103, 8)\n",
      "Shapre of target is  (103,)\n",
      "Length of vectors is  111\n",
      "Model order is  8\n",
      "shape of lagged vectors is  (103, 8)\n",
      "Shapre of target is  (103,)\n",
      "Length of vectors is  111\n",
      "Model order is  8\n",
      "shape of lagged vectors is  (103, 8)\n",
      "Shapre of target is  (103,)\n",
      "Length of vectors is  111\n",
      "Model order is  8\n",
      "shape of lagged vectors is  (103, 8)\n",
      "Shapre of target is  (103,)\n",
      "Length of vectors is  111\n",
      "Model order is  8\n",
      "shape of lagged vectors is  (103, 8)\n",
      "Shapre of target is  (103,)\n",
      "Length of vectors is  111\n",
      "Model order is  9\n",
      "shape of lagged vectors is  (102, 9)\n",
      "Shapre of target is  (102,)\n",
      "Length of vectors is  111\n",
      "Model order is  9\n",
      "shape of lagged vectors is  (102, 9)\n",
      "Shapre of target is  (102,)\n",
      "Length of vectors is  111\n",
      "Model order is  9\n",
      "shape of lagged vectors is  (102, 9)\n",
      "Shapre of target is  (102,)\n",
      "Length of vectors is  111\n",
      "Model order is  9\n",
      "shape of lagged vectors is  (102, 9)\n",
      "Shapre of target is  (102,)\n",
      "Length of vectors is  111\n",
      "Model order is  9\n",
      "shape of lagged vectors is  (102, 9)\n",
      "Shapre of target is  (102,)\n",
      "Length of vectors is  111\n",
      "Model order is  9\n",
      "shape of lagged vectors is  (102, 9)\n",
      "Shapre of target is  (102,)\n",
      "Length of vectors is  111\n",
      "Model order is  9\n",
      "shape of lagged vectors is  (102, 9)\n",
      "Shapre of target is  (102,)\n",
      "Length of vectors is  111\n",
      "Model order is  9\n",
      "shape of lagged vectors is  (102, 9)\n",
      "Shapre of target is  (102,)\n",
      "Length of vectors is  111\n",
      "Model order is  9\n",
      "shape of lagged vectors is  (102, 9)\n",
      "Shapre of target is  (102,)\n",
      "Length of vectors is  111\n",
      "Model order is  9\n",
      "shape of lagged vectors is  (102, 9)\n",
      "Shapre of target is  (102,)\n",
      "Length of vectors is  111\n",
      "Model order is  9\n",
      "shape of lagged vectors is  (102, 9)\n",
      "Shapre of target is  (102,)\n",
      "Length of vectors is  111\n",
      "Model order is  9\n",
      "shape of lagged vectors is  (102, 9)\n",
      "Shapre of target is  (102,)\n"
     ]
    }
   ],
   "source": [
    "from scipy import io\n",
    "\n",
    "\n",
    "outfilepref = \"granger-causality/ZactXactY_R/PGC/python_PGC\"\n",
    "data = io.loadmat(file_name=\"granger-causality/ZactXactY_R/PGC/expression_ZXYA_200000_Z->X->Y.mat\")[\"expression\"]\n",
    "print data.shape\n",
    "\n",
    "\n",
    "for p in range(1, 10):\n",
    "    B = pairwise_granger_causality_all(data, p)\n",
    "    \n",
    "    filename = outfilepref + \"_p_\" + str(p) + \"_.mat\"\n",
    "    \n",
    "    io.savemat(filename, {\"B_python\": B})\n",
    "    \n",
    "\n"
   ]
  },
  {
   "cell_type": "markdown",
   "metadata": {
    "collapsed": true
   },
   "source": [
    "# Test new granger causality"
   ]
  },
  {
   "cell_type": "code",
   "execution_count": 4,
   "metadata": {
    "collapsed": false
   },
   "outputs": [
    {
     "name": "stdout",
     "output_type": "stream",
     "text": [
      "Avg + STD loaded\n",
      "Randomized written to  ../data/GeneExpressionData/small_TPM-randomized.txt\n",
      "        t00       t05       t1_       t2_       t3_       t4_       t5_  \\\n",
      "0  0.000466 -0.000710  0.001036  0.002446 -0.000593  0.000287 -0.001110   \n",
      "1  0.001944  0.001253 -0.000280  0.000704 -0.002513 -0.001732 -0.006850   \n",
      "2  0.004336  0.010700  0.008688 -0.002444  0.001091 -0.000022  0.001504   \n",
      "3  0.154250  0.103241  0.132005  0.167655  0.210110  0.148455  0.121075   \n",
      "4  0.107607  0.148978  0.081421  0.006955  0.029222  0.039379  0.083964   \n",
      "\n",
      "        t6_       t7_       t8_       t10       t12  \n",
      "0  0.047217 -0.000168 -0.000043  0.000595 -0.000913  \n",
      "1 -0.007547  0.001417  0.036537  0.003223  0.002965  \n",
      "2  0.000854  0.000513  0.011895 -0.001113  0.011748  \n",
      "3  0.168695  0.134241  0.111858  0.054600  0.195073  \n",
      "4  0.032541  0.095341  0.066656  0.013493  0.023869  \n",
      "        t00       t05       t1_       t2_       t3_       t4_       t5_  \\\n",
      "0 -0.000710 -0.000168  0.000287  0.000466  0.001036  0.000595 -0.001110   \n",
      "1  0.001253 -0.007547  0.003223 -0.002513  0.036537 -0.006850  0.001944   \n",
      "2  0.001504  0.011895  0.000854 -0.000022  0.000513  0.010700  0.001091   \n",
      "3  0.154250  0.167655  0.111858  0.195073  0.132005  0.121075  0.210110   \n",
      "4  0.095341  0.006955  0.083964  0.029222  0.066656  0.039379  0.023869   \n",
      "\n",
      "        t6_       t7_       t8_       t10       t12  \n",
      "0 -0.000913  0.002446 -0.000043 -0.000593  0.047217  \n",
      "1  0.002965 -0.001732  0.001417  0.000704 -0.000280  \n",
      "2 -0.002444  0.008688  0.004336 -0.001113  0.011748  \n",
      "3  0.103241  0.054600  0.134241  0.168695  0.148455  \n",
      "4  0.107607  0.013493  0.148978  0.081421  0.032541  \n"
     ]
    }
   ],
   "source": [
    "import geneTSmunging as gtm\n",
    "\n",
    "data_file = \"../data/GeneExpressionData/small_TPM.txt\"\n",
    "out_file = \"../data/GeneExpressionData/small_TPM-randomized.txt\"\n",
    "\n",
    "data = gtm.load_file_and_avg(data_file)\n",
    "\n",
    "rand_data = gtm.make_and_save_randomized_data(data, out_file)\n",
    "\n",
    "print data[gtm.timekeys].head()\n",
    "print rand_data[gtm.timekeys].head()"
   ]
  },
  {
   "cell_type": "code",
   "execution_count": 5,
   "metadata": {
    "collapsed": false
   },
   "outputs": [
    {
     "name": "stdout",
     "output_type": "stream",
     "text": [
      "99\n"
     ]
    }
   ],
   "source": [
    "print len(data)"
   ]
  },
  {
   "cell_type": "code",
   "execution_count": 8,
   "metadata": {
    "collapsed": true
   },
   "outputs": [],
   "source": [
    "import prep_jobs as pj\n",
    "partition_pair = ((0,0), (98, 98))\n",
    "\n",
    "pairlist = pj.partition_pair_to_pairlist(partition_pair, 99)"
   ]
  },
  {
   "cell_type": "code",
   "execution_count": 9,
   "metadata": {
    "collapsed": false
   },
   "outputs": [
    {
     "data": {
      "text/plain": [
       "[(0, 0),\n",
       " (0, 1),\n",
       " (0, 2),\n",
       " (0, 3),\n",
       " (0, 4),\n",
       " (0, 5),\n",
       " (0, 6),\n",
       " (0, 7),\n",
       " (0, 8),\n",
       " (0, 9),\n",
       " (0, 10),\n",
       " (0, 11),\n",
       " (0, 12),\n",
       " (0, 13),\n",
       " (0, 14),\n",
       " (0, 15),\n",
       " (0, 16),\n",
       " (0, 17),\n",
       " (0, 18),\n",
       " (0, 19),\n",
       " (0, 20),\n",
       " (0, 21),\n",
       " (0, 22),\n",
       " (0, 23),\n",
       " (0, 24),\n",
       " (0, 25),\n",
       " (0, 26),\n",
       " (0, 27),\n",
       " (0, 28),\n",
       " (0, 29),\n",
       " (0, 30),\n",
       " (0, 31),\n",
       " (0, 32),\n",
       " (0, 33),\n",
       " (0, 34),\n",
       " (0, 35),\n",
       " (0, 36),\n",
       " (0, 37),\n",
       " (0, 38),\n",
       " (0, 39),\n",
       " (0, 40),\n",
       " (0, 41),\n",
       " (0, 42),\n",
       " (0, 43),\n",
       " (0, 44),\n",
       " (0, 45),\n",
       " (0, 46),\n",
       " (0, 47),\n",
       " (0, 48),\n",
       " (0, 49),\n",
       " (0, 50),\n",
       " (0, 51),\n",
       " (0, 52),\n",
       " (0, 53),\n",
       " (0, 54),\n",
       " (0, 55),\n",
       " (0, 56),\n",
       " (0, 57),\n",
       " (0, 58),\n",
       " (0, 59),\n",
       " (0, 60),\n",
       " (0, 61),\n",
       " (0, 62),\n",
       " (0, 63),\n",
       " (0, 64),\n",
       " (0, 65),\n",
       " (0, 66),\n",
       " (0, 67),\n",
       " (0, 68),\n",
       " (0, 69),\n",
       " (0, 70),\n",
       " (0, 71),\n",
       " (0, 72),\n",
       " (0, 73),\n",
       " (0, 74),\n",
       " (0, 75),\n",
       " (0, 76),\n",
       " (0, 77),\n",
       " (0, 78),\n",
       " (0, 79),\n",
       " (0, 80),\n",
       " (0, 81),\n",
       " (0, 82),\n",
       " (0, 83),\n",
       " (0, 84),\n",
       " (0, 85),\n",
       " (0, 86),\n",
       " (0, 87),\n",
       " (0, 88),\n",
       " (0, 89),\n",
       " (0, 90),\n",
       " (0, 91),\n",
       " (0, 92),\n",
       " (0, 93),\n",
       " (0, 94),\n",
       " (0, 95),\n",
       " (0, 96),\n",
       " (0, 97),\n",
       " (0, 98),\n",
       " (1, 0),\n",
       " (1, 1),\n",
       " (1, 2),\n",
       " (1, 3),\n",
       " (1, 4),\n",
       " (1, 5),\n",
       " (1, 6),\n",
       " (1, 7),\n",
       " (1, 8),\n",
       " (1, 9),\n",
       " (1, 10),\n",
       " (1, 11),\n",
       " (1, 12),\n",
       " (1, 13),\n",
       " (1, 14),\n",
       " (1, 15),\n",
       " (1, 16),\n",
       " (1, 17),\n",
       " (1, 18),\n",
       " (1, 19),\n",
       " (1, 20),\n",
       " (1, 21),\n",
       " (1, 22),\n",
       " (1, 23),\n",
       " (1, 24),\n",
       " (1, 25),\n",
       " (1, 26),\n",
       " (1, 27),\n",
       " (1, 28),\n",
       " (1, 29),\n",
       " (1, 30),\n",
       " (1, 31),\n",
       " (1, 32),\n",
       " (1, 33),\n",
       " (1, 34),\n",
       " (1, 35),\n",
       " (1, 36),\n",
       " (1, 37),\n",
       " (1, 38),\n",
       " (1, 39),\n",
       " (1, 40),\n",
       " (1, 41),\n",
       " (1, 42),\n",
       " (1, 43),\n",
       " (1, 44),\n",
       " (1, 45),\n",
       " (1, 46),\n",
       " (1, 47),\n",
       " (1, 48),\n",
       " (1, 49),\n",
       " (1, 50),\n",
       " (1, 51),\n",
       " (1, 52),\n",
       " (1, 53),\n",
       " (1, 54),\n",
       " (1, 55),\n",
       " (1, 56),\n",
       " (1, 57),\n",
       " (1, 58),\n",
       " (1, 59),\n",
       " (1, 60),\n",
       " (1, 61),\n",
       " (1, 62),\n",
       " (1, 63),\n",
       " (1, 64),\n",
       " (1, 65),\n",
       " (1, 66),\n",
       " (1, 67),\n",
       " (1, 68),\n",
       " (1, 69),\n",
       " (1, 70),\n",
       " (1, 71),\n",
       " (1, 72),\n",
       " (1, 73),\n",
       " (1, 74),\n",
       " (1, 75),\n",
       " (1, 76),\n",
       " (1, 77),\n",
       " (1, 78),\n",
       " (1, 79),\n",
       " (1, 80),\n",
       " (1, 81),\n",
       " (1, 82),\n",
       " (1, 83),\n",
       " (1, 84),\n",
       " (1, 85),\n",
       " (1, 86),\n",
       " (1, 87),\n",
       " (1, 88),\n",
       " (1, 89),\n",
       " (1, 90),\n",
       " (1, 91),\n",
       " (1, 92),\n",
       " (1, 93),\n",
       " (1, 94),\n",
       " (1, 95),\n",
       " (1, 96),\n",
       " (1, 97),\n",
       " (1, 98),\n",
       " (2, 0),\n",
       " (2, 1),\n",
       " (2, 2),\n",
       " (2, 3),\n",
       " (2, 4),\n",
       " (2, 5),\n",
       " (2, 6),\n",
       " (2, 7),\n",
       " (2, 8),\n",
       " (2, 9),\n",
       " (2, 10),\n",
       " (2, 11),\n",
       " (2, 12),\n",
       " (2, 13),\n",
       " (2, 14),\n",
       " (2, 15),\n",
       " (2, 16),\n",
       " (2, 17),\n",
       " (2, 18),\n",
       " (2, 19),\n",
       " (2, 20),\n",
       " (2, 21),\n",
       " (2, 22),\n",
       " (2, 23),\n",
       " (2, 24),\n",
       " (2, 25),\n",
       " (2, 26),\n",
       " (2, 27),\n",
       " (2, 28),\n",
       " (2, 29),\n",
       " (2, 30),\n",
       " (2, 31),\n",
       " (2, 32),\n",
       " (2, 33),\n",
       " (2, 34),\n",
       " (2, 35),\n",
       " (2, 36),\n",
       " (2, 37),\n",
       " (2, 38),\n",
       " (2, 39),\n",
       " (2, 40),\n",
       " (2, 41),\n",
       " (2, 42),\n",
       " (2, 43),\n",
       " (2, 44),\n",
       " (2, 45),\n",
       " (2, 46),\n",
       " (2, 47),\n",
       " (2, 48),\n",
       " (2, 49),\n",
       " (2, 50),\n",
       " (2, 51),\n",
       " (2, 52),\n",
       " (2, 53),\n",
       " (2, 54),\n",
       " (2, 55),\n",
       " (2, 56),\n",
       " (2, 57),\n",
       " (2, 58),\n",
       " (2, 59),\n",
       " (2, 60),\n",
       " (2, 61),\n",
       " (2, 62),\n",
       " (2, 63),\n",
       " (2, 64),\n",
       " (2, 65),\n",
       " (2, 66),\n",
       " (2, 67),\n",
       " (2, 68),\n",
       " (2, 69),\n",
       " (2, 70),\n",
       " (2, 71),\n",
       " (2, 72),\n",
       " (2, 73),\n",
       " (2, 74),\n",
       " (2, 75),\n",
       " (2, 76),\n",
       " (2, 77),\n",
       " (2, 78),\n",
       " (2, 79),\n",
       " (2, 80),\n",
       " (2, 81),\n",
       " (2, 82),\n",
       " (2, 83),\n",
       " (2, 84),\n",
       " (2, 85),\n",
       " (2, 86),\n",
       " (2, 87),\n",
       " (2, 88),\n",
       " (2, 89),\n",
       " (2, 90),\n",
       " (2, 91),\n",
       " (2, 92),\n",
       " (2, 93),\n",
       " (2, 94),\n",
       " (2, 95),\n",
       " (2, 96),\n",
       " (2, 97),\n",
       " (2, 98),\n",
       " (3, 0),\n",
       " (3, 1),\n",
       " (3, 2),\n",
       " (3, 3),\n",
       " (3, 4),\n",
       " (3, 5),\n",
       " (3, 6),\n",
       " (3, 7),\n",
       " (3, 8),\n",
       " (3, 9),\n",
       " (3, 10),\n",
       " (3, 11),\n",
       " (3, 12),\n",
       " (3, 13),\n",
       " (3, 14),\n",
       " (3, 15),\n",
       " (3, 16),\n",
       " (3, 17),\n",
       " (3, 18),\n",
       " (3, 19),\n",
       " (3, 20),\n",
       " (3, 21),\n",
       " (3, 22),\n",
       " (3, 23),\n",
       " (3, 24),\n",
       " (3, 25),\n",
       " (3, 26),\n",
       " (3, 27),\n",
       " (3, 28),\n",
       " (3, 29),\n",
       " (3, 30),\n",
       " (3, 31),\n",
       " (3, 32),\n",
       " (3, 33),\n",
       " (3, 34),\n",
       " (3, 35),\n",
       " (3, 36),\n",
       " (3, 37),\n",
       " (3, 38),\n",
       " (3, 39),\n",
       " (3, 40),\n",
       " (3, 41),\n",
       " (3, 42),\n",
       " (3, 43),\n",
       " (3, 44),\n",
       " (3, 45),\n",
       " (3, 46),\n",
       " (3, 47),\n",
       " (3, 48),\n",
       " (3, 49),\n",
       " (3, 50),\n",
       " (3, 51),\n",
       " (3, 52),\n",
       " (3, 53),\n",
       " (3, 54),\n",
       " (3, 55),\n",
       " (3, 56),\n",
       " (3, 57),\n",
       " (3, 58),\n",
       " (3, 59),\n",
       " (3, 60),\n",
       " (3, 61),\n",
       " (3, 62),\n",
       " (3, 63),\n",
       " (3, 64),\n",
       " (3, 65),\n",
       " (3, 66),\n",
       " (3, 67),\n",
       " (3, 68),\n",
       " (3, 69),\n",
       " (3, 70),\n",
       " (3, 71),\n",
       " (3, 72),\n",
       " (3, 73),\n",
       " (3, 74),\n",
       " (3, 75),\n",
       " (3, 76),\n",
       " (3, 77),\n",
       " (3, 78),\n",
       " (3, 79),\n",
       " (3, 80),\n",
       " (3, 81),\n",
       " (3, 82),\n",
       " (3, 83),\n",
       " (3, 84),\n",
       " (3, 85),\n",
       " (3, 86),\n",
       " (3, 87),\n",
       " (3, 88),\n",
       " (3, 89),\n",
       " (3, 90),\n",
       " (3, 91),\n",
       " (3, 92),\n",
       " (3, 93),\n",
       " (3, 94),\n",
       " (3, 95),\n",
       " (3, 96),\n",
       " (3, 97),\n",
       " (3, 98),\n",
       " (4, 0),\n",
       " (4, 1),\n",
       " (4, 2),\n",
       " (4, 3),\n",
       " (4, 4),\n",
       " (4, 5),\n",
       " (4, 6),\n",
       " (4, 7),\n",
       " (4, 8),\n",
       " (4, 9),\n",
       " (4, 10),\n",
       " (4, 11),\n",
       " (4, 12),\n",
       " (4, 13),\n",
       " (4, 14),\n",
       " (4, 15),\n",
       " (4, 16),\n",
       " (4, 17),\n",
       " (4, 18),\n",
       " (4, 19),\n",
       " (4, 20),\n",
       " (4, 21),\n",
       " (4, 22),\n",
       " (4, 23),\n",
       " (4, 24),\n",
       " (4, 25),\n",
       " (4, 26),\n",
       " (4, 27),\n",
       " (4, 28),\n",
       " (4, 29),\n",
       " (4, 30),\n",
       " (4, 31),\n",
       " (4, 32),\n",
       " (4, 33),\n",
       " (4, 34),\n",
       " (4, 35),\n",
       " (4, 36),\n",
       " (4, 37),\n",
       " (4, 38),\n",
       " (4, 39),\n",
       " (4, 40),\n",
       " (4, 41),\n",
       " (4, 42),\n",
       " (4, 43),\n",
       " (4, 44),\n",
       " (4, 45),\n",
       " (4, 46),\n",
       " (4, 47),\n",
       " (4, 48),\n",
       " (4, 49),\n",
       " (4, 50),\n",
       " (4, 51),\n",
       " (4, 52),\n",
       " (4, 53),\n",
       " (4, 54),\n",
       " (4, 55),\n",
       " (4, 56),\n",
       " (4, 57),\n",
       " (4, 58),\n",
       " (4, 59),\n",
       " (4, 60),\n",
       " (4, 61),\n",
       " (4, 62),\n",
       " (4, 63),\n",
       " (4, 64),\n",
       " (4, 65),\n",
       " (4, 66),\n",
       " (4, 67),\n",
       " (4, 68),\n",
       " (4, 69),\n",
       " (4, 70),\n",
       " (4, 71),\n",
       " (4, 72),\n",
       " (4, 73),\n",
       " (4, 74),\n",
       " (4, 75),\n",
       " (4, 76),\n",
       " (4, 77),\n",
       " (4, 78),\n",
       " (4, 79),\n",
       " (4, 80),\n",
       " (4, 81),\n",
       " (4, 82),\n",
       " (4, 83),\n",
       " (4, 84),\n",
       " (4, 85),\n",
       " (4, 86),\n",
       " (4, 87),\n",
       " (4, 88),\n",
       " (4, 89),\n",
       " (4, 90),\n",
       " (4, 91),\n",
       " (4, 92),\n",
       " (4, 93),\n",
       " (4, 94),\n",
       " (4, 95),\n",
       " (4, 96),\n",
       " (4, 97),\n",
       " (4, 98),\n",
       " (5, 0),\n",
       " (5, 1),\n",
       " (5, 2),\n",
       " (5, 3),\n",
       " (5, 4),\n",
       " (5, 5),\n",
       " (5, 6),\n",
       " (5, 7),\n",
       " (5, 8),\n",
       " (5, 9),\n",
       " (5, 10),\n",
       " (5, 11),\n",
       " (5, 12),\n",
       " (5, 13),\n",
       " (5, 14),\n",
       " (5, 15),\n",
       " (5, 16),\n",
       " (5, 17),\n",
       " (5, 18),\n",
       " (5, 19),\n",
       " (5, 20),\n",
       " (5, 21),\n",
       " (5, 22),\n",
       " (5, 23),\n",
       " (5, 24),\n",
       " (5, 25),\n",
       " (5, 26),\n",
       " (5, 27),\n",
       " (5, 28),\n",
       " (5, 29),\n",
       " (5, 30),\n",
       " (5, 31),\n",
       " (5, 32),\n",
       " (5, 33),\n",
       " (5, 34),\n",
       " (5, 35),\n",
       " (5, 36),\n",
       " (5, 37),\n",
       " (5, 38),\n",
       " (5, 39),\n",
       " (5, 40),\n",
       " (5, 41),\n",
       " (5, 42),\n",
       " (5, 43),\n",
       " (5, 44),\n",
       " (5, 45),\n",
       " (5, 46),\n",
       " (5, 47),\n",
       " (5, 48),\n",
       " (5, 49),\n",
       " (5, 50),\n",
       " (5, 51),\n",
       " (5, 52),\n",
       " (5, 53),\n",
       " (5, 54),\n",
       " (5, 55),\n",
       " (5, 56),\n",
       " (5, 57),\n",
       " (5, 58),\n",
       " (5, 59),\n",
       " (5, 60),\n",
       " (5, 61),\n",
       " (5, 62),\n",
       " (5, 63),\n",
       " (5, 64),\n",
       " (5, 65),\n",
       " (5, 66),\n",
       " (5, 67),\n",
       " (5, 68),\n",
       " (5, 69),\n",
       " (5, 70),\n",
       " (5, 71),\n",
       " (5, 72),\n",
       " (5, 73),\n",
       " (5, 74),\n",
       " (5, 75),\n",
       " (5, 76),\n",
       " (5, 77),\n",
       " (5, 78),\n",
       " (5, 79),\n",
       " (5, 80),\n",
       " (5, 81),\n",
       " (5, 82),\n",
       " (5, 83),\n",
       " (5, 84),\n",
       " (5, 85),\n",
       " (5, 86),\n",
       " (5, 87),\n",
       " (5, 88),\n",
       " (5, 89),\n",
       " (5, 90),\n",
       " (5, 91),\n",
       " (5, 92),\n",
       " (5, 93),\n",
       " (5, 94),\n",
       " (5, 95),\n",
       " (5, 96),\n",
       " (5, 97),\n",
       " (5, 98),\n",
       " (6, 0),\n",
       " (6, 1),\n",
       " (6, 2),\n",
       " (6, 3),\n",
       " (6, 4),\n",
       " (6, 5),\n",
       " (6, 6),\n",
       " (6, 7),\n",
       " (6, 8),\n",
       " (6, 9),\n",
       " (6, 10),\n",
       " (6, 11),\n",
       " (6, 12),\n",
       " (6, 13),\n",
       " (6, 14),\n",
       " (6, 15),\n",
       " (6, 16),\n",
       " (6, 17),\n",
       " (6, 18),\n",
       " (6, 19),\n",
       " (6, 20),\n",
       " (6, 21),\n",
       " (6, 22),\n",
       " (6, 23),\n",
       " (6, 24),\n",
       " (6, 25),\n",
       " (6, 26),\n",
       " (6, 27),\n",
       " (6, 28),\n",
       " (6, 29),\n",
       " (6, 30),\n",
       " (6, 31),\n",
       " (6, 32),\n",
       " (6, 33),\n",
       " (6, 34),\n",
       " (6, 35),\n",
       " (6, 36),\n",
       " (6, 37),\n",
       " (6, 38),\n",
       " (6, 39),\n",
       " (6, 40),\n",
       " (6, 41),\n",
       " (6, 42),\n",
       " (6, 43),\n",
       " (6, 44),\n",
       " (6, 45),\n",
       " (6, 46),\n",
       " (6, 47),\n",
       " (6, 48),\n",
       " (6, 49),\n",
       " (6, 50),\n",
       " (6, 51),\n",
       " (6, 52),\n",
       " (6, 53),\n",
       " (6, 54),\n",
       " (6, 55),\n",
       " (6, 56),\n",
       " (6, 57),\n",
       " (6, 58),\n",
       " (6, 59),\n",
       " (6, 60),\n",
       " (6, 61),\n",
       " (6, 62),\n",
       " (6, 63),\n",
       " (6, 64),\n",
       " (6, 65),\n",
       " (6, 66),\n",
       " (6, 67),\n",
       " (6, 68),\n",
       " (6, 69),\n",
       " (6, 70),\n",
       " (6, 71),\n",
       " (6, 72),\n",
       " (6, 73),\n",
       " (6, 74),\n",
       " (6, 75),\n",
       " (6, 76),\n",
       " (6, 77),\n",
       " (6, 78),\n",
       " (6, 79),\n",
       " (6, 80),\n",
       " (6, 81),\n",
       " (6, 82),\n",
       " (6, 83),\n",
       " (6, 84),\n",
       " (6, 85),\n",
       " (6, 86),\n",
       " (6, 87),\n",
       " (6, 88),\n",
       " (6, 89),\n",
       " (6, 90),\n",
       " (6, 91),\n",
       " (6, 92),\n",
       " (6, 93),\n",
       " (6, 94),\n",
       " (6, 95),\n",
       " (6, 96),\n",
       " (6, 97),\n",
       " (6, 98),\n",
       " (7, 0),\n",
       " (7, 1),\n",
       " (7, 2),\n",
       " (7, 3),\n",
       " (7, 4),\n",
       " (7, 5),\n",
       " (7, 6),\n",
       " (7, 7),\n",
       " (7, 8),\n",
       " (7, 9),\n",
       " (7, 10),\n",
       " (7, 11),\n",
       " (7, 12),\n",
       " (7, 13),\n",
       " (7, 14),\n",
       " (7, 15),\n",
       " (7, 16),\n",
       " (7, 17),\n",
       " (7, 18),\n",
       " (7, 19),\n",
       " (7, 20),\n",
       " (7, 21),\n",
       " (7, 22),\n",
       " (7, 23),\n",
       " (7, 24),\n",
       " (7, 25),\n",
       " (7, 26),\n",
       " (7, 27),\n",
       " (7, 28),\n",
       " (7, 29),\n",
       " (7, 30),\n",
       " (7, 31),\n",
       " (7, 32),\n",
       " (7, 33),\n",
       " (7, 34),\n",
       " (7, 35),\n",
       " (7, 36),\n",
       " (7, 37),\n",
       " (7, 38),\n",
       " (7, 39),\n",
       " (7, 40),\n",
       " (7, 41),\n",
       " (7, 42),\n",
       " (7, 43),\n",
       " (7, 44),\n",
       " (7, 45),\n",
       " (7, 46),\n",
       " (7, 47),\n",
       " (7, 48),\n",
       " (7, 49),\n",
       " (7, 50),\n",
       " (7, 51),\n",
       " (7, 52),\n",
       " (7, 53),\n",
       " (7, 54),\n",
       " (7, 55),\n",
       " (7, 56),\n",
       " (7, 57),\n",
       " (7, 58),\n",
       " (7, 59),\n",
       " (7, 60),\n",
       " (7, 61),\n",
       " (7, 62),\n",
       " (7, 63),\n",
       " (7, 64),\n",
       " (7, 65),\n",
       " (7, 66),\n",
       " (7, 67),\n",
       " (7, 68),\n",
       " (7, 69),\n",
       " (7, 70),\n",
       " (7, 71),\n",
       " (7, 72),\n",
       " (7, 73),\n",
       " (7, 74),\n",
       " (7, 75),\n",
       " (7, 76),\n",
       " (7, 77),\n",
       " (7, 78),\n",
       " (7, 79),\n",
       " (7, 80),\n",
       " (7, 81),\n",
       " (7, 82),\n",
       " (7, 83),\n",
       " (7, 84),\n",
       " (7, 85),\n",
       " (7, 86),\n",
       " (7, 87),\n",
       " (7, 88),\n",
       " (7, 89),\n",
       " (7, 90),\n",
       " (7, 91),\n",
       " (7, 92),\n",
       " (7, 93),\n",
       " (7, 94),\n",
       " (7, 95),\n",
       " (7, 96),\n",
       " (7, 97),\n",
       " (7, 98),\n",
       " (8, 0),\n",
       " (8, 1),\n",
       " (8, 2),\n",
       " (8, 3),\n",
       " (8, 4),\n",
       " (8, 5),\n",
       " (8, 6),\n",
       " (8, 7),\n",
       " (8, 8),\n",
       " (8, 9),\n",
       " (8, 10),\n",
       " (8, 11),\n",
       " (8, 12),\n",
       " (8, 13),\n",
       " (8, 14),\n",
       " (8, 15),\n",
       " (8, 16),\n",
       " (8, 17),\n",
       " (8, 18),\n",
       " (8, 19),\n",
       " (8, 20),\n",
       " (8, 21),\n",
       " (8, 22),\n",
       " (8, 23),\n",
       " (8, 24),\n",
       " (8, 25),\n",
       " (8, 26),\n",
       " (8, 27),\n",
       " (8, 28),\n",
       " (8, 29),\n",
       " (8, 30),\n",
       " (8, 31),\n",
       " (8, 32),\n",
       " (8, 33),\n",
       " (8, 34),\n",
       " (8, 35),\n",
       " (8, 36),\n",
       " (8, 37),\n",
       " (8, 38),\n",
       " (8, 39),\n",
       " (8, 40),\n",
       " (8, 41),\n",
       " (8, 42),\n",
       " (8, 43),\n",
       " (8, 44),\n",
       " (8, 45),\n",
       " (8, 46),\n",
       " (8, 47),\n",
       " (8, 48),\n",
       " (8, 49),\n",
       " (8, 50),\n",
       " (8, 51),\n",
       " (8, 52),\n",
       " (8, 53),\n",
       " (8, 54),\n",
       " (8, 55),\n",
       " (8, 56),\n",
       " (8, 57),\n",
       " (8, 58),\n",
       " (8, 59),\n",
       " (8, 60),\n",
       " (8, 61),\n",
       " (8, 62),\n",
       " (8, 63),\n",
       " (8, 64),\n",
       " (8, 65),\n",
       " (8, 66),\n",
       " (8, 67),\n",
       " (8, 68),\n",
       " (8, 69),\n",
       " (8, 70),\n",
       " (8, 71),\n",
       " (8, 72),\n",
       " (8, 73),\n",
       " (8, 74),\n",
       " (8, 75),\n",
       " (8, 76),\n",
       " (8, 77),\n",
       " (8, 78),\n",
       " (8, 79),\n",
       " (8, 80),\n",
       " (8, 81),\n",
       " (8, 82),\n",
       " (8, 83),\n",
       " (8, 84),\n",
       " (8, 85),\n",
       " (8, 86),\n",
       " (8, 87),\n",
       " (8, 88),\n",
       " (8, 89),\n",
       " (8, 90),\n",
       " (8, 91),\n",
       " (8, 92),\n",
       " (8, 93),\n",
       " (8, 94),\n",
       " (8, 95),\n",
       " (8, 96),\n",
       " (8, 97),\n",
       " (8, 98),\n",
       " (9, 0),\n",
       " (9, 1),\n",
       " (9, 2),\n",
       " (9, 3),\n",
       " (9, 4),\n",
       " (9, 5),\n",
       " (9, 6),\n",
       " (9, 7),\n",
       " (9, 8),\n",
       " (9, 9),\n",
       " (9, 10),\n",
       " (9, 11),\n",
       " (9, 12),\n",
       " (9, 13),\n",
       " (9, 14),\n",
       " (9, 15),\n",
       " (9, 16),\n",
       " (9, 17),\n",
       " (9, 18),\n",
       " (9, 19),\n",
       " (9, 20),\n",
       " (9, 21),\n",
       " (9, 22),\n",
       " (9, 23),\n",
       " (9, 24),\n",
       " (9, 25),\n",
       " (9, 26),\n",
       " (9, 27),\n",
       " (9, 28),\n",
       " (9, 29),\n",
       " (9, 30),\n",
       " (9, 31),\n",
       " (9, 32),\n",
       " (9, 33),\n",
       " (9, 34),\n",
       " (9, 35),\n",
       " (9, 36),\n",
       " (9, 37),\n",
       " (9, 38),\n",
       " (9, 39),\n",
       " (9, 40),\n",
       " (9, 41),\n",
       " (9, 42),\n",
       " (9, 43),\n",
       " (9, 44),\n",
       " (9, 45),\n",
       " (9, 46),\n",
       " (9, 47),\n",
       " (9, 48),\n",
       " (9, 49),\n",
       " (9, 50),\n",
       " (9, 51),\n",
       " (9, 52),\n",
       " (9, 53),\n",
       " (9, 54),\n",
       " (9, 55),\n",
       " (9, 56),\n",
       " (9, 57),\n",
       " (9, 58),\n",
       " (9, 59),\n",
       " (9, 60),\n",
       " (9, 61),\n",
       " (9, 62),\n",
       " (9, 63),\n",
       " (9, 64),\n",
       " (9, 65),\n",
       " (9, 66),\n",
       " (9, 67),\n",
       " (9, 68),\n",
       " (9, 69),\n",
       " (9, 70),\n",
       " (9, 71),\n",
       " (9, 72),\n",
       " (9, 73),\n",
       " (9, 74),\n",
       " (9, 75),\n",
       " (9, 76),\n",
       " (9, 77),\n",
       " (9, 78),\n",
       " (9, 79),\n",
       " (9, 80),\n",
       " (9, 81),\n",
       " (9, 82),\n",
       " (9, 83),\n",
       " (9, 84),\n",
       " (9, 85),\n",
       " (9, 86),\n",
       " (9, 87),\n",
       " (9, 88),\n",
       " (9, 89),\n",
       " (9, 90),\n",
       " (9, 91),\n",
       " (9, 92),\n",
       " (9, 93),\n",
       " (9, 94),\n",
       " (9, 95),\n",
       " (9, 96),\n",
       " (9, 97),\n",
       " (9, 98),\n",
       " (10, 0),\n",
       " (10, 1),\n",
       " (10, 2),\n",
       " (10, 3),\n",
       " (10, 4),\n",
       " (10, 5),\n",
       " (10, 6),\n",
       " (10, 7),\n",
       " (10, 8),\n",
       " (10, 9),\n",
       " ...]"
      ]
     },
     "execution_count": 9,
     "metadata": {},
     "output_type": "execute_result"
    }
   ],
   "source": [
    "pairlist"
   ]
  },
  {
   "cell_type": "code",
   "execution_count": 10,
   "metadata": {
    "collapsed": false
   },
   "outputs": [
    {
     "name": "stdout",
     "output_type": "stream",
     "text": [
      "Genes 1 99 (99, 12)\n",
      "Genes 2 99 (99, 12)\n"
     ]
    }
   ],
   "source": [
    "import CausalTests as ct\n",
    "\n",
    "found_genes, matr1 = gtm.get_gene_TS(data, data[\"gene\"])\n",
    "print \"Genes 1\", len(found_genes), matr1.shape\n",
    "\n",
    "found_genes, matr2 = gtm.get_gene_TS(rand_data, rand_data[\"gene\"])\n",
    "print \"Genes 2\", len(found_genes), matr2.shape"
   ]
  },
  {
   "cell_type": "code",
   "execution_count": 23,
   "metadata": {
    "collapsed": false
   },
   "outputs": [],
   "source": [
    "p, b = ct.pairwise_granger_causality_matr_pair(matr2, matr1, pairs=pairlist)"
   ]
  },
  {
   "cell_type": "code",
   "execution_count": 25,
   "metadata": {
    "collapsed": false
   },
   "outputs": [],
   "source": [
    "p = p.reshape((99, 99))"
   ]
  },
  {
   "cell_type": "code",
   "execution_count": 33,
   "metadata": {
    "collapsed": true
   },
   "outputs": [],
   "source": [
    "b = b.reshape((99, 99, 2))"
   ]
  },
  {
   "cell_type": "code",
   "execution_count": 26,
   "metadata": {
    "collapsed": false
   },
   "outputs": [
    {
     "data": {
      "text/plain": [
       "array([[ 0.17231376,  0.02157578,  0.509251  , ...,  0.65101316,\n",
       "         0.55550772,  0.65147373],\n",
       "       [ 0.70524473,  0.90474361,  0.74811258, ...,  0.23967372,\n",
       "         0.76297546,  0.04013138],\n",
       "       [ 0.44836963,  0.58177713,  0.28416194, ...,  0.75931638,\n",
       "         0.91045006,  0.99259665],\n",
       "       ..., \n",
       "       [ 0.77832266,  0.9000753 ,  0.22030063, ...,  0.57236977,\n",
       "         0.34754995,  0.55980432],\n",
       "       [ 0.01062975,  0.94461404,  0.76677795, ...,  0.33633661,\n",
       "         0.10059922,  0.69913143],\n",
       "       [ 0.8582898 ,  0.5677802 ,  0.67071525, ...,  0.96745131,\n",
       "         0.06708298,  0.92990995]])"
      ]
     },
     "execution_count": 26,
     "metadata": {},
     "output_type": "execute_result"
    }
   ],
   "source": [
    "p"
   ]
  },
  {
   "cell_type": "code",
   "execution_count": 28,
   "metadata": {
    "collapsed": true
   },
   "outputs": [],
   "source": [
    "import pickle"
   ]
  },
  {
   "cell_type": "code",
   "execution_count": 30,
   "metadata": {
    "collapsed": false
   },
   "outputs": [
    {
     "data": {
      "text/plain": [
       "array([[ 0.17231376,  0.02157578,  0.509251  , ...,  0.65101316,\n",
       "         0.55550772,  0.65147373],\n",
       "       [ 0.70524473,  0.90474361,  0.74811258, ...,  0.23967372,\n",
       "         0.76297546,  0.04013138],\n",
       "       [ 0.44836963,  0.58177713,  0.28416194, ...,  0.75931638,\n",
       "         0.91045006,  0.99259665],\n",
       "       ..., \n",
       "       [ 0.77832266,  0.9000753 ,  0.22030063, ...,  0.57236977,\n",
       "         0.34754995,  0.55980432],\n",
       "       [ 0.01062975,  0.94461404,  0.76677795, ...,  0.33633661,\n",
       "         0.10059922,  0.69913143],\n",
       "       [ 0.8582898 ,  0.5677802 ,  0.67071525, ...,  0.96745131,\n",
       "         0.06708298,  0.92990995]])"
      ]
     },
     "execution_count": 30,
     "metadata": {},
     "output_type": "execute_result"
    }
   ],
   "source": [
    "test_p, test_b = pickle.load(open(\"della/small_TPM-test-pair/small_TPM-test-pair.p\", 'rB'))\n",
    "test_p"
   ]
  },
  {
   "cell_type": "code",
   "execution_count": 35,
   "metadata": {
    "collapsed": false
   },
   "outputs": [
    {
     "data": {
      "text/plain": [
       "8.7587270769518e-11"
      ]
     },
     "execution_count": 35,
     "metadata": {},
     "output_type": "execute_result"
    }
   ],
   "source": [
    "np.max(np.absolute(p - test_p))"
   ]
  },
  {
   "cell_type": "code",
   "execution_count": 36,
   "metadata": {
    "collapsed": false
   },
   "outputs": [
    {
     "data": {
      "text/plain": [
       "3.4827651873570176e-10"
      ]
     },
     "execution_count": 36,
     "metadata": {},
     "output_type": "execute_result"
    }
   ],
   "source": [
    "np.max(np.absolute(b - test_b))"
   ]
  },
  {
   "cell_type": "code",
   "execution_count": 17,
   "metadata": {
    "collapsed": true
   },
   "outputs": [],
   "source": [
    "norm_p, norm_b = ct.pairwise_granger_causality_matr_pair(matr1, matr1, pairs=pairlist)"
   ]
  },
  {
   "cell_type": "code",
   "execution_count": 18,
   "metadata": {
    "collapsed": true
   },
   "outputs": [],
   "source": [
    "\n",
    "norm_p = norm_p.reshape((99, 99))\n",
    "norm_b = norm_b.reshape((99, 99, 2))"
   ]
  },
  {
   "cell_type": "code",
   "execution_count": 19,
   "metadata": {
    "collapsed": false
   },
   "outputs": [
    {
     "data": {
      "text/plain": [
       "array([[  1.00000000e+00,   1.23105640e-04,   2.80954308e-01, ...,\n",
       "          4.44145587e-01,   7.03103043e-01,   3.54487545e-01],\n",
       "       [  6.59124213e-01,   1.00000000e+00,   6.38674909e-01, ...,\n",
       "          7.77615718e-01,   4.64635296e-02,   4.98062905e-01],\n",
       "       [  7.09631185e-01,   8.81190719e-01,   1.00000000e+00, ...,\n",
       "          4.70088539e-01,   4.44184696e-01,   4.98996616e-01],\n",
       "       ..., \n",
       "       [  4.90948141e-01,   3.41208433e-01,   7.45665541e-01, ...,\n",
       "          1.00000000e+00,   1.99702334e-01,   1.61426502e-01],\n",
       "       [  7.18271966e-01,   1.11370851e-01,   8.19603777e-01, ...,\n",
       "          5.78737713e-01,   1.00000000e+00,   1.30014878e-01],\n",
       "       [  2.64311421e-01,   5.80215336e-01,   8.13349434e-01, ...,\n",
       "          4.64779226e-01,   1.33502706e-02,   1.00000000e+00]])"
      ]
     },
     "execution_count": 19,
     "metadata": {},
     "output_type": "execute_result"
    }
   ],
   "source": [
    "norm_p"
   ]
  },
  {
   "cell_type": "code",
   "execution_count": 21,
   "metadata": {
    "collapsed": true
   },
   "outputs": [],
   "source": [
    "rows = [1,2,3,4]"
   ]
  },
  {
   "cell_type": "code",
   "execution_count": 20,
   "metadata": {
    "collapsed": false
   },
   "outputs": [],
   "source": [
    "import pandas as pd\n",
    "res_df = pd.DataFrame(data={\"A\": [1,4,-1, 10], \"error.min\": [5,7,6, 20]})"
   ]
  },
  {
   "cell_type": "code",
   "execution_count": 23,
   "metadata": {
    "collapsed": false
   },
   "outputs": [],
   "source": [
    "header = res_df.columns.values\n",
    "all_res_index = range(len(res_df) * len(rows))\n",
    "all_res_df = pd.DataFrame(index=all_res_index, columns=header)\n",
    "\n",
    "use_index = range(len(rows))\n",
    "use_df = pd.DataFrame(index=use_index, columns=header)"
   ]
  },
  {
   "cell_type": "code",
   "execution_count": 24,
   "metadata": {
    "collapsed": true
   },
   "outputs": [],
   "source": [
    "for i, row in zip(range(len(rows)), rows):\n",
    "    res_df[\"error.min\"] = i * np.arange(len(rows))\n",
    "    index = i\n",
    "    all_res_df.iloc[len(res_df) * i : len(res_df) * (i + 1)] = res_df.as_matrix()\n",
    "    use_df.iloc[i] = res_df.iloc[index]"
   ]
  },
  {
   "cell_type": "code",
   "execution_count": 26,
   "metadata": {
    "collapsed": false
   },
   "outputs": [
    {
     "data": {
      "text/html": [
       "<div>\n",
       "<table border=\"1\" class=\"dataframe\">\n",
       "  <thead>\n",
       "    <tr style=\"text-align: right;\">\n",
       "      <th></th>\n",
       "      <th>A</th>\n",
       "      <th>error.min</th>\n",
       "    </tr>\n",
       "  </thead>\n",
       "  <tbody>\n",
       "    <tr>\n",
       "      <th>0</th>\n",
       "      <td>1</td>\n",
       "      <td>0</td>\n",
       "    </tr>\n",
       "    <tr>\n",
       "      <th>1</th>\n",
       "      <td>4</td>\n",
       "      <td>1</td>\n",
       "    </tr>\n",
       "    <tr>\n",
       "      <th>2</th>\n",
       "      <td>-1</td>\n",
       "      <td>4</td>\n",
       "    </tr>\n",
       "    <tr>\n",
       "      <th>3</th>\n",
       "      <td>10</td>\n",
       "      <td>9</td>\n",
       "    </tr>\n",
       "  </tbody>\n",
       "</table>\n",
       "</div>"
      ],
      "text/plain": [
       "    A  error.min\n",
       "0   1          0\n",
       "1   4          1\n",
       "2  -1          4\n",
       "3  10          9"
      ]
     },
     "execution_count": 26,
     "metadata": {},
     "output_type": "execute_result"
    }
   ],
   "source": [
    "use_df"
   ]
  },
  {
   "cell_type": "code",
   "execution_count": 25,
   "metadata": {
    "collapsed": false
   },
   "outputs": [
    {
     "data": {
      "text/html": [
       "<div>\n",
       "<table border=\"1\" class=\"dataframe\">\n",
       "  <thead>\n",
       "    <tr style=\"text-align: right;\">\n",
       "      <th></th>\n",
       "      <th>A</th>\n",
       "      <th>error.min</th>\n",
       "    </tr>\n",
       "  </thead>\n",
       "  <tbody>\n",
       "    <tr>\n",
       "      <th>0</th>\n",
       "      <td>1</td>\n",
       "      <td>0</td>\n",
       "    </tr>\n",
       "    <tr>\n",
       "      <th>1</th>\n",
       "      <td>4</td>\n",
       "      <td>0</td>\n",
       "    </tr>\n",
       "    <tr>\n",
       "      <th>2</th>\n",
       "      <td>-1</td>\n",
       "      <td>0</td>\n",
       "    </tr>\n",
       "    <tr>\n",
       "      <th>3</th>\n",
       "      <td>10</td>\n",
       "      <td>0</td>\n",
       "    </tr>\n",
       "    <tr>\n",
       "      <th>4</th>\n",
       "      <td>1</td>\n",
       "      <td>0</td>\n",
       "    </tr>\n",
       "    <tr>\n",
       "      <th>5</th>\n",
       "      <td>4</td>\n",
       "      <td>1</td>\n",
       "    </tr>\n",
       "    <tr>\n",
       "      <th>6</th>\n",
       "      <td>-1</td>\n",
       "      <td>2</td>\n",
       "    </tr>\n",
       "    <tr>\n",
       "      <th>7</th>\n",
       "      <td>10</td>\n",
       "      <td>3</td>\n",
       "    </tr>\n",
       "    <tr>\n",
       "      <th>8</th>\n",
       "      <td>1</td>\n",
       "      <td>0</td>\n",
       "    </tr>\n",
       "    <tr>\n",
       "      <th>9</th>\n",
       "      <td>4</td>\n",
       "      <td>2</td>\n",
       "    </tr>\n",
       "    <tr>\n",
       "      <th>10</th>\n",
       "      <td>-1</td>\n",
       "      <td>4</td>\n",
       "    </tr>\n",
       "    <tr>\n",
       "      <th>11</th>\n",
       "      <td>10</td>\n",
       "      <td>6</td>\n",
       "    </tr>\n",
       "    <tr>\n",
       "      <th>12</th>\n",
       "      <td>1</td>\n",
       "      <td>0</td>\n",
       "    </tr>\n",
       "    <tr>\n",
       "      <th>13</th>\n",
       "      <td>4</td>\n",
       "      <td>3</td>\n",
       "    </tr>\n",
       "    <tr>\n",
       "      <th>14</th>\n",
       "      <td>-1</td>\n",
       "      <td>6</td>\n",
       "    </tr>\n",
       "    <tr>\n",
       "      <th>15</th>\n",
       "      <td>10</td>\n",
       "      <td>9</td>\n",
       "    </tr>\n",
       "  </tbody>\n",
       "</table>\n",
       "</div>"
      ],
      "text/plain": [
       "     A  error.min\n",
       "0    1          0\n",
       "1    4          0\n",
       "2   -1          0\n",
       "3   10          0\n",
       "4    1          0\n",
       "5    4          1\n",
       "6   -1          2\n",
       "7   10          3\n",
       "8    1          0\n",
       "9    4          2\n",
       "10  -1          4\n",
       "11  10          6\n",
       "12   1          0\n",
       "13   4          3\n",
       "14  -1          6\n",
       "15  10          9"
      ]
     },
     "execution_count": 25,
     "metadata": {},
     "output_type": "execute_result"
    }
   ],
   "source": [
    "all_res_df"
   ]
  },
  {
   "cell_type": "code",
   "execution_count": 13,
   "metadata": {
    "collapsed": false
   },
   "outputs": [
    {
     "data": {
      "text/plain": [
       "1"
      ]
     },
     "execution_count": 13,
     "metadata": {},
     "output_type": "execute_result"
    }
   ],
   "source": [
    "np.where(b_df[\"B\"] <= min(b_df[\"B\"]))[0][0]"
   ]
  },
  {
   "cell_type": "code",
   "execution_count": 9,
   "metadata": {
    "collapsed": false
   },
   "outputs": [
    {
     "data": {
      "text/html": [
       "<div>\n",
       "<table border=\"1\" class=\"dataframe\">\n",
       "  <thead>\n",
       "    <tr style=\"text-align: right;\">\n",
       "      <th></th>\n",
       "      <th>A</th>\n",
       "      <th>B</th>\n",
       "    </tr>\n",
       "  </thead>\n",
       "  <tbody>\n",
       "    <tr>\n",
       "      <th>0</th>\n",
       "      <td>-1</td>\n",
       "      <td>6</td>\n",
       "    </tr>\n",
       "    <tr>\n",
       "      <th>1</th>\n",
       "      <td>1</td>\n",
       "      <td>5</td>\n",
       "    </tr>\n",
       "    <tr>\n",
       "      <th>2</th>\n",
       "      <td>4</td>\n",
       "      <td>7</td>\n",
       "    </tr>\n",
       "  </tbody>\n",
       "</table>\n",
       "</div>"
      ],
      "text/plain": [
       "   A  B\n",
       "0 -1  6\n",
       "1  1  5\n",
       "2  4  7"
      ]
     },
     "execution_count": 9,
     "metadata": {},
     "output_type": "execute_result"
    }
   ],
   "source": [
    "b_df.index = range(len(b_df))\n",
    "b_df"
   ]
  },
  {
   "cell_type": "code",
   "execution_count": 19,
   "metadata": {
    "collapsed": false
   },
   "outputs": [
    {
     "data": {
      "text/plain": [
       "array([1, 5])"
      ]
     },
     "execution_count": 19,
     "metadata": {},
     "output_type": "execute_result"
    }
   ],
   "source": [
    "b_df.iloc[1].values"
   ]
  },
  {
   "cell_type": "code",
   "execution_count": 30,
   "metadata": {
    "collapsed": false
   },
   "outputs": [
    {
     "name": "stdout",
     "output_type": "stream",
     "text": [
      "[[   0.    0.    0.    0.    0.    0.    0.    0.    0.    0.    0.    0.\n",
      "     0.    0.    0.    0.    0.    0.    0.    0.    0.    0.    0.    0.\n",
      "     0.    0.    0.    0.    0.    0.]\n",
      " [   0.    1.    2.    3.    4.    5.    6.    7.    8.    9.   10.   11.\n",
      "    12.   13.   14.   15.   16.   17.   18.   19.   20.   21.   22.   23.\n",
      "    24.   25.   26.   27.   28.   29.]\n",
      " [   0.    2.    4.    6.    8.   10.   12.   14.   16.   18.   20.   22.\n",
      "    24.   26.   28.   30.   32.   34.   36.   38.   40.   42.   44.   46.\n",
      "    48.   50.   52.   54.   56.   58.]\n",
      " [   0.    3.    6.    9.   12.   15.   18.   21.   24.   27.   30.   33.\n",
      "    36.   39.   42.   45.   48.   51.   54.   57.   60.   63.   66.   69.\n",
      "    72.   75.   78.   81.   84.   87.]\n",
      " [   0.    4.    8.   12.   16.   20.   24.   28.   32.   36.   40.   44.\n",
      "    48.   52.   56.   60.   64.   68.   72.   76.   80.   84.   88.   92.\n",
      "    96.  100.  104.  108.  112.  116.]\n",
      " [   0.    5.   10.   15.   20.   25.   30.   35.   40.   45.   50.   55.\n",
      "    60.   65.   70.   75.   80.   85.   90.   95.  100.  105.  110.  115.\n",
      "   120.  125.  130.  135.  140.  145.]\n",
      " [   0.    6.   12.   18.   24.   30.   36.   42.   48.   54.   60.   66.\n",
      "    72.   78.   84.   90.   96.  102.  108.  114.  120.  126.  132.  138.\n",
      "   144.  150.  156.  162.  168.  174.]\n",
      " [   0.    7.   14.   21.   28.   35.   42.   49.   56.   63.   70.   77.\n",
      "    84.   91.   98.  105.  112.  119.  126.  133.  140.  147.  154.  161.\n",
      "   168.  175.  182.  189.  196.  203.]\n",
      " [   0.    8.   16.   24.   32.   40.   48.   56.   64.   72.   80.   88.\n",
      "    96.  104.  112.  120.  128.  136.  144.  152.  160.  168.  176.  184.\n",
      "   192.  200.  208.  216.  224.  232.]\n",
      " [   0.    9.   18.   27.   36.   45.   54.   63.   72.   81.   90.   99.\n",
      "   108.  117.  126.  135.  144.  153.  162.  171.  180.  189.  198.  207.\n",
      "   216.  225.  234.  243.  252.  261.]\n",
      " [   0.   10.   20.   30.   40.   50.   60.   70.   80.   90.  100.  110.\n",
      "   120.  130.  140.  150.  160.  170.  180.  190.  200.  210.  220.  230.\n",
      "   240.  250.  260.  270.  280.  290.]\n",
      " [   0.   11.   22.   33.   44.   55.   66.   77.   88.   99.  110.  121.\n",
      "   132.  143.  154.  165.  176.  187.  198.  209.  220.  231.  242.  253.\n",
      "   264.  275.  286.  297.  308.  319.]]\n",
      "[  0  -1  -2  -3  -4  -5  -6  -7  -8  -9 -10 -11]\n"
     ]
    }
   ],
   "source": [
    "T = 12\n",
    "lag = 2\n",
    "n = 30\n",
    "X = np.zeros((T, n))\n",
    "\n",
    "for i in range(T):\n",
    "    X[i] = np.arange(n) * i\n",
    "print X\n",
    "\n",
    "y = np.arange(T) * -1 \n",
    "print y"
   ]
  },
  {
   "cell_type": "code",
   "execution_count": 31,
   "metadata": {
    "collapsed": true
   },
   "outputs": [],
   "source": [
    "\n",
    "X_t = np.zeros((T - lag, n * lag))\n",
    "\n",
    "for j in range(T - lag):\n",
    "    for k in range(lag):\n",
    "        X_t[j, n*k:n*(k+1)] = X[j + lag - k, ]\n",
    "\n",
    "y_t = y[(lag+1):T]"
   ]
  },
  {
   "cell_type": "code",
   "execution_count": 42,
   "metadata": {
    "collapsed": false
   },
   "outputs": [],
   "source": [
    "from sklearn.cross_validation import StratifiedKFold"
   ]
  },
  {
   "cell_type": "code",
   "execution_count": 47,
   "metadata": {
    "collapsed": false
   },
   "outputs": [
    {
     "name": "stdout",
     "output_type": "stream",
     "text": [
      "[0, 0, 0, 0, 1, 1, 1, 1, 2, 2, 2, 2]\n",
      "[ 1  2  3  5  6  7  9 10 11] [0 4 8]\n",
      "[ 0  2  3  4  6  7  8 10 11] [1 5 9]\n",
      "[ 0  1  3  4  5  7  8  9 11] [ 2  6 10]\n",
      "[ 0  1  2  4  5  6  8  9 10] [ 3  7 11]\n"
     ]
    }
   ],
   "source": [
    "labels = [i /4 for i in range(12)]\n",
    "print labels\n",
    "cv = StratifiedKFold(labels, 4)\n",
    "for train_index, test_index in cv:\n",
    "    print train_index, test_index"
   ]
  },
  {
   "cell_type": "code",
   "execution_count": 77,
   "metadata": {
    "collapsed": false
   },
   "outputs": [
    {
     "data": {
      "text/plain": [
       "([4, 3, 5, 0, 6], array([1, 2, 3, 3, 5]))"
      ]
     },
     "execution_count": 77,
     "metadata": {},
     "output_type": "execute_result"
    }
   ],
   "source": [
    "get_min_k(d, 5)"
   ]
  },
  {
   "cell_type": "code",
   "execution_count": 4,
   "metadata": {
    "collapsed": false
   },
   "outputs": [],
   "source": [
    "import CausalTests as ct\n",
    "import numpy as np"
   ]
  },
  {
   "cell_type": "code",
   "execution_count": 5,
   "metadata": {
    "collapsed": false
   },
   "outputs": [],
   "source": [
    "n_samples, n_features = 60, 100\n",
    "\n",
    "np.random.seed(1)\n",
    "X = np.random.randn(n_samples, n_features)\n",
    "coef = 3*np.random.randn(n_features)\n",
    "coef[10:] = 0 # sparsify coef\n",
    "y = np.dot(X, coef)\n",
    "\n",
    "# add noise\n",
    "y += 0.01 * np.random.normal((n_samples,))\n",
    "\n",
    "# Split data in train set and test se"
   ]
  },
  {
   "cell_type": "code",
   "execution_count": 21,
   "metadata": {
    "collapsed": false
   },
   "outputs": [],
   "source": [
    "n = n_features\n",
    "T = n_samples\n",
    "lag = 2\n",
    "\n",
    "X_t = np.zeros((T - lag, n * lag))\n",
    "\n",
    "for j in range(T - lag):\n",
    "    for k in range(lag):\n",
    "        X_t[j, n*k:n*(k+1)] = X[j + lag - k, ]\n",
    "\n",
    "y_t = y[lag:]"
   ]
  },
  {
   "cell_type": "code",
   "execution_count": 29,
   "metadata": {
    "collapsed": false,
    "scrolled": true
   },
   "outputs": [
    {
     "name": "stdout",
     "output_type": "stream",
     "text": [
      "[ 0.01  0.02  0.03  0.04  0.05  0.06  0.07  0.08  0.09  0.1   0.11  0.12\n",
      "  0.13  0.14  0.15  0.16  0.17  0.18  0.19  0.2   0.21  0.22  0.23  0.24\n",
      "  0.25  0.26  0.27  0.28  0.29  0.3   0.31  0.32  0.33  0.34  0.35  0.36\n",
      "  0.37  0.38  0.39  0.4   0.41  0.42  0.43  0.44  0.45  0.46  0.47  0.48\n",
      "  0.49  0.5   0.51  0.52  0.53  0.54  0.55  0.56  0.57  0.58  0.59  0.6\n",
      "  0.61  0.62  0.63  0.64  0.65  0.66  0.67  0.68  0.69  0.7   0.71  0.72\n",
      "  0.73  0.74  0.75  0.76  0.77  0.78  0.79  0.8   0.81  0.82  0.83  0.84\n",
      "  0.85  0.86  0.87  0.88  0.89  0.9   0.91  0.92  0.93  0.94  0.95  0.96\n",
      "  0.97  0.98  0.99]\n"
     ]
    }
   ],
   "source": [
    "top_num = 3\n",
    "n_folds = 3\n",
    "max_iter = 100\n",
    "print alphas\n",
    "\n",
    "cv = ct.get_TS_cv(len(y_t), n_folds)"
   ]
  },
  {
   "cell_type": "code",
   "execution_count": 54,
   "metadata": {
    "collapsed": true
   },
   "outputs": [],
   "source": [
    "from sklearn.linear_model import LinearRegression, ElasticNetCV\n",
    "import pandas as pd"
   ]
  },
  {
   "cell_type": "code",
   "execution_count": 81,
   "metadata": {
    "collapsed": false
   },
   "outputs": [
    {
     "data": {
      "text/plain": [
       "<module 'CausalTests' from 'CausalTests.py'>"
      ]
     },
     "execution_count": 81,
     "metadata": {},
     "output_type": "execute_result"
    }
   ],
   "source": [
    "reload(ct)"
   ]
  },
  {
   "cell_type": "code",
   "execution_count": 88,
   "metadata": {
    "collapsed": false
   },
   "outputs": [
    {
     "name": "stdout",
     "output_type": "stream",
     "text": [
      "For # alphas:  300\n",
      "CPU times: user 17.1 s, sys: 104 ms, total: 17.2 s\n",
      "Wall time: 17.7 s\n"
     ]
    }
   ],
   "source": [
    "cv = ct.get_TS_cv(len(y_t), n_folds)\n",
    "\n",
    "print \"For # alphas: \", len(alphas)\n",
    "%time top_df = ct.enet_granger_causality_cv(X_t, y_t, cv, alphas=alphas)\n"
   ]
  },
  {
   "cell_type": "code",
   "execution_count": 78,
   "metadata": {
    "collapsed": false
   },
   "outputs": [
    {
     "name": "stdout",
     "output_type": "stream",
     "text": [
      "(396, 3)\n"
     ]
    },
    {
     "data": {
      "text/html": [
       "<div>\n",
       "<table border=\"1\" class=\"dataframe\">\n",
       "  <thead>\n",
       "    <tr style=\"text-align: right;\">\n",
       "      <th></th>\n",
       "      <th>alpha</th>\n",
       "      <th>error.min</th>\n",
       "      <th>lambda.min</th>\n",
       "    </tr>\n",
       "  </thead>\n",
       "  <tbody>\n",
       "    <tr>\n",
       "      <th>0</th>\n",
       "      <td>0.99</td>\n",
       "      <td>22.534364</td>\n",
       "      <td>0.007259</td>\n",
       "    </tr>\n",
       "    <tr>\n",
       "      <th>1</th>\n",
       "      <td>0.99</td>\n",
       "      <td>22.549312</td>\n",
       "      <td>0.007784</td>\n",
       "    </tr>\n",
       "    <tr>\n",
       "      <th>2</th>\n",
       "      <td>0.99</td>\n",
       "      <td>22.566005</td>\n",
       "      <td>0.008347</td>\n",
       "    </tr>\n",
       "    <tr>\n",
       "      <th>3</th>\n",
       "      <td>0.99</td>\n",
       "      <td>22.582873</td>\n",
       "      <td>0.008950</td>\n",
       "    </tr>\n",
       "    <tr>\n",
       "      <th>4</th>\n",
       "      <td>0.99</td>\n",
       "      <td>22.600528</td>\n",
       "      <td>0.009596</td>\n",
       "    </tr>\n",
       "  </tbody>\n",
       "</table>\n",
       "</div>"
      ],
      "text/plain": [
       "   alpha  error.min  lambda.min\n",
       "0   0.99  22.534364    0.007259\n",
       "1   0.99  22.549312    0.007784\n",
       "2   0.99  22.566005    0.008347\n",
       "3   0.99  22.582873    0.008950\n",
       "4   0.99  22.600528    0.009596"
      ]
     },
     "execution_count": 78,
     "metadata": {},
     "output_type": "execute_result"
    }
   ],
   "source": [
    "print top_df.shape\n",
    "top_df.head()"
   ]
  },
  {
   "cell_type": "code",
   "execution_count": 91,
   "metadata": {
    "collapsed": false
   },
   "outputs": [
    {
     "data": {
      "text/plain": [
       "1.0"
      ]
     },
     "execution_count": 91,
     "metadata": {},
     "output_type": "execute_result"
    }
   ],
   "source": [
    "y_pred = y_t + 1\n",
    "np.average((y_t - y_pred)**2)"
   ]
  },
  {
   "cell_type": "code",
   "execution_count": 36,
   "metadata": {
    "collapsed": true
   },
   "outputs": [],
   "source": [
    "mses = enet.mse_path_"
   ]
  },
  {
   "cell_type": "code",
   "execution_count": 57,
   "metadata": {
    "collapsed": true
   },
   "outputs": [],
   "source": [
    "top_num = 100"
   ]
  },
  {
   "cell_type": "code",
   "execution_count": 60,
   "metadata": {
    "collapsed": false
   },
   "outputs": [],
   "source": [
    "# this will keep the smallest\n",
    "top_indices, top_mses = ct.get_min_k(cv_mses, top_num)\n",
    "\n",
    "top_lambdas = cv_lambdas[top_indices]\n",
    "top_alphas = cv_alphas[top_indices]\n",
    "\n",
    "top_df = pd.DataFrame(data={\"lambda.min\": top_lambdas, \"alpha\": top_alphas, \"error.min\": top_mses})"
   ]
  },
  {
   "cell_type": "code",
   "execution_count": 62,
   "metadata": {
    "collapsed": false
   },
   "outputs": [
    {
     "data": {
      "text/plain": [
       "4.666666666666667"
      ]
     },
     "execution_count": 62,
     "metadata": {},
     "output_type": "execute_result"
    }
   ],
   "source": [
    "np.average([5,4,5])"
   ]
  },
  {
   "cell_type": "code",
   "execution_count": 69,
   "metadata": {
    "collapsed": false
   },
   "outputs": [
    {
     "data": {
      "text/plain": [
       "(58, 200)"
      ]
     },
     "execution_count": 69,
     "metadata": {},
     "output_type": "execute_result"
    }
   ],
   "source": [
    "X_t.shape"
   ]
  },
  {
   "cell_type": "code",
   "execution_count": 68,
   "metadata": {
    "collapsed": false
   },
   "outputs": [
    {
     "data": {
      "text/plain": [
       "(200,)"
      ]
     },
     "execution_count": 68,
     "metadata": {},
     "output_type": "execute_result"
    }
   ],
   "source": [
    "enet.coef_.shape"
   ]
  },
  {
   "cell_type": "code",
   "execution_count": 71,
   "metadata": {
    "collapsed": false
   },
   "outputs": [
    {
     "name": "stdout",
     "output_type": "stream",
     "text": [
      "    alpha  error.min  lambda.min  test_err     score    df\n",
      "0    0.99  22.534364    0.007259  0.000711  0.999993  17.0\n",
      "1    0.99  22.549312    0.007784  0.000818  0.999992  17.0\n",
      "2    0.99  22.566005    0.008347  0.000920  0.999991  17.0\n",
      "3    0.99  22.582873    0.008950  0.001078  0.999990  17.0\n",
      "4    0.99  22.600528    0.009596  0.001207  0.999989  17.0\n",
      "5    0.99  22.617994    0.010290  0.001391  0.999987  17.0\n",
      "6    0.99  22.634447    0.011034  0.001587  0.999985  17.0\n",
      "7    0.99  22.650516    0.011831  0.001839  0.999983  17.0\n",
      "8    0.99  22.667412    0.012686  0.002110  0.999980  17.0\n",
      "9    0.99  22.692117    0.013603  0.002426  0.999977  17.0\n",
      "10   0.99  22.710110    0.014586  0.002767  0.999974  17.0\n",
      "11   0.99  22.735867    0.015640  0.003193  0.999970  17.0\n",
      "12   0.99  22.753928    0.016770  0.003657  0.999966  17.0\n",
      "13   0.99  22.770854    0.017982  0.004197  0.999961  17.0\n",
      "14   0.99  22.787013    0.019282  0.004856  0.999955  17.0\n",
      "15   0.99  22.802714    0.020675  0.005579  0.999948  17.0\n",
      "16   0.99  22.819410    0.022169  0.006373  0.999941  17.0\n",
      "17   0.99  22.837379    0.023771  0.007335  0.999932  17.0\n",
      "18   0.99  22.855607    0.025489  0.008449  0.999921  17.0\n",
      "19   0.99  22.877704    0.027331  0.009679  0.999910  17.0\n",
      "20   0.99  22.901159    0.029306  0.011161  0.999896  17.0\n",
      "21   0.99  22.924953    0.031424  0.012800  0.999881  17.0\n",
      "22   0.99  22.945622    0.033695  0.014695  0.999863  17.0\n",
      "23   0.99  22.958765    0.036130  0.016881  0.999843  17.0\n",
      "24   0.99  22.969875    0.038741  0.019396  0.999819  17.0\n",
      "25   0.99  22.990593    0.041541  0.022291  0.999792  17.0\n",
      "26   0.98  22.992477    0.007333  0.000777  0.999993  20.0\n",
      "27   0.98  23.001730    0.007863  0.000875  0.999992  20.0\n",
      "28   0.98  23.011145    0.008432  0.001008  0.999991  20.0\n",
      "29   0.99  23.019577    0.044543  0.025622  0.999761  17.0\n",
      "..    ...        ...         ...       ...       ...   ...\n",
      "70   0.99  23.856275    0.118310  0.179369  0.998327  17.0\n",
      "71   0.98  23.885821    0.059484  0.047743  0.999555  17.0\n",
      "72   0.98  23.913898    0.063783  0.054896  0.999488  17.0\n",
      "73   0.98  24.026466    0.068392  0.062975  0.999413  17.0\n",
      "74   0.99  24.041721    0.126859  0.206092  0.998078  17.0\n",
      "75   0.98  24.146074    0.073334  0.072391  0.999325  17.0\n",
      "76   0.98  24.277994    0.078634  0.083226  0.999224  17.0\n",
      "77   0.99  24.295825    0.136027  0.236824  0.997791  17.0\n",
      "78   0.98  24.422122    0.084317  0.095529  0.999109  17.0\n",
      "79   0.98  24.570398    0.090410  0.109797  0.998976  17.0\n",
      "80   0.99  24.597146    0.145858  0.272064  0.997463  17.0\n",
      "81   0.97  24.658190    0.007409  0.000837  0.999992  22.0\n",
      "82   0.97  24.664001    0.007944  0.000955  0.999991  22.0\n",
      "83   0.97  24.670293    0.008519  0.001097  0.999990  22.0\n",
      "84   0.97  24.674144    0.009134  0.001248  0.999988  22.0\n",
      "85   0.97  24.684350    0.009794  0.001426  0.999987  21.0\n",
      "86   0.97  24.689987    0.010502  0.001635  0.999985  22.0\n",
      "87   0.97  24.699314    0.011261  0.001882  0.999982  22.0\n",
      "88   0.97  24.708258    0.012075  0.002143  0.999980  21.0\n",
      "89   0.97  24.716476    0.012948  0.002450  0.999977  21.0\n",
      "90   0.97  24.724619    0.013883  0.002810  0.999974  21.0\n",
      "91   0.98  24.735464    0.096944  0.126191  0.998823  17.0\n",
      "92   0.97  24.738447    0.014886  0.003229  0.999970  21.0\n",
      "93   0.97  24.748106    0.015962  0.003686  0.999966  21.0\n",
      "94   0.97  24.764567    0.017116  0.004248  0.999960  21.0\n",
      "95   0.97  24.778298    0.018353  0.004864  0.999955  21.0\n",
      "96   0.97  24.800893    0.019679  0.005578  0.999948  21.0\n",
      "97   0.97  24.816449    0.021101  0.006403  0.999940  21.0\n",
      "98   0.97  24.838138    0.022626  0.007356  0.999931  21.0\n",
      "99   0.99  24.856555    0.156398  0.312616  0.997085  17.0\n",
      "\n",
      "[100 rows x 6 columns]\n"
     ]
    }
   ],
   "source": [
    "from sklearn.linear_model import ElasticNet\n",
    "\n",
    "test_errs = np.zeros(len(top_df))\n",
    "scores = np.zeros(len(top_df))\n",
    "dfs = np.zeros(len(top_df))\n",
    "\n",
    "test_coefs = np.zeros((len(top_df), X_t.shape[1]))\n",
    "for i in range(len(top_df)):\n",
    "    alpha = top_df.iloc[i][\"alpha\"]\n",
    "    lambda_min = top_df.iloc[i][\"lambda.min\"]\n",
    "    enet = ElasticNet(l1_ratio=alpha, alpha=lambda_min)\n",
    "    enet.fit(X_t, y_t)\n",
    "    y_pred = enet.predict(X_t)\n",
    "    test_errs[i] = np.average((y_t - y_pred)**2)\n",
    "    scores[i] = enet.score(X_t, y_t)\n",
    "    test_coefs[i] = enet.coef_\n",
    "    \n",
    "    dfs[i] = len(np.where(enet.coef_)[0])\n",
    "    \n",
    "top_df[\"test_err\"] = test_errs\n",
    "top_df[\"score\"] = scores\n",
    "top_df[\"df\"] = dfs\n",
    "\n",
    "print top_df"
   ]
  },
  {
   "cell_type": "code",
   "execution_count": 93,
   "metadata": {
    "collapsed": false
   },
   "outputs": [
    {
     "data": {
      "text/plain": [
       "<module 'CausalTests' from 'CausalTests.py'>"
      ]
     },
     "execution_count": 93,
     "metadata": {},
     "output_type": "execute_result"
    }
   ],
   "source": [
    "reload(ct)"
   ]
  },
  {
   "cell_type": "code",
   "execution_count": 94,
   "metadata": {
    "collapsed": false,
    "scrolled": true
   },
   "outputs": [],
   "source": [
    "top_df, test_coefs = ct.enet_granger_causality_test(X_t, y_t, top_df)"
   ]
  },
  {
   "cell_type": "code",
   "execution_count": 95,
   "metadata": {
    "collapsed": false
   },
   "outputs": [
    {
     "data": {
      "text/plain": [
       "(1200, 200)"
      ]
     },
     "execution_count": 95,
     "metadata": {},
     "output_type": "execute_result"
    }
   ],
   "source": [
    "test_coefs.shape"
   ]
  },
  {
   "cell_type": "code",
   "execution_count": 96,
   "metadata": {
    "collapsed": false
   },
   "outputs": [
    {
     "data": {
      "text/plain": [
       "1200"
      ]
     },
     "execution_count": 96,
     "metadata": {},
     "output_type": "execute_result"
    }
   ],
   "source": [
    "len(top_df)"
   ]
  },
  {
   "cell_type": "code",
   "execution_count": 98,
   "metadata": {
    "collapsed": false
   },
   "outputs": [
    {
     "data": {
      "text/html": [
       "<div>\n",
       "<table border=\"1\" class=\"dataframe\">\n",
       "  <thead>\n",
       "    <tr style=\"text-align: right;\">\n",
       "      <th></th>\n",
       "      <th>alpha</th>\n",
       "      <th>error.min</th>\n",
       "      <th>lambda.min</th>\n",
       "      <th>test_err</th>\n",
       "      <th>score</th>\n",
       "      <th>df</th>\n",
       "    </tr>\n",
       "  </thead>\n",
       "  <tbody>\n",
       "    <tr>\n",
       "      <th>count</th>\n",
       "      <td>1200.000000</td>\n",
       "      <td>1200.000000</td>\n",
       "      <td>1200.000000</td>\n",
       "      <td>1200.000000</td>\n",
       "      <td>1200.000000</td>\n",
       "      <td>1200.000000</td>\n",
       "    </tr>\n",
       "    <tr>\n",
       "      <th>mean</th>\n",
       "      <td>0.959887</td>\n",
       "      <td>30.555324</td>\n",
       "      <td>0.114722</td>\n",
       "      <td>0.403671</td>\n",
       "      <td>0.996236</td>\n",
       "      <td>22.792500</td>\n",
       "    </tr>\n",
       "    <tr>\n",
       "      <th>std</th>\n",
       "      <td>0.018756</td>\n",
       "      <td>5.757457</td>\n",
       "      <td>0.127802</td>\n",
       "      <td>0.741618</td>\n",
       "      <td>0.006916</td>\n",
       "      <td>5.047839</td>\n",
       "    </tr>\n",
       "    <tr>\n",
       "      <th>min</th>\n",
       "      <td>0.927726</td>\n",
       "      <td>22.534364</td>\n",
       "      <td>0.007259</td>\n",
       "      <td>0.000711</td>\n",
       "      <td>0.961815</td>\n",
       "      <td>14.000000</td>\n",
       "    </tr>\n",
       "    <tr>\n",
       "      <th>25%</th>\n",
       "      <td>0.944114</td>\n",
       "      <td>25.278864</td>\n",
       "      <td>0.020650</td>\n",
       "      <td>0.006540</td>\n",
       "      <td>0.996186</td>\n",
       "      <td>18.000000</td>\n",
       "    </tr>\n",
       "    <tr>\n",
       "      <th>50%</th>\n",
       "      <td>0.960502</td>\n",
       "      <td>29.768741</td>\n",
       "      <td>0.058742</td>\n",
       "      <td>0.051678</td>\n",
       "      <td>0.999518</td>\n",
       "      <td>23.000000</td>\n",
       "    </tr>\n",
       "    <tr>\n",
       "      <th>75%</th>\n",
       "      <td>0.976890</td>\n",
       "      <td>35.522659</td>\n",
       "      <td>0.167840</td>\n",
       "      <td>0.408972</td>\n",
       "      <td>0.999939</td>\n",
       "      <td>28.000000</td>\n",
       "    </tr>\n",
       "    <tr>\n",
       "      <th>max</th>\n",
       "      <td>0.990000</td>\n",
       "      <td>41.564513</td>\n",
       "      <td>0.592755</td>\n",
       "      <td>4.094693</td>\n",
       "      <td>0.999993</td>\n",
       "      <td>33.000000</td>\n",
       "    </tr>\n",
       "  </tbody>\n",
       "</table>\n",
       "</div>"
      ],
      "text/plain": [
       "             alpha    error.min   lambda.min     test_err        score  \\\n",
       "count  1200.000000  1200.000000  1200.000000  1200.000000  1200.000000   \n",
       "mean      0.959887    30.555324     0.114722     0.403671     0.996236   \n",
       "std       0.018756     5.757457     0.127802     0.741618     0.006916   \n",
       "min       0.927726    22.534364     0.007259     0.000711     0.961815   \n",
       "25%       0.944114    25.278864     0.020650     0.006540     0.996186   \n",
       "50%       0.960502    29.768741     0.058742     0.051678     0.999518   \n",
       "75%       0.976890    35.522659     0.167840     0.408972     0.999939   \n",
       "max       0.990000    41.564513     0.592755     4.094693     0.999993   \n",
       "\n",
       "                df  \n",
       "count  1200.000000  \n",
       "mean     22.792500  \n",
       "std       5.047839  \n",
       "min      14.000000  \n",
       "25%      18.000000  \n",
       "50%      23.000000  \n",
       "75%      28.000000  \n",
       "max      33.000000  "
      ]
     },
     "execution_count": 98,
     "metadata": {},
     "output_type": "execute_result"
    }
   ],
   "source": [
    "top_df.describe()"
   ]
  },
  {
   "cell_type": "code",
   "execution_count": 101,
   "metadata": {
    "collapsed": false,
    "scrolled": true
   },
   "outputs": [
    {
     "name": "stderr",
     "output_type": "stream",
     "text": [
      "/Library/Frameworks/Python.framework/Versions/2.7/lib/python2.7/site-packages/ipykernel/__main__.py:1: FutureWarning: sort(columns=....) is deprecated, use sort_values(by=.....)\n",
      "  if __name__ == '__main__':\n"
     ]
    },
    {
     "data": {
      "text/html": [
       "<div>\n",
       "<table border=\"1\" class=\"dataframe\">\n",
       "  <thead>\n",
       "    <tr style=\"text-align: right;\">\n",
       "      <th></th>\n",
       "      <th>alpha</th>\n",
       "      <th>error.min</th>\n",
       "      <th>lambda.min</th>\n",
       "      <th>test_err</th>\n",
       "      <th>score</th>\n",
       "      <th>df</th>\n",
       "    </tr>\n",
       "  </thead>\n",
       "  <tbody>\n",
       "    <tr>\n",
       "      <th>0</th>\n",
       "      <td>0.990000</td>\n",
       "      <td>22.534364</td>\n",
       "      <td>0.007259</td>\n",
       "      <td>0.000711</td>\n",
       "      <td>0.999993</td>\n",
       "      <td>17.0</td>\n",
       "    </tr>\n",
       "    <tr>\n",
       "      <th>11</th>\n",
       "      <td>0.986722</td>\n",
       "      <td>22.725284</td>\n",
       "      <td>0.007283</td>\n",
       "      <td>0.000734</td>\n",
       "      <td>0.999993</td>\n",
       "      <td>19.0</td>\n",
       "    </tr>\n",
       "    <tr>\n",
       "      <th>28</th>\n",
       "      <td>0.983445</td>\n",
       "      <td>22.854051</td>\n",
       "      <td>0.007308</td>\n",
       "      <td>0.000755</td>\n",
       "      <td>0.999993</td>\n",
       "      <td>20.0</td>\n",
       "    </tr>\n",
       "    <tr>\n",
       "      <th>54</th>\n",
       "      <td>0.980167</td>\n",
       "      <td>22.984007</td>\n",
       "      <td>0.007332</td>\n",
       "      <td>0.000775</td>\n",
       "      <td>0.999993</td>\n",
       "      <td>20.0</td>\n",
       "    </tr>\n",
       "    <tr>\n",
       "      <th>116</th>\n",
       "      <td>0.976890</td>\n",
       "      <td>23.420661</td>\n",
       "      <td>0.007357</td>\n",
       "      <td>0.000800</td>\n",
       "      <td>0.999993</td>\n",
       "      <td>20.0</td>\n",
       "    </tr>\n",
       "    <tr>\n",
       "      <th>176</th>\n",
       "      <td>0.973612</td>\n",
       "      <td>24.029752</td>\n",
       "      <td>0.007382</td>\n",
       "      <td>0.000808</td>\n",
       "      <td>0.999992</td>\n",
       "      <td>21.0</td>\n",
       "    </tr>\n",
       "    <tr>\n",
       "      <th>1</th>\n",
       "      <td>0.990000</td>\n",
       "      <td>22.549312</td>\n",
       "      <td>0.007784</td>\n",
       "      <td>0.000818</td>\n",
       "      <td>0.999992</td>\n",
       "      <td>17.0</td>\n",
       "    </tr>\n",
       "    <tr>\n",
       "      <th>227</th>\n",
       "      <td>0.970334</td>\n",
       "      <td>24.622360</td>\n",
       "      <td>0.007406</td>\n",
       "      <td>0.000833</td>\n",
       "      <td>0.999992</td>\n",
       "      <td>22.0</td>\n",
       "    </tr>\n",
       "    <tr>\n",
       "      <th>13</th>\n",
       "      <td>0.986722</td>\n",
       "      <td>22.738633</td>\n",
       "      <td>0.007810</td>\n",
       "      <td>0.000842</td>\n",
       "      <td>0.999992</td>\n",
       "      <td>19.0</td>\n",
       "    </tr>\n",
       "    <tr>\n",
       "      <th>262</th>\n",
       "      <td>0.967057</td>\n",
       "      <td>24.986905</td>\n",
       "      <td>0.007432</td>\n",
       "      <td>0.000859</td>\n",
       "      <td>0.999992</td>\n",
       "      <td>23.0</td>\n",
       "    </tr>\n",
       "    <tr>\n",
       "      <th>31</th>\n",
       "      <td>0.983445</td>\n",
       "      <td>22.865538</td>\n",
       "      <td>0.007836</td>\n",
       "      <td>0.000866</td>\n",
       "      <td>0.999992</td>\n",
       "      <td>20.0</td>\n",
       "    </tr>\n",
       "    <tr>\n",
       "      <th>305</th>\n",
       "      <td>0.963779</td>\n",
       "      <td>25.370603</td>\n",
       "      <td>0.007457</td>\n",
       "      <td>0.000871</td>\n",
       "      <td>0.999992</td>\n",
       "      <td>24.0</td>\n",
       "    </tr>\n",
       "    <tr>\n",
       "      <th>56</th>\n",
       "      <td>0.980167</td>\n",
       "      <td>22.992462</td>\n",
       "      <td>0.007862</td>\n",
       "      <td>0.000888</td>\n",
       "      <td>0.999992</td>\n",
       "      <td>20.0</td>\n",
       "    </tr>\n",
       "    <tr>\n",
       "      <th>118</th>\n",
       "      <td>0.976890</td>\n",
       "      <td>23.431692</td>\n",
       "      <td>0.007888</td>\n",
       "      <td>0.000896</td>\n",
       "      <td>0.999992</td>\n",
       "      <td>20.0</td>\n",
       "    </tr>\n",
       "    <tr>\n",
       "      <th>374</th>\n",
       "      <td>0.960502</td>\n",
       "      <td>26.169731</td>\n",
       "      <td>0.007482</td>\n",
       "      <td>0.000900</td>\n",
       "      <td>0.999992</td>\n",
       "      <td>25.0</td>\n",
       "    </tr>\n",
       "    <tr>\n",
       "      <th>454</th>\n",
       "      <td>0.957224</td>\n",
       "      <td>27.486365</td>\n",
       "      <td>0.007508</td>\n",
       "      <td>0.000917</td>\n",
       "      <td>0.999991</td>\n",
       "      <td>26.0</td>\n",
       "    </tr>\n",
       "    <tr>\n",
       "      <th>2</th>\n",
       "      <td>0.990000</td>\n",
       "      <td>22.566005</td>\n",
       "      <td>0.008347</td>\n",
       "      <td>0.000920</td>\n",
       "      <td>0.999991</td>\n",
       "      <td>17.0</td>\n",
       "    </tr>\n",
       "    <tr>\n",
       "      <th>179</th>\n",
       "      <td>0.973612</td>\n",
       "      <td>24.042805</td>\n",
       "      <td>0.007915</td>\n",
       "      <td>0.000923</td>\n",
       "      <td>0.999991</td>\n",
       "      <td>20.0</td>\n",
       "    </tr>\n",
       "    <tr>\n",
       "      <th>14</th>\n",
       "      <td>0.986722</td>\n",
       "      <td>22.751837</td>\n",
       "      <td>0.008374</td>\n",
       "      <td>0.000948</td>\n",
       "      <td>0.999991</td>\n",
       "      <td>17.0</td>\n",
       "    </tr>\n",
       "    <tr>\n",
       "      <th>228</th>\n",
       "      <td>0.970334</td>\n",
       "      <td>24.628326</td>\n",
       "      <td>0.007942</td>\n",
       "      <td>0.000951</td>\n",
       "      <td>0.999991</td>\n",
       "      <td>22.0</td>\n",
       "    </tr>\n",
       "    <tr>\n",
       "      <th>527</th>\n",
       "      <td>0.953946</td>\n",
       "      <td>28.740207</td>\n",
       "      <td>0.007534</td>\n",
       "      <td>0.000953</td>\n",
       "      <td>0.999991</td>\n",
       "      <td>26.0</td>\n",
       "    </tr>\n",
       "    <tr>\n",
       "      <th>606</th>\n",
       "      <td>0.950669</td>\n",
       "      <td>29.773077</td>\n",
       "      <td>0.007560</td>\n",
       "      <td>0.000974</td>\n",
       "      <td>0.999991</td>\n",
       "      <td>28.0</td>\n",
       "    </tr>\n",
       "    <tr>\n",
       "      <th>263</th>\n",
       "      <td>0.967057</td>\n",
       "      <td>24.990488</td>\n",
       "      <td>0.007969</td>\n",
       "      <td>0.000979</td>\n",
       "      <td>0.999991</td>\n",
       "      <td>23.0</td>\n",
       "    </tr>\n",
       "    <tr>\n",
       "      <th>32</th>\n",
       "      <td>0.983445</td>\n",
       "      <td>22.876342</td>\n",
       "      <td>0.008402</td>\n",
       "      <td>0.000980</td>\n",
       "      <td>0.999991</td>\n",
       "      <td>19.0</td>\n",
       "    </tr>\n",
       "    <tr>\n",
       "      <th>650</th>\n",
       "      <td>0.947391</td>\n",
       "      <td>30.790470</td>\n",
       "      <td>0.007586</td>\n",
       "      <td>0.000998</td>\n",
       "      <td>0.999991</td>\n",
       "      <td>29.0</td>\n",
       "    </tr>\n",
       "    <tr>\n",
       "      <th>58</th>\n",
       "      <td>0.980167</td>\n",
       "      <td>23.000991</td>\n",
       "      <td>0.008430</td>\n",
       "      <td>0.001006</td>\n",
       "      <td>0.999991</td>\n",
       "      <td>20.0</td>\n",
       "    </tr>\n",
       "    <tr>\n",
       "      <th>306</th>\n",
       "      <td>0.963779</td>\n",
       "      <td>25.374615</td>\n",
       "      <td>0.007996</td>\n",
       "      <td>0.001008</td>\n",
       "      <td>0.999991</td>\n",
       "      <td>24.0</td>\n",
       "    </tr>\n",
       "    <tr>\n",
       "      <th>376</th>\n",
       "      <td>0.960502</td>\n",
       "      <td>26.173595</td>\n",
       "      <td>0.008023</td>\n",
       "      <td>0.001023</td>\n",
       "      <td>0.999990</td>\n",
       "      <td>25.0</td>\n",
       "    </tr>\n",
       "    <tr>\n",
       "      <th>717</th>\n",
       "      <td>0.944114</td>\n",
       "      <td>32.077106</td>\n",
       "      <td>0.007612</td>\n",
       "      <td>0.001024</td>\n",
       "      <td>0.999990</td>\n",
       "      <td>31.0</td>\n",
       "    </tr>\n",
       "    <tr>\n",
       "      <th>121</th>\n",
       "      <td>0.976890</td>\n",
       "      <td>23.439622</td>\n",
       "      <td>0.008459</td>\n",
       "      <td>0.001031</td>\n",
       "      <td>0.999990</td>\n",
       "      <td>20.0</td>\n",
       "    </tr>\n",
       "    <tr>\n",
       "      <th>...</th>\n",
       "      <td>...</td>\n",
       "      <td>...</td>\n",
       "      <td>...</td>\n",
       "      <td>...</td>\n",
       "      <td>...</td>\n",
       "      <td>...</td>\n",
       "    </tr>\n",
       "    <tr>\n",
       "      <th>891</th>\n",
       "      <td>0.990000</td>\n",
       "      <td>35.425136</td>\n",
       "      <td>0.477618</td>\n",
       "      <td>2.825755</td>\n",
       "      <td>0.973648</td>\n",
       "      <td>14.0</td>\n",
       "    </tr>\n",
       "    <tr>\n",
       "      <th>1125</th>\n",
       "      <td>0.957224</td>\n",
       "      <td>40.168402</td>\n",
       "      <td>0.460680</td>\n",
       "      <td>2.861632</td>\n",
       "      <td>0.973314</td>\n",
       "      <td>18.0</td>\n",
       "    </tr>\n",
       "    <tr>\n",
       "      <th>924</th>\n",
       "      <td>0.986722</td>\n",
       "      <td>35.950988</td>\n",
       "      <td>0.479204</td>\n",
       "      <td>2.863121</td>\n",
       "      <td>0.973300</td>\n",
       "      <td>14.0</td>\n",
       "    </tr>\n",
       "    <tr>\n",
       "      <th>1153</th>\n",
       "      <td>0.953946</td>\n",
       "      <td>40.807659</td>\n",
       "      <td>0.462263</td>\n",
       "      <td>2.899078</td>\n",
       "      <td>0.972965</td>\n",
       "      <td>19.0</td>\n",
       "    </tr>\n",
       "    <tr>\n",
       "      <th>946</th>\n",
       "      <td>0.983445</td>\n",
       "      <td>36.481709</td>\n",
       "      <td>0.480801</td>\n",
       "      <td>2.901127</td>\n",
       "      <td>0.972946</td>\n",
       "      <td>14.0</td>\n",
       "    </tr>\n",
       "    <tr>\n",
       "      <th>1195</th>\n",
       "      <td>0.950669</td>\n",
       "      <td>41.474315</td>\n",
       "      <td>0.463856</td>\n",
       "      <td>2.935969</td>\n",
       "      <td>0.972621</td>\n",
       "      <td>19.0</td>\n",
       "    </tr>\n",
       "    <tr>\n",
       "      <th>980</th>\n",
       "      <td>0.980167</td>\n",
       "      <td>37.032074</td>\n",
       "      <td>0.482409</td>\n",
       "      <td>2.939766</td>\n",
       "      <td>0.972585</td>\n",
       "      <td>14.0</td>\n",
       "    </tr>\n",
       "    <tr>\n",
       "      <th>1006</th>\n",
       "      <td>0.976890</td>\n",
       "      <td>37.627521</td>\n",
       "      <td>0.484028</td>\n",
       "      <td>2.979041</td>\n",
       "      <td>0.972219</td>\n",
       "      <td>14.0</td>\n",
       "    </tr>\n",
       "    <tr>\n",
       "      <th>1036</th>\n",
       "      <td>0.973612</td>\n",
       "      <td>38.269577</td>\n",
       "      <td>0.485657</td>\n",
       "      <td>3.018543</td>\n",
       "      <td>0.971851</td>\n",
       "      <td>15.0</td>\n",
       "    </tr>\n",
       "    <tr>\n",
       "      <th>1072</th>\n",
       "      <td>0.970334</td>\n",
       "      <td>38.919034</td>\n",
       "      <td>0.487298</td>\n",
       "      <td>3.057916</td>\n",
       "      <td>0.971483</td>\n",
       "      <td>16.0</td>\n",
       "    </tr>\n",
       "    <tr>\n",
       "      <th>1106</th>\n",
       "      <td>0.967057</td>\n",
       "      <td>39.595949</td>\n",
       "      <td>0.488949</td>\n",
       "      <td>3.097710</td>\n",
       "      <td>0.971112</td>\n",
       "      <td>16.0</td>\n",
       "    </tr>\n",
       "    <tr>\n",
       "      <th>1127</th>\n",
       "      <td>0.963779</td>\n",
       "      <td>40.269287</td>\n",
       "      <td>0.490612</td>\n",
       "      <td>3.138159</td>\n",
       "      <td>0.970735</td>\n",
       "      <td>16.0</td>\n",
       "    </tr>\n",
       "    <tr>\n",
       "      <th>957</th>\n",
       "      <td>0.990000</td>\n",
       "      <td>36.752457</td>\n",
       "      <td>0.512134</td>\n",
       "      <td>3.178822</td>\n",
       "      <td>0.970356</td>\n",
       "      <td>14.0</td>\n",
       "    </tr>\n",
       "    <tr>\n",
       "      <th>1160</th>\n",
       "      <td>0.960502</td>\n",
       "      <td>40.937284</td>\n",
       "      <td>0.492286</td>\n",
       "      <td>3.179385</td>\n",
       "      <td>0.970351</td>\n",
       "      <td>17.0</td>\n",
       "    </tr>\n",
       "    <tr>\n",
       "      <th>997</th>\n",
       "      <td>0.986722</td>\n",
       "      <td>37.311783</td>\n",
       "      <td>0.513835</td>\n",
       "      <td>3.220848</td>\n",
       "      <td>0.969964</td>\n",
       "      <td>14.0</td>\n",
       "    </tr>\n",
       "    <tr>\n",
       "      <th>1025</th>\n",
       "      <td>0.983445</td>\n",
       "      <td>37.890135</td>\n",
       "      <td>0.515548</td>\n",
       "      <td>3.263572</td>\n",
       "      <td>0.969566</td>\n",
       "      <td>14.0</td>\n",
       "    </tr>\n",
       "    <tr>\n",
       "      <th>1043</th>\n",
       "      <td>0.980167</td>\n",
       "      <td>38.468792</td>\n",
       "      <td>0.517272</td>\n",
       "      <td>3.306990</td>\n",
       "      <td>0.969161</td>\n",
       "      <td>14.0</td>\n",
       "    </tr>\n",
       "    <tr>\n",
       "      <th>1079</th>\n",
       "      <td>0.976890</td>\n",
       "      <td>39.045533</td>\n",
       "      <td>0.519007</td>\n",
       "      <td>3.351096</td>\n",
       "      <td>0.968749</td>\n",
       "      <td>14.0</td>\n",
       "    </tr>\n",
       "    <tr>\n",
       "      <th>1114</th>\n",
       "      <td>0.973612</td>\n",
       "      <td>39.686749</td>\n",
       "      <td>0.520754</td>\n",
       "      <td>3.395894</td>\n",
       "      <td>0.968332</td>\n",
       "      <td>14.0</td>\n",
       "    </tr>\n",
       "    <tr>\n",
       "      <th>1130</th>\n",
       "      <td>0.970334</td>\n",
       "      <td>40.375357</td>\n",
       "      <td>0.522513</td>\n",
       "      <td>3.441416</td>\n",
       "      <td>0.967907</td>\n",
       "      <td>15.0</td>\n",
       "    </tr>\n",
       "    <tr>\n",
       "      <th>1170</th>\n",
       "      <td>0.967057</td>\n",
       "      <td>41.081074</td>\n",
       "      <td>0.524284</td>\n",
       "      <td>3.484486</td>\n",
       "      <td>0.967505</td>\n",
       "      <td>14.0</td>\n",
       "    </tr>\n",
       "    <tr>\n",
       "      <th>1040</th>\n",
       "      <td>0.990000</td>\n",
       "      <td>38.321802</td>\n",
       "      <td>0.549144</td>\n",
       "      <td>3.571733</td>\n",
       "      <td>0.966692</td>\n",
       "      <td>14.0</td>\n",
       "    </tr>\n",
       "    <tr>\n",
       "      <th>1073</th>\n",
       "      <td>0.986722</td>\n",
       "      <td>38.924413</td>\n",
       "      <td>0.550969</td>\n",
       "      <td>3.614942</td>\n",
       "      <td>0.966289</td>\n",
       "      <td>14.0</td>\n",
       "    </tr>\n",
       "    <tr>\n",
       "      <th>1097</th>\n",
       "      <td>0.983445</td>\n",
       "      <td>39.521651</td>\n",
       "      <td>0.552805</td>\n",
       "      <td>3.658941</td>\n",
       "      <td>0.965879</td>\n",
       "      <td>14.0</td>\n",
       "    </tr>\n",
       "    <tr>\n",
       "      <th>1123</th>\n",
       "      <td>0.980167</td>\n",
       "      <td>40.114316</td>\n",
       "      <td>0.554653</td>\n",
       "      <td>3.703748</td>\n",
       "      <td>0.965461</td>\n",
       "      <td>14.0</td>\n",
       "    </tr>\n",
       "    <tr>\n",
       "      <th>1141</th>\n",
       "      <td>0.976890</td>\n",
       "      <td>40.709652</td>\n",
       "      <td>0.556514</td>\n",
       "      <td>3.749344</td>\n",
       "      <td>0.965035</td>\n",
       "      <td>14.0</td>\n",
       "    </tr>\n",
       "    <tr>\n",
       "      <th>1190</th>\n",
       "      <td>0.973612</td>\n",
       "      <td>41.328305</td>\n",
       "      <td>0.558388</td>\n",
       "      <td>3.795748</td>\n",
       "      <td>0.964603</td>\n",
       "      <td>14.0</td>\n",
       "    </tr>\n",
       "    <tr>\n",
       "      <th>1124</th>\n",
       "      <td>0.990000</td>\n",
       "      <td>40.143323</td>\n",
       "      <td>0.588830</td>\n",
       "      <td>3.997142</td>\n",
       "      <td>0.962725</td>\n",
       "      <td>14.0</td>\n",
       "    </tr>\n",
       "    <tr>\n",
       "      <th>1134</th>\n",
       "      <td>0.986722</td>\n",
       "      <td>40.674727</td>\n",
       "      <td>0.590786</td>\n",
       "      <td>4.045197</td>\n",
       "      <td>0.962277</td>\n",
       "      <td>14.0</td>\n",
       "    </tr>\n",
       "    <tr>\n",
       "      <th>1184</th>\n",
       "      <td>0.983445</td>\n",
       "      <td>41.214922</td>\n",
       "      <td>0.592755</td>\n",
       "      <td>4.094693</td>\n",
       "      <td>0.961815</td>\n",
       "      <td>14.0</td>\n",
       "    </tr>\n",
       "  </tbody>\n",
       "</table>\n",
       "<p>1200 rows × 6 columns</p>\n",
       "</div>"
      ],
      "text/plain": [
       "         alpha  error.min  lambda.min  test_err     score    df\n",
       "0     0.990000  22.534364    0.007259  0.000711  0.999993  17.0\n",
       "11    0.986722  22.725284    0.007283  0.000734  0.999993  19.0\n",
       "28    0.983445  22.854051    0.007308  0.000755  0.999993  20.0\n",
       "54    0.980167  22.984007    0.007332  0.000775  0.999993  20.0\n",
       "116   0.976890  23.420661    0.007357  0.000800  0.999993  20.0\n",
       "176   0.973612  24.029752    0.007382  0.000808  0.999992  21.0\n",
       "1     0.990000  22.549312    0.007784  0.000818  0.999992  17.0\n",
       "227   0.970334  24.622360    0.007406  0.000833  0.999992  22.0\n",
       "13    0.986722  22.738633    0.007810  0.000842  0.999992  19.0\n",
       "262   0.967057  24.986905    0.007432  0.000859  0.999992  23.0\n",
       "31    0.983445  22.865538    0.007836  0.000866  0.999992  20.0\n",
       "305   0.963779  25.370603    0.007457  0.000871  0.999992  24.0\n",
       "56    0.980167  22.992462    0.007862  0.000888  0.999992  20.0\n",
       "118   0.976890  23.431692    0.007888  0.000896  0.999992  20.0\n",
       "374   0.960502  26.169731    0.007482  0.000900  0.999992  25.0\n",
       "454   0.957224  27.486365    0.007508  0.000917  0.999991  26.0\n",
       "2     0.990000  22.566005    0.008347  0.000920  0.999991  17.0\n",
       "179   0.973612  24.042805    0.007915  0.000923  0.999991  20.0\n",
       "14    0.986722  22.751837    0.008374  0.000948  0.999991  17.0\n",
       "228   0.970334  24.628326    0.007942  0.000951  0.999991  22.0\n",
       "527   0.953946  28.740207    0.007534  0.000953  0.999991  26.0\n",
       "606   0.950669  29.773077    0.007560  0.000974  0.999991  28.0\n",
       "263   0.967057  24.990488    0.007969  0.000979  0.999991  23.0\n",
       "32    0.983445  22.876342    0.008402  0.000980  0.999991  19.0\n",
       "650   0.947391  30.790470    0.007586  0.000998  0.999991  29.0\n",
       "58    0.980167  23.000991    0.008430  0.001006  0.999991  20.0\n",
       "306   0.963779  25.374615    0.007996  0.001008  0.999991  24.0\n",
       "376   0.960502  26.173595    0.008023  0.001023  0.999990  25.0\n",
       "717   0.944114  32.077106    0.007612  0.001024  0.999990  31.0\n",
       "121   0.976890  23.439622    0.008459  0.001031  0.999990  20.0\n",
       "...        ...        ...         ...       ...       ...   ...\n",
       "891   0.990000  35.425136    0.477618  2.825755  0.973648  14.0\n",
       "1125  0.957224  40.168402    0.460680  2.861632  0.973314  18.0\n",
       "924   0.986722  35.950988    0.479204  2.863121  0.973300  14.0\n",
       "1153  0.953946  40.807659    0.462263  2.899078  0.972965  19.0\n",
       "946   0.983445  36.481709    0.480801  2.901127  0.972946  14.0\n",
       "1195  0.950669  41.474315    0.463856  2.935969  0.972621  19.0\n",
       "980   0.980167  37.032074    0.482409  2.939766  0.972585  14.0\n",
       "1006  0.976890  37.627521    0.484028  2.979041  0.972219  14.0\n",
       "1036  0.973612  38.269577    0.485657  3.018543  0.971851  15.0\n",
       "1072  0.970334  38.919034    0.487298  3.057916  0.971483  16.0\n",
       "1106  0.967057  39.595949    0.488949  3.097710  0.971112  16.0\n",
       "1127  0.963779  40.269287    0.490612  3.138159  0.970735  16.0\n",
       "957   0.990000  36.752457    0.512134  3.178822  0.970356  14.0\n",
       "1160  0.960502  40.937284    0.492286  3.179385  0.970351  17.0\n",
       "997   0.986722  37.311783    0.513835  3.220848  0.969964  14.0\n",
       "1025  0.983445  37.890135    0.515548  3.263572  0.969566  14.0\n",
       "1043  0.980167  38.468792    0.517272  3.306990  0.969161  14.0\n",
       "1079  0.976890  39.045533    0.519007  3.351096  0.968749  14.0\n",
       "1114  0.973612  39.686749    0.520754  3.395894  0.968332  14.0\n",
       "1130  0.970334  40.375357    0.522513  3.441416  0.967907  15.0\n",
       "1170  0.967057  41.081074    0.524284  3.484486  0.967505  14.0\n",
       "1040  0.990000  38.321802    0.549144  3.571733  0.966692  14.0\n",
       "1073  0.986722  38.924413    0.550969  3.614942  0.966289  14.0\n",
       "1097  0.983445  39.521651    0.552805  3.658941  0.965879  14.0\n",
       "1123  0.980167  40.114316    0.554653  3.703748  0.965461  14.0\n",
       "1141  0.976890  40.709652    0.556514  3.749344  0.965035  14.0\n",
       "1190  0.973612  41.328305    0.558388  3.795748  0.964603  14.0\n",
       "1124  0.990000  40.143323    0.588830  3.997142  0.962725  14.0\n",
       "1134  0.986722  40.674727    0.590786  4.045197  0.962277  14.0\n",
       "1184  0.983445  41.214922    0.592755  4.094693  0.961815  14.0\n",
       "\n",
       "[1200 rows x 6 columns]"
      ]
     },
     "execution_count": 101,
     "metadata": {},
     "output_type": "execute_result"
    }
   ],
   "source": [
    "top_df.sort(\"test_err\")"
   ]
  },
  {
   "cell_type": "code",
   "execution_count": 102,
   "metadata": {
    "collapsed": true
   },
   "outputs": [],
   "source": [
    "import geneTSmunging as gtm"
   ]
  },
  {
   "cell_type": "markdown",
   "metadata": {},
   "source": [
    "# Small data, 100 genes"
   ]
  },
  {
   "cell_type": "code",
   "execution_count": 106,
   "metadata": {
    "collapsed": false
   },
   "outputs": [
    {
     "name": "stdout",
     "output_type": "stream",
     "text": [
      "Avg + STD loaded\n",
      "(100, 12)\n",
      "[[ 0.49484238  0.53714282  0.62506496 ...,  0.52527729  0.53656133\n",
      "   0.35290245]\n",
      " [ 0.95042984  0.85225909  0.77666868 ...,  1.00415122  0.77036824\n",
      "   0.98011805]\n",
      " [ 3.54428738  3.55911824  3.10624164 ...,  3.31815621  3.15048125\n",
      "   3.14930872]\n",
      " ..., \n",
      " [ 1.98618627  1.9497701   1.81032042 ...,  1.67106721  1.6633224\n",
      "   1.56155976]\n",
      " [ 5.89298407  5.85591087  5.88054204 ...,  5.92054549  5.94998633\n",
      "   5.97521896]\n",
      " [ 1.51217844  1.45703843  1.51720832 ...,  1.44695417  1.38895757\n",
      "   1.51810804]]\n"
     ]
    }
   ],
   "source": [
    "data = gtm.load_file_and_avg(\"Enet/small_TPM-avg.txt\")\n",
    "\n",
    "found_genes, geneTS = gtm.get_gene_TS(data, data[\"gene\"])\n",
    "\n",
    "print geneTS.shape\n",
    "print geneTS"
   ]
  },
  {
   "cell_type": "code",
   "execution_count": 119,
   "metadata": {
    "collapsed": false,
    "scrolled": false
   },
   "outputs": [
    {
     "name": "stdout",
     "output_type": "stream",
     "text": [
      "[ 0.01        0.01245614  0.01491228  0.01736842  0.01982456  0.0222807\n",
      "  0.02473684  0.02719298  0.02964912  0.03210526  0.0345614   0.03701754\n",
      "  0.03947368  0.04192982  0.04438596  0.04684211  0.04929825  0.05175439\n",
      "  0.05421053  0.05666667  0.05912281  0.06157895  0.06403509  0.06649123\n",
      "  0.06894737  0.07140351  0.07385965  0.07631579  0.07877193  0.08122807\n",
      "  0.08368421  0.08614035  0.08859649  0.09105263  0.09350877  0.09596491\n",
      "  0.09842105  0.10087719  0.10333333  0.10578947  0.10824561  0.11070175\n",
      "  0.11315789  0.11561404  0.11807018  0.12052632  0.12298246  0.1254386\n",
      "  0.12789474  0.13035088  0.13280702  0.13526316  0.1377193   0.14017544\n",
      "  0.14263158  0.14508772  0.14754386  0.15        0.15245614  0.15491228\n",
      "  0.15736842  0.15982456  0.1622807   0.16473684  0.16719298  0.16964912\n",
      "  0.17210526  0.1745614   0.17701754  0.17947368  0.18192982  0.18438596\n",
      "  0.18684211  0.18929825  0.19175439  0.19421053  0.19666667  0.19912281\n",
      "  0.20157895  0.20403509  0.20649123  0.20894737  0.21140351  0.21385965\n",
      "  0.21631579  0.21877193  0.22122807  0.22368421  0.22614035  0.22859649\n",
      "  0.23105263  0.23350877  0.23596491  0.23842105  0.24087719  0.24333333\n",
      "  0.24578947  0.24824561  0.25070175  0.25315789  0.25561404  0.25807018\n",
      "  0.26052632  0.26298246  0.2654386   0.26789474  0.27035088  0.27280702\n",
      "  0.27526316  0.2777193   0.28017544  0.28263158  0.28508772  0.28754386\n",
      "  0.29        0.29245614  0.29491228  0.29736842  0.29982456  0.3022807\n",
      "  0.30473684  0.30719298  0.30964912  0.31210526  0.3145614   0.31701754\n",
      "  0.31947368  0.32192982  0.32438596  0.32684211  0.32929825  0.33175439\n",
      "  0.33421053  0.33666667  0.33912281  0.34157895  0.34403509  0.34649123\n",
      "  0.34894737  0.35140351  0.35385965  0.35631579  0.35877193  0.36122807\n",
      "  0.36368421  0.36614035  0.36859649  0.37105263  0.37350877  0.37596491\n",
      "  0.37842105  0.38087719  0.38333333  0.38578947  0.38824561  0.39070175\n",
      "  0.39315789  0.39561404  0.39807018  0.40052632  0.40298246  0.4054386\n",
      "  0.40789474  0.41035088  0.41280702  0.41526316  0.4177193   0.42017544\n",
      "  0.42263158  0.42508772  0.42754386  0.43        0.43245614  0.43491228\n",
      "  0.43736842  0.43982456  0.4422807   0.44473684  0.44719298  0.44964912\n",
      "  0.45210526  0.4545614   0.45701754  0.45947368  0.46192982  0.46438596\n",
      "  0.46684211  0.46929825  0.47175439  0.47421053  0.47666667  0.47912281\n",
      "  0.48157895  0.48403509  0.48649123  0.48894737  0.49140351  0.49385965\n",
      "  0.49631579  0.49877193  0.50122807  0.50368421  0.50614035  0.50859649\n",
      "  0.51105263  0.51350877  0.51596491  0.51842105  0.52087719  0.52333333\n",
      "  0.52578947  0.52824561  0.53070175  0.53315789  0.53561404  0.53807018\n",
      "  0.54052632  0.54298246  0.5454386   0.54789474  0.55035088  0.55280702\n",
      "  0.55526316  0.5577193   0.56017544  0.56263158  0.56508772  0.56754386\n",
      "  0.57        0.57245614  0.57491228  0.57736842  0.57982456  0.5822807\n",
      "  0.58473684  0.58719298  0.58964912  0.59210526  0.5945614   0.59701754\n",
      "  0.59947368  0.60192982  0.60438596  0.60684211  0.60929825  0.61175439\n",
      "  0.61421053  0.61666667  0.61912281  0.62157895  0.62403509  0.62649123\n",
      "  0.62894737  0.63140351  0.63385965  0.63631579  0.63877193  0.64122807\n",
      "  0.64368421  0.64614035  0.64859649  0.65105263  0.65350877  0.65596491\n",
      "  0.65842105  0.66087719  0.66333333  0.66578947  0.66824561  0.67070175\n",
      "  0.67315789  0.67561404  0.67807018  0.68052632  0.68298246  0.6854386\n",
      "  0.68789474  0.69035088  0.69280702  0.69526316  0.6977193   0.70017544\n",
      "  0.70263158  0.70508772  0.70754386  0.71        0.71245614  0.71491228\n",
      "  0.71736842  0.71982456  0.7222807   0.72473684  0.72719298  0.72964912\n",
      "  0.73210526  0.7345614   0.73701754  0.73947368  0.74192982  0.74438596\n",
      "  0.74684211  0.74929825  0.75175439  0.75421053  0.75666667  0.75912281\n",
      "  0.76157895  0.76403509  0.76649123  0.76894737  0.77140351  0.77385965\n",
      "  0.77631579  0.77877193  0.78122807  0.78368421  0.78614035  0.78859649\n",
      "  0.79105263  0.79350877  0.79596491  0.79842105  0.80087719  0.80333333\n",
      "  0.80578947  0.80824561  0.81070175  0.81315789  0.81561404  0.81807018\n",
      "  0.82052632  0.82298246  0.8254386   0.82789474  0.83035088  0.83280702\n",
      "  0.83526316  0.8377193   0.84017544  0.84263158  0.84508772  0.84754386\n",
      "  0.85        0.85245614  0.85491228  0.85736842  0.85982456  0.8622807\n",
      "  0.86473684  0.86719298  0.86964912  0.87210526  0.8745614   0.87701754\n",
      "  0.87947368  0.88192982  0.88438596  0.88684211  0.88929825  0.89175439\n",
      "  0.89421053  0.89666667  0.89912281  0.90157895  0.90403509  0.90649123\n",
      "  0.90894737  0.91140351  0.91385965  0.91631579  0.91877193  0.92122807\n",
      "  0.92368421  0.92614035  0.92859649  0.93105263  0.93350877  0.93596491\n",
      "  0.93842105  0.94087719  0.94333333  0.94578947  0.94824561  0.95070175\n",
      "  0.95315789  0.95561404  0.95807018  0.96052632  0.96298246  0.9654386\n",
      "  0.96789474  0.97035088  0.97280702  0.97526316  0.9777193   0.98017544\n",
      "  0.98263158  0.98508772  0.98754386  0.99      ]\n"
     ]
    }
   ],
   "source": [
    "rows = [0, 1, 2]\n",
    "min_alpha = 0.01\n",
    "max_alpha = 0.99\n",
    "num_alphas = 100\n",
    "alphas = np.linspace(min_alpha, max_alpha, num_alphas)\n",
    "print alphas"
   ]
  },
  {
   "cell_type": "code",
   "execution_count": 122,
   "metadata": {
    "collapsed": false,
    "scrolled": false
   },
   "outputs": [
    {
     "name": "stdout",
     "output_type": "stream",
     "text": [
      "CV is  sklearn.cross_validation.StratifiedKFold(labels=[0 0 0 1 1 1 2 2 2 3], n_folds=3, shuffle=False, random_state=None)\n"
     ]
    },
    {
     "name": "stderr",
     "output_type": "stream",
     "text": [
      "CausalTests.py:356: VisibleDeprecationWarning: using a non-integer number instead of an integer will result in an error in the future\n",
      "  topk_indices = sorted(np.argpartition(a, k)[:k], key = lambda entry: a[entry])\n"
     ]
    },
    {
     "name": "stdout",
     "output_type": "stream",
     "text": [
      "CV is  sklearn.cross_validation.StratifiedKFold(labels=[0 0 0 1 1 1 2 2 2 3], n_folds=3, shuffle=False, random_state=None)\n"
     ]
    },
    {
     "name": "stderr",
     "output_type": "stream",
     "text": [
      "CausalTests.py:258: FutureWarning: comparison to `None` will result in an elementwise object comparison in the future.\n",
      "  if header == None:\n"
     ]
    },
    {
     "name": "stdout",
     "output_type": "stream",
     "text": [
      "CV is  sklearn.cross_validation.StratifiedKFold(labels=[0 0 0 1 1 1 2 2 2 3], n_folds=3, shuffle=False, random_state=None)\n",
      "CPU times: user 1min 13s, sys: 502 ms, total: 1min 14s\n",
      "Wall time: 1min 15s\n"
     ]
    }
   ],
   "source": [
    "%time betas, all_res_df, use_df = ct.enet_granger_causality_row(geneTS, geneTS, rows, alphas )"
   ]
  },
  {
   "cell_type": "markdown",
   "metadata": {},
   "source": [
    "# All data, 3000 genes"
   ]
  },
  {
   "cell_type": "code",
   "execution_count": 123,
   "metadata": {
    "collapsed": false,
    "scrolled": true
   },
   "outputs": [
    {
     "name": "stdout",
     "output_type": "stream",
     "text": [
      "Avg + STD loaded\n",
      "(3545, 12)\n",
      "[[ 1.47040223  1.4982487   1.47821205 ...,  1.53996098  1.29676846\n",
      "   1.44062158]\n",
      " [ 1.76348224  1.81127374  1.82762428 ...,  1.99445511  1.99816954\n",
      "   1.94426186]\n",
      " [ 4.10832635  4.1072434   4.27356973 ...,  4.29147524  4.35970052\n",
      "   4.35678656]\n",
      " ..., \n",
      " [ 1.58209541  1.64840443  1.79267322 ...,  1.88709416  1.86847499\n",
      "   1.87976474]\n",
      " [ 9.7814493   9.60533985  9.76557269 ...,  9.95068726  9.85221996\n",
      "   9.87138881]\n",
      " [ 9.15629864  8.9766435   9.25240276 ...,  9.45575629  9.38915071\n",
      "   9.37575346]]\n"
     ]
    }
   ],
   "source": [
    "data = gtm.load_file_and_avg(\"../data/GeneExpressionData/edgeR-reg-avg/featurecounts.genes.TPM.selected_reps.ln.surrogate_variables_corrected.protein_coding-edgeR-reg-avg.txt\")\n",
    "\n",
    "found_genes, geneTS = gtm.get_gene_TS(data, data[\"gene\"])\n",
    "\n",
    "print geneTS.shape\n",
    "print geneTS"
   ]
  },
  {
   "cell_type": "code",
   "execution_count": 133,
   "metadata": {
    "collapsed": false,
    "scrolled": false
   },
   "outputs": [
    {
     "name": "stdout",
     "output_type": "stream",
     "text": [
      "[ 0.01        0.06157895  0.11315789  0.16473684  0.21631579  0.26789474\n",
      "  0.31947368  0.37105263  0.42263158  0.47421053  0.52578947  0.57736842\n",
      "  0.62894737  0.68052632  0.73210526  0.78368421  0.83526316  0.88684211\n",
      "  0.93842105  0.99      ]\n"
     ]
    }
   ],
   "source": [
    "rows = [0]\n",
    "min_alpha = 0.01\n",
    "max_alpha = 0.99\n",
    "num_alphas = 20\n",
    "alphas = np.linspace(min_alpha, max_alpha, num_alphas)\n",
    "print alphas"
   ]
  },
  {
   "cell_type": "code",
   "execution_count": 172,
   "metadata": {
    "collapsed": false
   },
   "outputs": [
    {
     "data": {
      "text/plain": [
       "<module 'CausalTests' from 'CausalTests.py'>"
      ]
     },
     "execution_count": 172,
     "metadata": {},
     "output_type": "execute_result"
    }
   ],
   "source": [
    "reload(ct)"
   ]
  },
  {
   "cell_type": "code",
   "execution_count": 173,
   "metadata": {
    "collapsed": false,
    "scrolled": false
   },
   "outputs": [
    {
     "name": "stdout",
     "output_type": "stream",
     "text": [
      "CV is  sklearn.cross_validation.StratifiedKFold(labels=[0 0 0 1 1 1 2 2 2 3], n_folds=3, shuffle=False, random_state=None)\n"
     ]
    },
    {
     "name": "stderr",
     "output_type": "stream",
     "text": [
      "CausalTests.py:364: VisibleDeprecationWarning: using a non-integer number instead of an integer will result in an error in the future\n",
      "  def get_CCM(X_list, Y_list, L, tau=1, E=3, test_indices=None, num_test=100, use_same=True):\n"
     ]
    },
    {
     "name": "stdout",
     "output_type": "stream",
     "text": [
      "Shape of beta tuple is  (1, 3545, 2)\n",
      "CPU times: user 40.7 s, sys: 377 ms, total: 41 s\n",
      "Wall time: 41.4 s\n"
     ]
    },
    {
     "name": "stderr",
     "output_type": "stream",
     "text": [
      "CausalTests.py:270: FutureWarning: sort(columns=....) is deprecated, use sort_values(by=.....)\n",
      "  \n"
     ]
    }
   ],
   "source": [
    "%time beta_tuple, all_res_df, use_df = ct.enet_granger_causality_row(geneTS, geneTS, rows, alphas )"
   ]
  },
  {
   "cell_type": "code",
   "execution_count": 128,
   "metadata": {
    "collapsed": false
   },
   "outputs": [
    {
     "data": {
      "text/plain": [
       "(1, 7090)"
      ]
     },
     "execution_count": 128,
     "metadata": {},
     "output_type": "execute_result"
    }
   ],
   "source": [
    "betas.shape"
   ]
  },
  {
   "cell_type": "code",
   "execution_count": 131,
   "metadata": {
    "collapsed": false
   },
   "outputs": [
    {
     "name": "stderr",
     "output_type": "stream",
     "text": [
      "/Library/Frameworks/Python.framework/Versions/2.7/lib/python2.7/site-packages/ipykernel/__main__.py:1: FutureWarning: sort(columns=....) is deprecated, use sort_values(by=.....)\n",
      "  if __name__ == '__main__':\n"
     ]
    },
    {
     "data": {
      "text/html": [
       "<div>\n",
       "<table border=\"1\" class=\"dataframe\">\n",
       "  <thead>\n",
       "    <tr style=\"text-align: right;\">\n",
       "      <th></th>\n",
       "      <th>alpha</th>\n",
       "      <th>error.min</th>\n",
       "      <th>lambda.min</th>\n",
       "      <th>test_err</th>\n",
       "      <th>score</th>\n",
       "      <th>df</th>\n",
       "      <th>Row</th>\n",
       "    </tr>\n",
       "  </thead>\n",
       "  <tbody>\n",
       "    <tr>\n",
       "      <th>count</th>\n",
       "      <td>1000.000000</td>\n",
       "      <td>1000.000000</td>\n",
       "      <td>1000.000000</td>\n",
       "      <td>1000.000000</td>\n",
       "      <td>1000.000000</td>\n",
       "      <td>1000.000000</td>\n",
       "      <td>1000.0</td>\n",
       "    </tr>\n",
       "    <tr>\n",
       "      <th>mean</th>\n",
       "      <td>0.430776</td>\n",
       "      <td>0.048229</td>\n",
       "      <td>0.076822</td>\n",
       "      <td>0.005810</td>\n",
       "      <td>0.647708</td>\n",
       "      <td>27.414000</td>\n",
       "      <td>0.0</td>\n",
       "    </tr>\n",
       "    <tr>\n",
       "      <th>std</th>\n",
       "      <td>0.313014</td>\n",
       "      <td>0.001502</td>\n",
       "      <td>0.129277</td>\n",
       "      <td>0.001702</td>\n",
       "      <td>0.103213</td>\n",
       "      <td>63.237327</td>\n",
       "      <td>0.0</td>\n",
       "    </tr>\n",
       "    <tr>\n",
       "      <th>min</th>\n",
       "      <td>0.010000</td>\n",
       "      <td>0.040562</td>\n",
       "      <td>0.011350</td>\n",
       "      <td>0.000033</td>\n",
       "      <td>0.461370</td>\n",
       "      <td>2.000000</td>\n",
       "      <td>0.0</td>\n",
       "    </tr>\n",
       "    <tr>\n",
       "      <th>25%</th>\n",
       "      <td>0.108990</td>\n",
       "      <td>0.048159</td>\n",
       "      <td>0.020110</td>\n",
       "      <td>0.005338</td>\n",
       "      <td>0.579004</td>\n",
       "      <td>3.000000</td>\n",
       "      <td>0.0</td>\n",
       "    </tr>\n",
       "    <tr>\n",
       "      <th>50%</th>\n",
       "      <td>0.435657</td>\n",
       "      <td>0.048655</td>\n",
       "      <td>0.031812</td>\n",
       "      <td>0.006075</td>\n",
       "      <td>0.631622</td>\n",
       "      <td>5.000000</td>\n",
       "      <td>0.0</td>\n",
       "    </tr>\n",
       "    <tr>\n",
       "      <th>75%</th>\n",
       "      <td>0.695505</td>\n",
       "      <td>0.049035</td>\n",
       "      <td>0.076082</td>\n",
       "      <td>0.006943</td>\n",
       "      <td>0.676351</td>\n",
       "      <td>15.000000</td>\n",
       "      <td>0.0</td>\n",
       "    </tr>\n",
       "    <tr>\n",
       "      <th>max</th>\n",
       "      <td>0.990000</td>\n",
       "      <td>0.049563</td>\n",
       "      <td>1.291974</td>\n",
       "      <td>0.008883</td>\n",
       "      <td>0.997972</td>\n",
       "      <td>388.000000</td>\n",
       "      <td>0.0</td>\n",
       "    </tr>\n",
       "  </tbody>\n",
       "</table>\n",
       "</div>"
      ],
      "text/plain": [
       "             alpha    error.min   lambda.min     test_err        score  \\\n",
       "count  1000.000000  1000.000000  1000.000000  1000.000000  1000.000000   \n",
       "mean      0.430776     0.048229     0.076822     0.005810     0.647708   \n",
       "std       0.313014     0.001502     0.129277     0.001702     0.103213   \n",
       "min       0.010000     0.040562     0.011350     0.000033     0.461370   \n",
       "25%       0.108990     0.048159     0.020110     0.005338     0.579004   \n",
       "50%       0.435657     0.048655     0.031812     0.006075     0.631622   \n",
       "75%       0.695505     0.049035     0.076082     0.006943     0.676351   \n",
       "max       0.990000     0.049563     1.291974     0.008883     0.997972   \n",
       "\n",
       "                df     Row  \n",
       "count  1000.000000  1000.0  \n",
       "mean     27.414000     0.0  \n",
       "std      63.237327     0.0  \n",
       "min       2.000000     0.0  \n",
       "25%       3.000000     0.0  \n",
       "50%       5.000000     0.0  \n",
       "75%      15.000000     0.0  \n",
       "max     388.000000     0.0  "
      ]
     },
     "execution_count": 131,
     "metadata": {},
     "output_type": "execute_result"
    }
   ],
   "source": [
    "all_res_df.sort(\"test_err\").describe()"
   ]
  },
  {
   "cell_type": "code",
   "execution_count": 132,
   "metadata": {
    "collapsed": true
   },
   "outputs": [],
   "source": [
    "use_dfs = []\n",
    "use_dfs.append(use_df)"
   ]
  },
  {
   "cell_type": "code",
   "execution_count": 135,
   "metadata": {
    "collapsed": true
   },
   "outputs": [],
   "source": [
    "use_dfs.append(use_df)"
   ]
  },
  {
   "cell_type": "code",
   "execution_count": 136,
   "metadata": {
    "collapsed": false
   },
   "outputs": [
    {
     "data": {
      "text/plain": [
       "[  alpha  error.min lambda.min     test_err     score   df Row\n",
       " 0  0.01  0.0494822  0.0242092  3.34374e-05  0.997972  388   0,\n",
       "   alpha  error.min lambda.min     test_err     score   df Row\n",
       " 0  0.01  0.0492037  0.0298463  5.03723e-05  0.996946  369   0]"
      ]
     },
     "execution_count": 136,
     "metadata": {},
     "output_type": "execute_result"
    }
   ],
   "source": [
    "use_dfs"
   ]
  },
  {
   "cell_type": "code",
   "execution_count": 146,
   "metadata": {
    "collapsed": true
   },
   "outputs": [],
   "source": [
    "row = 3\n",
    "y = geneTS[row].T\n",
    "X = np.concatenate((geneTS[:row], [geneTS[row]], geneTS[row+1:])).T"
   ]
  },
  {
   "cell_type": "code",
   "execution_count": 150,
   "metadata": {
    "collapsed": false
   },
   "outputs": [],
   "source": [
    "lag = 2\n",
    "n, T = np.array(geneTS).shape\n",
    "\n",
    "X_t = np.zeros((T - lag, n * lag))\n",
    "\n",
    "for j in range(T - lag):\n",
    "    for k in range(lag):\n",
    "        X_t[j, n*k:n*(k+1)] = X[j + lag - k - 1, ]\n",
    "\n",
    "# Y is a vector of T -lag rows where for row j, the value of j is i = j + lag\n",
    "y_t = y[lag:T]"
   ]
  },
  {
   "cell_type": "code",
   "execution_count": 153,
   "metadata": {
    "collapsed": false
   },
   "outputs": [
    {
     "name": "stdout",
     "output_type": "stream",
     "text": [
      "[ 0.77824874  0.80234869  0.79111867  0.69111471  0.7691065   0.77267344\n",
      "  0.51252858  0.61420831  0.75277127  0.82126244  0.77585586  0.78346855]\n",
      "[ 0.79111867  0.69111471  0.7691065   0.77267344  0.51252858  0.61420831\n",
      "  0.75277127  0.82126244  0.77585586  0.78346855]\n"
     ]
    }
   ],
   "source": [
    "print y\n",
    "print y_t"
   ]
  },
  {
   "cell_type": "code",
   "execution_count": 154,
   "metadata": {
    "collapsed": false
   },
   "outputs": [
    {
     "name": "stdout",
     "output_type": "stream",
     "text": [
      "(10, 7090)\n"
     ]
    }
   ],
   "source": [
    "print X_t.shape"
   ]
  },
  {
   "cell_type": "code",
   "execution_count": 157,
   "metadata": {
    "collapsed": false
   },
   "outputs": [
    {
     "name": "stdout",
     "output_type": "stream",
     "text": [
      "[[ 1.4982487   1.81127374]\n",
      " [ 1.47821205  1.82762428]\n",
      " [ 1.40595194  1.8507007 ]\n",
      " [ 1.14554714  1.79869023]\n",
      " [ 1.36724846  1.76622767]\n",
      " [ 1.12762626  1.70286016]\n",
      " [ 1.29195305  1.9233287 ]\n",
      " [ 1.40745521  1.87613439]\n",
      " [ 1.53996098  1.99445511]\n",
      " [ 1.29676846  1.99816954]]\n",
      "[[ 1.47040223  1.76348224]\n",
      " [ 1.4982487   1.81127374]\n",
      " [ 1.47821205  1.82762428]\n",
      " [ 1.40595194  1.8507007 ]\n",
      " [ 1.14554714  1.79869023]\n",
      " [ 1.36724846  1.76622767]\n",
      " [ 1.12762626  1.70286016]\n",
      " [ 1.29195305  1.9233287 ]\n",
      " [ 1.40745521  1.87613439]\n",
      " [ 1.53996098  1.99445511]]\n"
     ]
    }
   ],
   "source": [
    "print X_t[:, 0:2]\n",
    "print X_t[:, 3545: 3547]"
   ]
  },
  {
   "cell_type": "code",
   "execution_count": null,
   "metadata": {
    "collapsed": true
   },
   "outputs": [],
   "source": []
  },
  {
   "cell_type": "code",
   "execution_count": 177,
   "metadata": {
    "collapsed": false
   },
   "outputs": [
    {
     "name": "stdout",
     "output_type": "stream",
     "text": [
      "(5, 100, 2)\n"
     ]
    }
   ],
   "source": [
    "import pickle\n",
    "betas = pickle.load(open(\"small_TPM-avg-betas.p\",'rU'))\n",
    "print betas.shape"
   ]
  },
  {
   "cell_type": "code",
   "execution_count": 184,
   "metadata": {
    "collapsed": true
   },
   "outputs": [],
   "source": [
    "alphas = [0.5]\n",
    "lambda_mins = [0.01]\n",
    "df = pd.DataFrame({\"alpha\": alphas, \"lambda.min\": lambda_mins})"
   ]
  },
  {
   "cell_type": "markdown",
   "metadata": {},
   "source": [
    "# Confirming elastic net scrip"
   ]
  },
  {
   "cell_type": "code",
   "execution_count": 8,
   "metadata": {
    "collapsed": false
   },
   "outputs": [
    {
     "name": "stdout",
     "output_type": "stream",
     "text": [
      "Avg + STD loaded\n"
     ]
    }
   ],
   "source": [
    "df = gtm.load_file_and_avg(\"small_TPM-avg.txt\")\n",
    "genes = df['gene'].values\n",
    "\n",
    "found_genes, geneTS = gtm.get_gene_TS(df, genes)\n",
    "\n",
    "geneTS.shape\n",
    "\n",
    "matr1 = geneTS\n",
    "matr2 = geneTS\n",
    "model_order = 2\n",
    "n, T = np.array(matr1).shape\n",
    "lag = model_order\n",
    "row = 0\n",
    "\n",
    "y = matr2[row].T\n",
    "\n",
    "X = np.concatenate((matr1[:row], [matr2[row]], matr1[row+1:])).T\n",
    "\n",
    "X_t = np.zeros((T - lag, n * lag))\n",
    "\n",
    "for j in range(T - lag):\n",
    "    for k in range(lag):\n",
    "        X_t[j, n*k:n*(k+1)] = X[j + lag - k - 1, ]\n",
    "\n",
    "# Y is a vector of T -lag rows where for row j, the value of j is i = j + lag\n",
    "y_t = y[lag:T]"
   ]
  },
  {
   "cell_type": "code",
   "execution_count": 10,
   "metadata": {
    "collapsed": true
   },
   "outputs": [],
   "source": [
    "import pandas as pd\n",
    "import geneTSmunging as gtm\n",
    "import numpy as np\n",
    "import pickle\n",
    "from sklearn.linear_model import ElasticNet"
   ]
  },
  {
   "cell_type": "code",
   "execution_count": 29,
   "metadata": {
    "collapsed": true
   },
   "outputs": [],
   "source": [
    "test_coef = pickle.load(open(\"small_TPM-avg-betas.p\", 'rU'))"
   ]
  },
  {
   "cell_type": "code",
   "execution_count": 30,
   "metadata": {
    "collapsed": false
   },
   "outputs": [
    {
     "name": "stdout",
     "output_type": "stream",
     "text": [
      "(5, 100, 2)\n"
     ]
    }
   ],
   "source": [
    "print test_coef.shape"
   ]
  },
  {
   "cell_type": "code",
   "execution_count": 31,
   "metadata": {
    "collapsed": false
   },
   "outputs": [
    {
     "name": "stdout",
     "output_type": "stream",
     "text": [
      "[[-0.          0.        ]\n",
      " [ 0.08798916 -0.        ]\n",
      " [ 0.01260309 -0.        ]\n",
      " [-0.         -0.        ]\n",
      " [ 0.         -0.        ]\n",
      " [-0.         -0.        ]\n",
      " [ 0.          0.        ]\n",
      " [ 0.         -0.        ]\n",
      " [ 0.5569271  -0.08937858]\n",
      " [ 0.         -0.        ]]\n"
     ]
    }
   ],
   "source": [
    "print test_coef[0][0:10]"
   ]
  },
  {
   "cell_type": "code",
   "execution_count": 25,
   "metadata": {
    "collapsed": false
   },
   "outputs": [
    {
     "data": {
      "text/html": [
       "<div>\n",
       "<table border=\"1\" class=\"dataframe\">\n",
       "  <thead>\n",
       "    <tr style=\"text-align: right;\">\n",
       "      <th></th>\n",
       "      <th>alpha</th>\n",
       "      <th>error.min</th>\n",
       "      <th>lambda.min</th>\n",
       "      <th>test_err</th>\n",
       "      <th>score</th>\n",
       "      <th>df</th>\n",
       "      <th>Row</th>\n",
       "    </tr>\n",
       "  </thead>\n",
       "  <tbody>\n",
       "    <tr>\n",
       "      <th>0</th>\n",
       "      <td>0.5</td>\n",
       "      <td>0.050032</td>\n",
       "      <td>0.0001</td>\n",
       "      <td>0.000002</td>\n",
       "      <td>0.999837</td>\n",
       "      <td>16.0</td>\n",
       "      <td>0.0</td>\n",
       "    </tr>\n",
       "    <tr>\n",
       "      <th>1</th>\n",
       "      <td>0.6</td>\n",
       "      <td>0.049103</td>\n",
       "      <td>0.0001</td>\n",
       "      <td>0.000003</td>\n",
       "      <td>0.999789</td>\n",
       "      <td>13.0</td>\n",
       "      <td>0.0</td>\n",
       "    </tr>\n",
       "    <tr>\n",
       "      <th>2</th>\n",
       "      <td>0.6</td>\n",
       "      <td>0.050583</td>\n",
       "      <td>0.0002</td>\n",
       "      <td>0.000011</td>\n",
       "      <td>0.999160</td>\n",
       "      <td>12.0</td>\n",
       "      <td>0.0</td>\n",
       "    </tr>\n",
       "    <tr>\n",
       "      <th>3</th>\n",
       "      <td>0.5</td>\n",
       "      <td>0.034819</td>\n",
       "      <td>0.0001</td>\n",
       "      <td>0.000002</td>\n",
       "      <td>0.999824</td>\n",
       "      <td>16.0</td>\n",
       "      <td>1.0</td>\n",
       "    </tr>\n",
       "    <tr>\n",
       "      <th>4</th>\n",
       "      <td>0.6</td>\n",
       "      <td>0.035037</td>\n",
       "      <td>0.0001</td>\n",
       "      <td>0.000002</td>\n",
       "      <td>0.999767</td>\n",
       "      <td>11.0</td>\n",
       "      <td>1.0</td>\n",
       "    </tr>\n",
       "  </tbody>\n",
       "</table>\n",
       "</div>"
      ],
      "text/plain": [
       "   alpha  error.min  lambda.min  test_err     score    df  Row\n",
       "0    0.5   0.050032      0.0001  0.000002  0.999837  16.0  0.0\n",
       "1    0.6   0.049103      0.0001  0.000003  0.999789  13.0  0.0\n",
       "2    0.6   0.050583      0.0002  0.000011  0.999160  12.0  0.0\n",
       "3    0.5   0.034819      0.0001  0.000002  0.999824  16.0  1.0\n",
       "4    0.6   0.035037      0.0001  0.000002  0.999767  11.0  1.0"
      ]
     },
     "execution_count": 25,
     "metadata": {},
     "output_type": "execute_result"
    }
   ],
   "source": [
    "all_res = pd.read_csv(\"small_TPM-avg-all.df\", sep=\"\\t\")\n",
    "all_res.head()"
   ]
  },
  {
   "cell_type": "code",
   "execution_count": 49,
   "metadata": {
    "collapsed": false
   },
   "outputs": [
    {
     "name": "stdout",
     "output_type": "stream",
     "text": [
      "Test err:  2.18589326755e-06\n"
     ]
    }
   ],
   "source": [
    "enet = ElasticNet(l1_ratio=0.5, alpha=0.0001, fit_intercept=True, normalize=False, tol=0.0000001, max_iter = 100000)\n",
    "enet.fit(X_t, y_t)\n",
    "\n",
    "y_pred =enet.predict(X_t)\n",
    "test_err = np.average((y_t - y_pred)**2)\n",
    "score = enet.score(X_t, y_t)\n",
    "test_coef = enet.coef_\n",
    "print \"Test err: \", test_err"
   ]
  },
  {
   "cell_type": "code",
   "execution_count": 33,
   "metadata": {
    "collapsed": false
   },
   "outputs": [
    {
     "name": "stdout",
     "output_type": "stream",
     "text": [
      "(array([  1,   2,   8,  17,  71,  84,  85,  86,  99, 108, 117, 125, 166,\n",
      "       173, 188, 193]),)\n",
      "[[[-0.          0.        ]\n",
      "  [ 0.08923267 -0.        ]\n",
      "  [ 0.00709274 -0.        ]\n",
      "  [-0.         -0.        ]\n",
      "  [ 0.         -0.        ]\n",
      "  [-0.         -0.        ]\n",
      "  [ 0.          0.        ]\n",
      "  [ 0.         -0.        ]\n",
      "  [ 0.55916556 -0.09027642]\n",
      "  [ 0.         -0.        ]\n",
      "  [ 0.         -0.        ]\n",
      "  [ 0.         -0.        ]\n",
      "  [-0.          0.        ]\n",
      "  [ 0.          0.        ]\n",
      "  [ 0.         -0.        ]\n",
      "  [-0.         -0.        ]\n",
      "  [ 0.         -0.        ]\n",
      "  [-0.30767606  0.03783378]\n",
      "  [-0.          0.        ]\n",
      "  [-0.         -0.        ]\n",
      "  [-0.         -0.        ]\n",
      "  [ 0.         -0.        ]\n",
      "  [ 0.         -0.        ]\n",
      "  [ 0.         -0.        ]\n",
      "  [-0.          0.        ]\n",
      "  [ 0.         -0.01720717]\n",
      "  [ 0.          0.        ]\n",
      "  [-0.          0.        ]\n",
      "  [-0.         -0.        ]\n",
      "  [ 0.         -0.        ]\n",
      "  [ 0.          0.        ]\n",
      "  [ 0.         -0.        ]\n",
      "  [ 0.         -0.        ]\n",
      "  [ 0.          0.        ]\n",
      "  [-0.         -0.        ]\n",
      "  [-0.         -0.        ]\n",
      "  [-0.          0.        ]\n",
      "  [ 0.         -0.        ]\n",
      "  [ 0.          0.        ]\n",
      "  [ 0.          0.        ]\n",
      "  [ 0.         -0.        ]\n",
      "  [-0.          0.        ]\n",
      "  [ 0.         -0.        ]\n",
      "  [-0.         -0.        ]\n",
      "  [-0.         -0.        ]\n",
      "  [ 0.          0.        ]\n",
      "  [-0.         -0.        ]\n",
      "  [ 0.          0.        ]\n",
      "  [-0.          0.        ]\n",
      "  [-0.         -0.        ]\n",
      "  [-0.         -0.        ]\n",
      "  [-0.          0.        ]\n",
      "  [ 0.         -0.        ]\n",
      "  [-0.         -0.        ]\n",
      "  [ 0.          0.        ]\n",
      "  [-0.          0.        ]\n",
      "  [ 0.         -0.        ]\n",
      "  [-0.          0.        ]\n",
      "  [-0.          0.        ]\n",
      "  [ 0.         -0.        ]\n",
      "  [ 0.         -0.        ]\n",
      "  [-0.          0.        ]\n",
      "  [ 0.         -0.        ]\n",
      "  [-0.          0.        ]\n",
      "  [ 0.         -0.        ]\n",
      "  [ 0.         -0.        ]\n",
      "  [ 0.         -0.16536249]\n",
      "  [-0.         -0.        ]\n",
      "  [-0.         -0.        ]\n",
      "  [ 0.          0.        ]\n",
      "  [ 0.         -0.        ]\n",
      "  [ 0.08245924 -0.        ]\n",
      "  [ 0.         -0.        ]\n",
      "  [ 0.         -0.10547125]\n",
      "  [-0.          0.        ]\n",
      "  [ 0.          0.        ]\n",
      "  [-0.          0.        ]\n",
      "  [ 0.         -0.        ]\n",
      "  [ 0.         -0.        ]\n",
      "  [-0.         -0.        ]\n",
      "  [-0.         -0.        ]\n",
      "  [-0.         -0.        ]\n",
      "  [ 0.         -0.        ]\n",
      "  [-0.          0.        ]\n",
      "  [-0.12459674  0.        ]\n",
      "  [-0.08606583 -0.        ]\n",
      "  [-0.00322931 -0.        ]\n",
      "  [-0.         -0.        ]\n",
      "  [-0.         -0.0398724 ]\n",
      "  [-0.         -0.        ]\n",
      "  [ 0.         -0.        ]\n",
      "  [ 0.          0.        ]\n",
      "  [ 0.         -0.        ]\n",
      "  [ 0.         -0.00595422]\n",
      "  [ 0.          0.        ]\n",
      "  [ 0.         -0.        ]\n",
      "  [-0.         -0.        ]\n",
      "  [ 0.          0.        ]\n",
      "  [-0.          0.        ]\n",
      "  [ 0.20549325 -0.        ]]]\n"
     ]
    }
   ],
   "source": [
    "print np.where(enet.coef_)\n",
    "\n",
    "print np.dstack(tuple(np.split(np.array([enet.coef_]), lag, axis=1)))"
   ]
  },
  {
   "cell_type": "code",
   "execution_count": 213,
   "metadata": {
    "collapsed": false
   },
   "outputs": [
    {
     "data": {
      "text/plain": [
       "10"
      ]
     },
     "execution_count": 213,
     "metadata": {},
     "output_type": "execute_result"
    }
   ],
   "source": [
    "len(y_t)"
   ]
  },
  {
   "cell_type": "markdown",
   "metadata": {},
   "source": [
    "# Confirm cross-validation for enet"
   ]
  },
  {
   "cell_type": "code",
   "execution_count": 101,
   "metadata": {
    "collapsed": false
   },
   "outputs": [
    {
     "name": "stdout",
     "output_type": "stream",
     "text": [
      "For lag: 1\n",
      "(array([ 1,  2,  4,  5,  7,  8, 10]), array([0, 3, 6, 9]))\n",
      "(array([0, 2, 3, 5, 6, 8, 9]), array([ 1,  4,  7, 10]))\n",
      "(array([ 0,  1,  3,  4,  6,  7,  9, 10]), array([2, 5, 8]))\n",
      "For lag: 2\n",
      "(array([1, 2, 4, 5, 7, 8]), array([0, 3, 6, 9]))\n",
      "(array([0, 2, 3, 5, 6, 8, 9]), array([1, 4, 7]))\n",
      "(array([0, 1, 3, 4, 6, 7, 9]), array([2, 5, 8]))\n",
      "For lag: 3\n",
      "(array([1, 2, 4, 5, 7, 8]), array([0, 3, 6]))\n",
      "(array([0, 2, 3, 5, 6, 8]), array([1, 4, 7]))\n",
      "(array([0, 1, 3, 4, 6, 7]), array([2, 5, 8]))\n"
     ]
    }
   ],
   "source": [
    "import CausalTests as ct\n",
    "lags = [1,2,3]\n",
    "for lag in lags:\n",
    "    print \"For lag:\" , lag\n",
    "    for i in ct.get_TS_cv(12-lag, 3):\n",
    "        print i"
   ]
  },
  {
   "cell_type": "markdown",
   "metadata": {
    "collapsed": true
   },
   "source": [
    "# Confirm using same params method"
   ]
  },
  {
   "cell_type": "code",
   "execution_count": 59,
   "metadata": {
    "collapsed": true
   },
   "outputs": [],
   "source": [
    "import pandas as pd\n",
    "import geneTSmunging as gtm\n",
    "import numpy as np\n",
    "import pickle\n",
    "import CausalTests as ct"
   ]
  },
  {
   "cell_type": "code",
   "execution_count": 60,
   "metadata": {
    "collapsed": false
   },
   "outputs": [
    {
     "name": "stdout",
     "output_type": "stream",
     "text": [
      "Avg + STD loaded\n",
      "Avg + STD loaded\n"
     ]
    }
   ],
   "source": [
    "df = gtm.load_file_and_avg(\"../data/GeneExpressionData/small_TPM-avg.txt\")\n",
    "dfr = gtm.load_file_and_avg(\"../data/GeneExpressionData/small_TPM-randomized-avg.txt\")\n",
    "genes = df['gene'].values\n",
    "\n",
    "found_genes, geneTS = gtm.get_gene_TS(df, genes)\n",
    "\n",
    "found_genesr, geneTSr = gtm.get_gene_TS(dfr, dfr[\"gene\"].values)\n",
    "\n",
    "matr1 = geneTS\n",
    "matr2 = geneTSr\n",
    "model_order = 2\n",
    "n, T = np.array(matr1).shape\n",
    "lag = model_order\n",
    "rowlist = [0, 4]\n",
    "\n",
    "args_dict = ct.load_kwargs_file(argsfile=\"enet_args-2.txt\")"
   ]
  },
  {
   "cell_type": "code",
   "execution_count": 61,
   "metadata": {
    "collapsed": false
   },
   "outputs": [
    {
     "name": "stderr",
     "output_type": "stream",
     "text": [
      "/Library/Frameworks/Python.framework/Versions/2.7/lib/python2.7/site-packages/sklearn/cross_validation.py:417: Warning: The least populated class in y has only 1 members, which is too few. The minimum number of labels for any class cannot be less than n_folds=3.\n",
      "  % (min_labels, self.n_folds)), Warning)\n"
     ]
    },
    {
     "name": "stdout",
     "output_type": "stream",
     "text": [
      "CV is  sklearn.cross_validation.StratifiedKFold(labels=[0 0 0 1 1 1 2 2 2 3], n_folds=3, shuffle=False, random_state=None)\n",
      "Num cv alphas:  2000\n",
      "Top num  1000\n",
      "CV is  sklearn.cross_validation.StratifiedKFold(labels=[0 0 0 1 1 1 2 2 2 3], n_folds=3, shuffle=False, random_state=None)\n",
      "Num cv alphas:  2000\n",
      "Top num  1000\n",
      "Shape of beta tuple is  (2, 100, 2)\n"
     ]
    }
   ],
   "source": [
    "beta_tuple, all_res_df, use_df = ct.enet_granger_causality_row_cv(geneTS, geneTS, rowlist, **args_dict)"
   ]
  },
  {
   "cell_type": "code",
   "execution_count": 62,
   "metadata": {
    "collapsed": false
   },
   "outputs": [
    {
     "data": {
      "text/html": [
       "<div>\n",
       "<table border=\"1\" class=\"dataframe\">\n",
       "  <thead>\n",
       "    <tr style=\"text-align: right;\">\n",
       "      <th></th>\n",
       "      <th>alpha</th>\n",
       "      <th>error.min</th>\n",
       "      <th>lambda.min</th>\n",
       "      <th>test_err</th>\n",
       "      <th>score</th>\n",
       "      <th>df</th>\n",
       "      <th>Row</th>\n",
       "    </tr>\n",
       "  </thead>\n",
       "  <tbody>\n",
       "    <tr>\n",
       "      <th>0</th>\n",
       "      <td>0.521579</td>\n",
       "      <td>0.054176</td>\n",
       "      <td>2.70023e-05</td>\n",
       "      <td>1.6977e-07</td>\n",
       "      <td>0.999987</td>\n",
       "      <td>15</td>\n",
       "      <td>0</td>\n",
       "    </tr>\n",
       "    <tr>\n",
       "      <th>1</th>\n",
       "      <td>0.99</td>\n",
       "      <td>0.0216294</td>\n",
       "      <td>1.08481e-05</td>\n",
       "      <td>4.14845e-08</td>\n",
       "      <td>0.999995</td>\n",
       "      <td>11</td>\n",
       "      <td>4</td>\n",
       "    </tr>\n",
       "  </tbody>\n",
       "</table>\n",
       "</div>"
      ],
      "text/plain": [
       "      alpha  error.min   lambda.min     test_err     score  df Row\n",
       "0  0.521579   0.054176  2.70023e-05   1.6977e-07  0.999987  15   0\n",
       "1      0.99  0.0216294  1.08481e-05  4.14845e-08  0.999995  11   4"
      ]
     },
     "execution_count": 62,
     "metadata": {},
     "output_type": "execute_result"
    }
   ],
   "source": [
    "use_df.head()"
   ]
  },
  {
   "cell_type": "code",
   "execution_count": 63,
   "metadata": {
    "collapsed": true
   },
   "outputs": [],
   "source": [
    "param_df = use_df[[\"alpha\", \"lambda.min\", \"Row\"]]"
   ]
  },
  {
   "cell_type": "code",
   "execution_count": 64,
   "metadata": {
    "collapsed": false
   },
   "outputs": [
    {
     "name": "stdout",
     "output_type": "stream",
     "text": [
      "Shape of beta tuple is  (2, 100, 2)\n",
      "      alpha   lambda.min Row     test_err     score  df\n",
      "0  0.521579  2.70023e-05   0  4.30082e-08  0.999997  11\n",
      "1      0.99  1.08481e-05   4   2.5596e-08  0.999997  11\n",
      "      alpha   lambda.min Row     test_err     score  df\n",
      "0  0.521579  2.70023e-05   0  4.30082e-08  0.999997  11\n",
      "1      0.99  1.08481e-05   4   2.5596e-08  0.999997  11\n"
     ]
    }
   ],
   "source": [
    "rand_beta_tuple, rand_all_res_df, rand_use_df = ct.enet_granger_causality_row_load(geneTSr, geneTS, rowlist, param_df,**args_dict )\n",
    "\n",
    "print rand_all_res_df.head()\n",
    "print rand_use_df.head()\n"
   ]
  },
  {
   "cell_type": "markdown",
   "metadata": {},
   "source": [
    "### compare to script"
   ]
  },
  {
   "cell_type": "code",
   "execution_count": 33,
   "metadata": {
    "collapsed": true
   },
   "outputs": [],
   "source": [
    "all_res_dft = pd.read_csv(\"Enet/test-small-TPM-enet-all-params.txt\", sep=\"\\t\")\n",
    "use_dft = pd.read_csv(\"Enet/test-small-TPM-enet-use-params.txt\", sep=\"\\t\")\n",
    "rand_all_res_dft = pd.read_csv(\"Enet/test-small-TPM-enet-all-params-randomized.txt\", sep=\"\\t\")\n",
    "rand_use_dft = pd.read_csv(\"Enet/test-small-TPM-enet-use-params-randomized.txt\", sep=\"\\t\")"
   ]
  },
  {
   "cell_type": "code",
   "execution_count": 35,
   "metadata": {
    "collapsed": false
   },
   "outputs": [
    {
     "name": "stdout",
     "output_type": "stream",
     "text": [
      "(2000, 7) (100000, 7) (2000, 7)\n",
      "     alpha  error.min   lambda.min     test_err     score  df Row\n",
      "1032   0.1  0.0368158  0.000102578  1.20316e-06   0.99988  37   4\n",
      "1038   0.1  0.0368136  0.000109991  1.38157e-06  0.999862  37   4\n",
      "1044   0.1  0.0368129  0.000117939  1.58629e-06  0.999841  37   4\n",
      "1050   0.1  0.0368105  0.000126463  1.82122e-06  0.999818  37   4\n",
      "1056   0.1  0.0368089  0.000135602  2.09075e-06  0.999791  37   4\n",
      "      alpha  error.min  lambda.min  test_err     score    df  Row\n",
      "4032    0.1   0.036816    0.000103  0.000001  0.999880  37.0  4.0\n",
      "4038    0.1   0.036814    0.000110  0.000001  0.999862  37.0  4.0\n",
      "4044    0.1   0.036813    0.000118  0.000002  0.999841  37.0  4.0\n",
      "4050    0.1   0.036810    0.000126  0.000002  0.999818  37.0  4.0\n",
      "4056    0.1   0.036809    0.000136  0.000002  0.999791  37.0  4.0\n",
      "(2, 7) (100, 7) (2, 7)\n",
      "      alpha  error.min   lambda.min     test_err     score  df Row\n",
      "1  0.334211  0.0454934  3.06926e-05   3.5283e-07  0.999965  20   4\n",
      "0  0.334211   0.042426  4.91357e-05  7.96538e-07  0.999936  22   0\n",
      "      alpha  error.min  lambda.min      test_err     score    df  Row\n",
      "4  0.334211   0.045493    0.000031  3.528302e-07  0.999965  20.0  4.0\n",
      "0  0.334211   0.042426    0.000049  7.965378e-07  0.999936  22.0  0.0\n",
      "(2, 6) (100, 6) (2, 6)\n",
      "      alpha   lambda.min Row     test_err     score  df\n",
      "1  0.334211  3.06926e-05   4   3.6297e-08  0.999996  15\n",
      "0  0.334211  4.91357e-05   0  7.13761e-08  0.999995  12\n",
      "      alpha  lambda.min  Row      test_err     score    df\n",
      "4  0.334211    0.000031  4.0  3.629699e-08  0.999996  15.0\n",
      "0  0.334211    0.000049  0.0  7.137608e-08  0.999995  12.0\n",
      "(2, 6) (100, 6) (2, 6)\n",
      "      alpha   lambda.min Row     test_err     score  df\n",
      "1  0.334211  3.06926e-05   4   3.6297e-08  0.999996  15\n",
      "0  0.334211  4.91357e-05   0  7.13761e-08  0.999995  12\n",
      "      alpha  lambda.min  Row      test_err     score    df\n",
      "4  0.334211    0.000031  4.0  3.629699e-08  0.999996  15.0\n",
      "0  0.334211    0.000049  0.0  7.137608e-08  0.999995  12.0\n"
     ]
    },
    {
     "name": "stderr",
     "output_type": "stream",
     "text": [
      "/Library/Frameworks/Python.framework/Versions/2.7/lib/python2.7/site-packages/ipykernel/__main__.py:9: SettingWithCopyWarning: \n",
      "A value is trying to be set on a copy of a slice from a DataFrame\n",
      "\n",
      "See the caveats in the documentation: http://pandas.pydata.org/pandas-docs/stable/indexing.html#indexing-view-versus-copy\n"
     ]
    }
   ],
   "source": [
    "orig = [all_res_df, use_df, rand_all_res_df, rand_use_df]\n",
    "test = [all_res_dft, use_dft, rand_all_res_dft, rand_use_dft]\n",
    "\n",
    "comps = zip(orig, test)\n",
    "\n",
    "for dfo, dft in comps:\n",
    "    dfot = dft[dft[\"Row\"].isin({0,4})]\n",
    "    dfo.sort_values([\"alpha\", \"lambda.min\"], inplace=True)\n",
    "    dfot.sort_values([\"alpha\", \"lambda.min\"], inplace=True)\n",
    "    print dfo.shape, dft.shape, dfot.shape\n",
    "    print dfo.head()\n",
    "    print dfot.head()\n"
   ]
  },
  {
   "cell_type": "markdown",
   "metadata": {},
   "source": [
    "### the same params were used, confirmed"
   ]
  },
  {
   "cell_type": "code",
   "execution_count": 65,
   "metadata": {
    "collapsed": false
   },
   "outputs": [],
   "source": [
    "beta_tuplet = pickle.load(open(\"Enet/test-small-TPM-enet.p\", 'rB'))\n",
    "rand_beta_tuplet = pickle.load(open(\"Enet/test-small-TPM-enet-randomized.p\", 'rB'))"
   ]
  },
  {
   "cell_type": "code",
   "execution_count": 66,
   "metadata": {
    "collapsed": false
   },
   "outputs": [
    {
     "data": {
      "text/plain": [
       "(100, 100, 2)"
      ]
     },
     "execution_count": 66,
     "metadata": {},
     "output_type": "execute_result"
    }
   ],
   "source": [
    "beta_tuplet.shape"
   ]
  },
  {
   "cell_type": "code",
   "execution_count": 67,
   "metadata": {
    "collapsed": false
   },
   "outputs": [
    {
     "data": {
      "text/plain": [
       "(2, 100, 2)"
      ]
     },
     "execution_count": 67,
     "metadata": {},
     "output_type": "execute_result"
    }
   ],
   "source": [
    "beta_tuple.shape"
   ]
  },
  {
   "cell_type": "code",
   "execution_count": 68,
   "metadata": {
    "collapsed": false
   },
   "outputs": [
    {
     "name": "stdout",
     "output_type": "stream",
     "text": [
      "[[ True  True]\n",
      " [False  True]\n",
      " [False  True]\n",
      " [ True  True]\n",
      " [ True  True]\n",
      " [ True  True]\n",
      " [ True  True]\n",
      " [ True  True]\n",
      " [False False]\n",
      " [ True  True]\n",
      " [ True  True]\n",
      " [ True  True]\n",
      " [ True  True]\n",
      " [ True  True]\n",
      " [ True  True]\n",
      " [ True  True]\n",
      " [ True  True]\n",
      " [False False]\n",
      " [ True  True]\n",
      " [ True  True]\n",
      " [ True  True]\n",
      " [ True  True]\n",
      " [ True  True]\n",
      " [ True  True]\n",
      " [ True  True]\n",
      " [ True False]\n",
      " [ True  True]\n",
      " [ True  True]\n",
      " [ True  True]\n",
      " [ True  True]\n",
      " [ True  True]\n",
      " [ True  True]\n",
      " [ True  True]\n",
      " [ True  True]\n",
      " [ True  True]\n",
      " [ True  True]\n",
      " [ True  True]\n",
      " [ True  True]\n",
      " [ True  True]\n",
      " [ True  True]\n",
      " [ True  True]\n",
      " [ True  True]\n",
      " [ True  True]\n",
      " [ True  True]\n",
      " [ True  True]\n",
      " [ True  True]\n",
      " [ True  True]\n",
      " [ True  True]\n",
      " [ True  True]\n",
      " [ True  True]\n",
      " [ True  True]\n",
      " [ True  True]\n",
      " [ True  True]\n",
      " [ True  True]\n",
      " [ True  True]\n",
      " [ True  True]\n",
      " [ True  True]\n",
      " [ True  True]\n",
      " [ True  True]\n",
      " [ True  True]\n",
      " [ True  True]\n",
      " [ True  True]\n",
      " [ True  True]\n",
      " [ True  True]\n",
      " [ True  True]\n",
      " [ True  True]\n",
      " [ True False]\n",
      " [ True  True]\n",
      " [ True  True]\n",
      " [ True  True]\n",
      " [ True  True]\n",
      " [False  True]\n",
      " [ True  True]\n",
      " [ True False]\n",
      " [ True  True]\n",
      " [ True  True]\n",
      " [ True  True]\n",
      " [ True  True]\n",
      " [ True  True]\n",
      " [ True  True]\n",
      " [ True  True]\n",
      " [ True  True]\n",
      " [ True  True]\n",
      " [ True  True]\n",
      " [False  True]\n",
      " [False  True]\n",
      " [ True  True]\n",
      " [ True  True]\n",
      " [ True False]\n",
      " [ True  True]\n",
      " [ True  True]\n",
      " [ True  True]\n",
      " [ True  True]\n",
      " [ True False]\n",
      " [ True  True]\n",
      " [ True  True]\n",
      " [ True  True]\n",
      " [ True  True]\n",
      " [ True  True]\n",
      " [False  True]]\n",
      "[[ True  True]\n",
      " [ True  True]\n",
      " [ True  True]\n",
      " [ True  True]\n",
      " [ True  True]\n",
      " [ True  True]\n",
      " [ True  True]\n",
      " [ True  True]\n",
      " [ True  True]\n",
      " [ True  True]\n",
      " [ True  True]\n",
      " [ True  True]\n",
      " [ True  True]\n",
      " [ True  True]\n",
      " [ True  True]\n",
      " [ True  True]\n",
      " [ True  True]\n",
      " [ True  True]\n",
      " [ True  True]\n",
      " [ True  True]\n",
      " [ True  True]\n",
      " [ True  True]\n",
      " [ True  True]\n",
      " [ True  True]\n",
      " [ True  True]\n",
      " [ True  True]\n",
      " [ True  True]\n",
      " [ True  True]\n",
      " [ True  True]\n",
      " [ True  True]\n",
      " [ True  True]\n",
      " [ True  True]\n",
      " [ True  True]\n",
      " [ True  True]\n",
      " [ True  True]\n",
      " [ True  True]\n",
      " [ True  True]\n",
      " [ True  True]\n",
      " [ True  True]\n",
      " [ True  True]\n",
      " [ True  True]\n",
      " [ True  True]\n",
      " [ True  True]\n",
      " [ True  True]\n",
      " [ True  True]\n",
      " [ True  True]\n",
      " [ True  True]\n",
      " [ True  True]\n",
      " [ True  True]\n",
      " [ True  True]\n",
      " [ True  True]\n",
      " [ True  True]\n",
      " [ True  True]\n",
      " [ True  True]\n",
      " [ True  True]\n",
      " [ True  True]\n",
      " [ True  True]\n",
      " [ True  True]\n",
      " [ True  True]\n",
      " [ True  True]\n",
      " [ True  True]\n",
      " [ True  True]\n",
      " [ True  True]\n",
      " [ True  True]\n",
      " [ True  True]\n",
      " [ True  True]\n",
      " [ True  True]\n",
      " [ True  True]\n",
      " [ True  True]\n",
      " [ True  True]\n",
      " [ True  True]\n",
      " [ True  True]\n",
      " [ True  True]\n",
      " [ True  True]\n",
      " [ True  True]\n",
      " [ True  True]\n",
      " [ True  True]\n",
      " [ True  True]\n",
      " [ True  True]\n",
      " [ True  True]\n",
      " [ True  True]\n",
      " [ True  True]\n",
      " [ True  True]\n",
      " [ True  True]\n",
      " [ True  True]\n",
      " [ True  True]\n",
      " [ True  True]\n",
      " [ True  True]\n",
      " [ True  True]\n",
      " [ True  True]\n",
      " [ True  True]\n",
      " [ True  True]\n",
      " [ True  True]\n",
      " [ True  True]\n",
      " [ True  True]\n",
      " [ True  True]\n",
      " [ True  True]\n",
      " [ True  True]\n",
      " [ True  True]\n",
      " [ True  True]]\n"
     ]
    }
   ],
   "source": [
    "print beta_tuplet[0] == beta_tuple[0]\n",
    "print beta_tuplet[4] == beta_tuple[1]"
   ]
  },
  {
   "cell_type": "code",
   "execution_count": 69,
   "metadata": {
    "collapsed": false
   },
   "outputs": [
    {
     "data": {
      "text/plain": [
       "(2, 100, 2)"
      ]
     },
     "execution_count": 69,
     "metadata": {},
     "output_type": "execute_result"
    }
   ],
   "source": [
    "rand_beta_tuple.shape"
   ]
  },
  {
   "cell_type": "code",
   "execution_count": 70,
   "metadata": {
    "collapsed": false,
    "scrolled": true
   },
   "outputs": [
    {
     "data": {
      "text/plain": [
       "(100, 100, 2)"
      ]
     },
     "execution_count": 70,
     "metadata": {},
     "output_type": "execute_result"
    }
   ],
   "source": [
    "rand_beta_tuplet.shape"
   ]
  },
  {
   "cell_type": "code",
   "execution_count": 71,
   "metadata": {
    "collapsed": false
   },
   "outputs": [
    {
     "name": "stdout",
     "output_type": "stream",
     "text": [
      "[[ 0.  0.]\n",
      " [ 0.  0.]\n",
      " [ 0.  0.]\n",
      " [ 0.  0.]\n",
      " [ 0.  0.]\n",
      " [ 0.  0.]\n",
      " [ 0.  0.]\n",
      " [ 0.  0.]\n",
      " [ 0.  0.]\n",
      " [ 0.  0.]\n",
      " [ 0.  0.]\n",
      " [ 0.  0.]\n",
      " [ 0.  0.]\n",
      " [ 0.  0.]\n",
      " [ 0.  0.]\n",
      " [ 0.  0.]\n",
      " [ 0.  0.]\n",
      " [ 0.  0.]\n",
      " [ 0.  0.]\n",
      " [ 0.  0.]\n",
      " [ 0.  0.]\n",
      " [ 0.  0.]\n",
      " [ 0.  0.]\n",
      " [ 0.  0.]\n",
      " [ 0.  0.]\n",
      " [ 0.  0.]\n",
      " [ 0.  0.]\n",
      " [ 0.  0.]\n",
      " [ 0.  0.]\n",
      " [ 0.  0.]\n",
      " [ 0.  0.]\n",
      " [ 0.  0.]\n",
      " [ 0.  0.]\n",
      " [ 0.  0.]\n",
      " [ 0.  0.]\n",
      " [ 0.  0.]\n",
      " [ 0.  0.]\n",
      " [ 0.  0.]\n",
      " [ 0.  0.]\n",
      " [ 0.  0.]\n",
      " [ 0.  0.]\n",
      " [ 0.  0.]\n",
      " [ 0.  0.]\n",
      " [ 0.  0.]\n",
      " [ 0.  0.]\n",
      " [ 0.  0.]\n",
      " [ 0.  0.]\n",
      " [ 0.  0.]\n",
      " [ 0.  0.]\n",
      " [ 0.  0.]\n",
      " [ 0.  0.]\n",
      " [ 0.  0.]\n",
      " [ 0.  0.]\n",
      " [ 0.  0.]\n",
      " [ 0.  0.]\n",
      " [ 0.  0.]\n",
      " [ 0.  0.]\n",
      " [ 0.  0.]\n",
      " [ 0.  0.]\n",
      " [ 0.  0.]\n",
      " [ 0.  0.]\n",
      " [ 0.  0.]\n",
      " [ 0.  0.]\n",
      " [ 0.  0.]\n",
      " [ 0.  0.]\n",
      " [ 0.  0.]\n",
      " [ 0.  0.]\n",
      " [ 0.  0.]\n",
      " [ 0.  0.]\n",
      " [ 0.  0.]\n",
      " [ 0.  0.]\n",
      " [ 0.  0.]\n",
      " [ 0.  0.]\n",
      " [ 0.  0.]\n",
      " [ 0.  0.]\n",
      " [ 0.  0.]\n",
      " [ 0.  0.]\n",
      " [ 0.  0.]\n",
      " [ 0.  0.]\n",
      " [ 0.  0.]\n",
      " [ 0.  0.]\n",
      " [ 0.  0.]\n",
      " [ 0.  0.]\n",
      " [ 0.  0.]\n",
      " [ 0.  0.]\n",
      " [ 0.  0.]\n",
      " [ 0.  0.]\n",
      " [ 0.  0.]\n",
      " [ 0.  0.]\n",
      " [ 0.  0.]\n",
      " [ 0.  0.]\n",
      " [ 0.  0.]\n",
      " [ 0.  0.]\n",
      " [ 0.  0.]\n",
      " [ 0.  0.]\n",
      " [ 0.  0.]\n",
      " [ 0.  0.]\n",
      " [ 0.  0.]\n",
      " [ 0.  0.]\n",
      " [ 0.  0.]]\n",
      "[[  0.00000000e+00   0.00000000e+00]\n",
      " [  0.00000000e+00   0.00000000e+00]\n",
      " [  2.77555756e-16   4.99600361e-16]\n",
      " [  0.00000000e+00   0.00000000e+00]\n",
      " [  0.00000000e+00   0.00000000e+00]\n",
      " [  0.00000000e+00   0.00000000e+00]\n",
      " [  0.00000000e+00   0.00000000e+00]\n",
      " [  0.00000000e+00  -6.31439345e-16]\n",
      " [ -3.88578059e-16   0.00000000e+00]\n",
      " [  0.00000000e+00   0.00000000e+00]\n",
      " [  0.00000000e+00   0.00000000e+00]\n",
      " [  0.00000000e+00   0.00000000e+00]\n",
      " [  0.00000000e+00   0.00000000e+00]\n",
      " [  0.00000000e+00   0.00000000e+00]\n",
      " [  0.00000000e+00   0.00000000e+00]\n",
      " [  0.00000000e+00   0.00000000e+00]\n",
      " [  0.00000000e+00   0.00000000e+00]\n",
      " [  0.00000000e+00   0.00000000e+00]\n",
      " [  0.00000000e+00   0.00000000e+00]\n",
      " [  0.00000000e+00   0.00000000e+00]\n",
      " [  0.00000000e+00   0.00000000e+00]\n",
      " [  0.00000000e+00   0.00000000e+00]\n",
      " [  0.00000000e+00   0.00000000e+00]\n",
      " [  0.00000000e+00   0.00000000e+00]\n",
      " [  0.00000000e+00   0.00000000e+00]\n",
      " [  0.00000000e+00  -9.57567359e-16]\n",
      " [  0.00000000e+00   0.00000000e+00]\n",
      " [  0.00000000e+00   0.00000000e+00]\n",
      " [  0.00000000e+00   0.00000000e+00]\n",
      " [  0.00000000e+00   0.00000000e+00]\n",
      " [  0.00000000e+00   0.00000000e+00]\n",
      " [  0.00000000e+00   0.00000000e+00]\n",
      " [  0.00000000e+00   0.00000000e+00]\n",
      " [  0.00000000e+00   0.00000000e+00]\n",
      " [  0.00000000e+00   0.00000000e+00]\n",
      " [  0.00000000e+00   0.00000000e+00]\n",
      " [  1.11022302e-16   0.00000000e+00]\n",
      " [  0.00000000e+00   0.00000000e+00]\n",
      " [  0.00000000e+00   0.00000000e+00]\n",
      " [  0.00000000e+00   0.00000000e+00]\n",
      " [  0.00000000e+00   0.00000000e+00]\n",
      " [  0.00000000e+00   0.00000000e+00]\n",
      " [  0.00000000e+00   0.00000000e+00]\n",
      " [  0.00000000e+00   0.00000000e+00]\n",
      " [  0.00000000e+00   0.00000000e+00]\n",
      " [  0.00000000e+00   0.00000000e+00]\n",
      " [  0.00000000e+00   0.00000000e+00]\n",
      " [  0.00000000e+00   0.00000000e+00]\n",
      " [  0.00000000e+00   0.00000000e+00]\n",
      " [  0.00000000e+00   0.00000000e+00]\n",
      " [  0.00000000e+00   0.00000000e+00]\n",
      " [  0.00000000e+00   0.00000000e+00]\n",
      " [ -1.32185929e-15   0.00000000e+00]\n",
      " [  0.00000000e+00   0.00000000e+00]\n",
      " [  0.00000000e+00   0.00000000e+00]\n",
      " [  0.00000000e+00   0.00000000e+00]\n",
      " [  0.00000000e+00   0.00000000e+00]\n",
      " [  0.00000000e+00   0.00000000e+00]\n",
      " [  0.00000000e+00   0.00000000e+00]\n",
      " [  0.00000000e+00   0.00000000e+00]\n",
      " [  0.00000000e+00   0.00000000e+00]\n",
      " [  0.00000000e+00   0.00000000e+00]\n",
      " [  0.00000000e+00   0.00000000e+00]\n",
      " [  0.00000000e+00   0.00000000e+00]\n",
      " [  0.00000000e+00   0.00000000e+00]\n",
      " [  0.00000000e+00   0.00000000e+00]\n",
      " [  0.00000000e+00   0.00000000e+00]\n",
      " [  0.00000000e+00   0.00000000e+00]\n",
      " [  0.00000000e+00   0.00000000e+00]\n",
      " [  0.00000000e+00   0.00000000e+00]\n",
      " [  0.00000000e+00   0.00000000e+00]\n",
      " [  0.00000000e+00   0.00000000e+00]\n",
      " [  0.00000000e+00   0.00000000e+00]\n",
      " [  0.00000000e+00   0.00000000e+00]\n",
      " [  0.00000000e+00   0.00000000e+00]\n",
      " [  0.00000000e+00   0.00000000e+00]\n",
      " [  0.00000000e+00   0.00000000e+00]\n",
      " [  0.00000000e+00   0.00000000e+00]\n",
      " [  0.00000000e+00   0.00000000e+00]\n",
      " [  0.00000000e+00   3.19189120e-16]\n",
      " [  0.00000000e+00   0.00000000e+00]\n",
      " [  0.00000000e+00   0.00000000e+00]\n",
      " [  0.00000000e+00   0.00000000e+00]\n",
      " [  0.00000000e+00   0.00000000e+00]\n",
      " [  0.00000000e+00  -2.77555756e-17]\n",
      " [  4.92661467e-16   0.00000000e+00]\n",
      " [  0.00000000e+00   6.93889390e-18]\n",
      " [  0.00000000e+00   0.00000000e+00]\n",
      " [  0.00000000e+00   0.00000000e+00]\n",
      " [  0.00000000e+00   0.00000000e+00]\n",
      " [  0.00000000e+00   0.00000000e+00]\n",
      " [  0.00000000e+00   0.00000000e+00]\n",
      " [  0.00000000e+00   0.00000000e+00]\n",
      " [  0.00000000e+00   0.00000000e+00]\n",
      " [  0.00000000e+00   0.00000000e+00]\n",
      " [  0.00000000e+00   0.00000000e+00]\n",
      " [  0.00000000e+00   0.00000000e+00]\n",
      " [  0.00000000e+00   0.00000000e+00]\n",
      " [  0.00000000e+00   0.00000000e+00]\n",
      " [  0.00000000e+00   0.00000000e+00]]\n"
     ]
    }
   ],
   "source": [
    "print rand_beta_tuplet[0] - rand_beta_tuple[0]\n",
    "print rand_beta_tuplet[4] - rand_beta_tuple[1]"
   ]
  }
 ],
 "metadata": {
  "kernelspec": {
   "display_name": "Python 2",
   "language": "python",
   "name": "python2"
  },
  "language_info": {
   "codemirror_mode": {
    "name": "ipython",
    "version": 2
   },
   "file_extension": ".py",
   "mimetype": "text/x-python",
   "name": "python",
   "nbconvert_exporter": "python",
   "pygments_lexer": "ipython2",
   "version": "2.7.10"
  }
 },
 "nbformat": 4,
 "nbformat_minor": 0
}
